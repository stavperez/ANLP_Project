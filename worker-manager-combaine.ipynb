{
 "cells": [
  {
   "cell_type": "code",
   "execution_count": 7,
   "id": "e608ce6d",
   "metadata": {},
   "outputs": [],
   "source": [
    "import pandas as pd\n",
    "from transformers import AutoModelForQuestionAnswering, AutoTokenizer, pipeline\n",
    "import torch\n",
    "from huggingface_hub import login\n",
    "import json"
   ]
  },
  {
   "cell_type": "code",
   "execution_count": 1,
   "id": "e6dcd932",
   "metadata": {},
   "outputs": [],
   "source": [
    "from datasets import load_dataset"
   ]
  },
  {
   "cell_type": "code",
   "execution_count": null,
   "id": "e7bac6bf",
   "metadata": {},
   "outputs": [],
   "source": [
    "from transformers import T5ForConditionalGeneration, T5Tokenizer, pipeline\n",
    "# from transformers import AutoModelForQuestionAnswering, AutoTokenizer, pipeline"
   ]
  },
  {
   "cell_type": "code",
   "execution_count": 3,
   "id": "e2637053",
   "metadata": {},
   "outputs": [],
   "source": [
    "import torch\n",
    "import re\n",
    "import os"
   ]
  },
  {
   "cell_type": "code",
   "execution_count": 4,
   "id": "ae377b96",
   "metadata": {},
   "outputs": [],
   "source": [
    "model_path = \"courses/ANLP/project/flan-t5-small-question-decomp-ver-1.0.3/\""
   ]
  },
  {
   "cell_type": "code",
   "execution_count": 8,
   "id": "85a1fc5c",
   "metadata": {},
   "outputs": [],
   "source": [
    "# Force load from safetensors\n",
    "model_decompose = T5ForConditionalGeneration.from_pretrained(model_path)\n",
    "tokenizer_decompose = T5Tokenizer.from_pretrained(model_path)\n",
    "\n",
    "def decompose(input_text: str) -> str:\n",
    "    inputs = tokenizer_decompose(input_text, return_tensors=\"pt\", truncation=True)\n",
    "    outputs = model_decompose.generate(**inputs, max_new_tokens=128)\n",
    "    return tokenizer_decompose.decode(outputs[0], skip_special_tokens=True)"
   ]
  },
  {
   "cell_type": "code",
   "execution_count": 9,
   "id": "3ac3146b",
   "metadata": {},
   "outputs": [],
   "source": [
    "def decomposion_to_dict(decomposed: str) -> dict:\n",
    "    result = {}\n",
    "    # Split into lines, in case they are separated by newlines or just numbered with spaces\n",
    "    parts = re.findall(r'(\\d+):\\s*(.+?)(?=(?:\\d+:|$))', decomposed, re.DOTALL)\n",
    "    \n",
    "    for number, question in parts:\n",
    "        # Find all references in the form #<number>\n",
    "        placeholders = re.findall(r'#(\\d+)', question)\n",
    "        result[number] = {\n",
    "            'q': question.strip(),\n",
    "            'placeholders': placeholders\n",
    "        }\n",
    "    \n",
    "    return result"
   ]
  },
  {
   "cell_type": "code",
   "execution_count": 10,
   "id": "96b63595",
   "metadata": {},
   "outputs": [],
   "source": [
    "# with open('worker_model/keys.json', 'r') as f:  \n",
    "#     keys = json.load(f)\n",
    "#     login(keys['hf_token_read'])"
   ]
  },
  {
   "cell_type": "code",
   "execution_count": null,
   "id": "1c8a1818",
   "metadata": {},
   "outputs": [],
   "source": [
    "login(\"HuggingFaceToken\")"
   ]
  },
  {
   "cell_type": "code",
   "execution_count": 12,
   "id": "40d682ae",
   "metadata": {},
   "outputs": [
    {
     "name": "stdout",
     "output_type": "stream",
     "text": [
      "Using device: cuda\n"
     ]
    }
   ],
   "source": [
    "device = torch.device(\"cuda\" if torch.cuda.is_available() else \"cpu\")\n",
    "print(f\"Using device: {device}\")"
   ]
  },
  {
   "cell_type": "code",
   "execution_count": 13,
   "id": "07b28e2e",
   "metadata": {},
   "outputs": [],
   "source": [
    "# model_name = \"google-bert/bert-large-uncased-whole-word-masking-finetuned-squad\"\n",
    "# model_qa = pipeline('question-answering', model=model_name, tokenizer=model_name)"
   ]
  },
  {
   "cell_type": "code",
   "execution_count": 14,
   "id": "3aa61160",
   "metadata": {},
   "outputs": [],
   "source": [
    "# model_name = \"deepset/xlm-roberta-large-squad2\"\n",
    "# model_qa = pipeline('question-answering', model=model_name, tokenizer=model_name)"
   ]
  },
  {
   "cell_type": "code",
   "execution_count": 15,
   "id": "9cfa0d14",
   "metadata": {},
   "outputs": [
    {
     "name": "stderr",
     "output_type": "stream",
     "text": [
      "Device set to use cuda:0\n"
     ]
    }
   ],
   "source": [
    "model_name = \"deepset/roberta-base-squad2\"\n",
    "model_qa = pipeline('question-answering', model=model_name, tokenizer=model_name)"
   ]
  },
  {
   "cell_type": "code",
   "execution_count": 16,
   "id": "2e4d2758",
   "metadata": {},
   "outputs": [
    {
     "name": "stderr",
     "output_type": "stream",
     "text": [
      "Some weights of the model checkpoint at bert-base-uncased were not used when initializing BertForMaskedLM: ['bert.pooler.dense.bias', 'bert.pooler.dense.weight', 'cls.seq_relationship.bias', 'cls.seq_relationship.weight']\n",
      "- This IS expected if you are initializing BertForMaskedLM from the checkpoint of a model trained on another task or with another architecture (e.g. initializing a BertForSequenceClassification model from a BertForPreTraining model).\n",
      "- This IS NOT expected if you are initializing BertForMaskedLM from the checkpoint of a model that you expect to be exactly identical (initializing a BertForSequenceClassification model from a BertForSequenceClassification model).\n",
      "Device set to use cuda:0\n"
     ]
    }
   ],
   "source": [
    "unmasker = pipeline('fill-mask', model='bert-base-uncased')"
   ]
  },
  {
   "cell_type": "code",
   "execution_count": 17,
   "id": "3dbdf42b",
   "metadata": {},
   "outputs": [],
   "source": [
    "def find_first_root_question(questions_dict: dict) -> tuple[str, str] | None:\n",
    "    for key, value in questions_dict.items():\n",
    "        if not value.get('placeholders') and 'a' not in value:\n",
    "            return key, value['q']\n",
    "    return None"
   ]
  },
  {
   "cell_type": "code",
   "execution_count": 18,
   "id": "71478a78",
   "metadata": {},
   "outputs": [],
   "source": [
    "import re\n",
    "from typing import Dict, Tuple\n",
    "\n",
    "def update_qst_dict_with_answer(key_and_answer: Tuple[str, str], qst_dict: Dict[str, dict]) -> Dict[str, dict]:\n",
    "    key, answer = key_and_answer\n",
    "    \n",
    "    # Step 1: Add the answer to the corresponding question\n",
    "    qst_dict[key]['a'] = answer\n",
    "\n",
    "    # Step 2: Replace #<key> in other questions with the answer\n",
    "    for other_key, entry in qst_dict.items():\n",
    "        if other_key == key:\n",
    "            continue\n",
    "        if key in entry.get('placeholders', []):\n",
    "            # Replace #<key> with the answer in the question string\n",
    "            entry['q'] = re.sub(fr'#\\b{re.escape(key)}\\b', answer, entry['q'])\n",
    "            # Remove the key from the placeholders list\n",
    "            entry['placeholders'] = [ph for ph in entry['placeholders'] if ph != key]\n",
    "\n",
    "    return qst_dict"
   ]
  },
  {
   "cell_type": "markdown",
   "id": "e3580983",
   "metadata": {},
   "source": [
    "## Examples"
   ]
  },
  {
   "cell_type": "code",
   "execution_count": null,
   "id": "107abc89",
   "metadata": {},
   "outputs": [],
   "source": [
    "context = \"Snoopy is a beagle, a breed of dog known for its friendly and playful nature. He is a fictional character from the Peanuts comic strip created by Charles M. Schulz.\"\n",
    "original_text = \"What is the index of the the second letter in the word of the name of the kind of animal Snoopy is?\""
   ]
  },
  {
   "cell_type": "code",
   "execution_count": null,
   "id": "78e4002b",
   "metadata": {},
   "outputs": [
    {
     "data": {
      "text/plain": [
       "'1: return the second letter in the word of the name of the kind of animal Snoopy 2: return the index of #1'"
      ]
     },
     "execution_count": 16,
     "metadata": {},
     "output_type": "execute_result"
    }
   ],
   "source": [
    "decomposed_text = decompose(original_text)\n",
    "decomposed_text"
   ]
  },
  {
   "cell_type": "code",
   "execution_count": null,
   "id": "9222fc00",
   "metadata": {},
   "outputs": [
    {
     "data": {
      "text/plain": [
       "{'1': {'q': 'return the second letter in the word of the name of the kind of animal Snoopy',\n",
       "  'placeholders': []},\n",
       " '2': {'q': 'return the index of #1', 'placeholders': ['1']}}"
      ]
     },
     "execution_count": 17,
     "metadata": {},
     "output_type": "execute_result"
    }
   ],
   "source": [
    "qst_dict = decomposion_to_dict(decomposed_text)\n",
    "qst_dict"
   ]
  },
  {
   "cell_type": "code",
   "execution_count": null,
   "id": "0cbd4808",
   "metadata": {},
   "outputs": [
    {
     "data": {
      "text/plain": [
       "('1',\n",
       " 'return the second letter in the word of the name of the kind of animal Snoopy')"
      ]
     },
     "execution_count": 18,
     "metadata": {},
     "output_type": "execute_result"
    }
   ],
   "source": [
    "available_qst = find_first_root_question(qst_dict)\n",
    "available_qst"
   ]
  },
  {
   "cell_type": "code",
   "execution_count": null,
   "id": "d99ebc52",
   "metadata": {},
   "outputs": [
    {
     "name": "stderr",
     "output_type": "stream",
     "text": [
      "/cs/labs/mornitzan/yam.arieli/venvs/base_venv/lib/python3.11/site-packages/transformers/pipelines/question_answering.py:395: FutureWarning: Passing a list of SQuAD examples to the pipeline is deprecated and will be removed in v5. Inputs should be passed using the `question` and `context` keyword arguments instead.\n",
      "  warnings.warn(\n"
     ]
    },
    {
     "data": {
      "text/plain": [
       "'beagle'"
      ]
     },
     "execution_count": 19,
     "metadata": {},
     "output_type": "execute_result"
    }
   ],
   "source": [
    "QA_input = {\n",
    "\t'question': available_qst[1],\n",
    "\t'context': context\n",
    "}\n",
    "res = model_qa(QA_input)\n",
    "current_answer = res['answer']\n",
    "current_answer"
   ]
  },
  {
   "cell_type": "code",
   "execution_count": null,
   "id": "3fa47452",
   "metadata": {},
   "outputs": [
    {
     "data": {
      "text/plain": [
       "{'1': {'q': 'return the second letter in the word of the name of the kind of animal Snoopy',\n",
       "  'placeholders': [],\n",
       "  'a': 'beagle'},\n",
       " '2': {'q': 'return the index of beagle', 'placeholders': []}}"
      ]
     },
     "execution_count": 20,
     "metadata": {},
     "output_type": "execute_result"
    }
   ],
   "source": [
    "qst_dict = update_qst_dict_with_answer((available_qst[0], current_answer), qst_dict)\n",
    "qst_dict"
   ]
  },
  {
   "cell_type": "code",
   "execution_count": null,
   "id": "b938bb7f",
   "metadata": {},
   "outputs": [
    {
     "data": {
      "text/plain": [
       "('2', 'return the index of beagle')"
      ]
     },
     "execution_count": 21,
     "metadata": {},
     "output_type": "execute_result"
    }
   ],
   "source": [
    "available_qst = find_first_root_question(qst_dict)\n",
    "available_qst"
   ]
  },
  {
   "cell_type": "code",
   "execution_count": 22,
   "id": "713336ca",
   "metadata": {},
   "outputs": [
    {
     "data": {
      "text/plain": [
       "'Snoopy'"
      ]
     },
     "execution_count": 22,
     "metadata": {},
     "output_type": "execute_result"
    }
   ],
   "source": [
    "QA_input = {\n",
    "\t'question': available_qst[1],\n",
    "\t'context': context\n",
    "}\n",
    "res = model_qa(QA_input)\n",
    "current_answer = res['answer']\n",
    "current_answer"
   ]
  },
  {
   "cell_type": "code",
   "execution_count": 23,
   "id": "5a84c0ec",
   "metadata": {},
   "outputs": [
    {
     "data": {
      "text/plain": [
       "{'1': {'q': 'return the second letter in the word of the name of the kind of animal Snoopy',\n",
       "  'placeholders': [],\n",
       "  'a': 'beagle'},\n",
       " '2': {'q': 'return the index of beagle', 'placeholders': [], 'a': 'Snoopy'}}"
      ]
     },
     "execution_count": 23,
     "metadata": {},
     "output_type": "execute_result"
    }
   ],
   "source": [
    "qst_dict = update_qst_dict_with_answer((available_qst[0], current_answer), qst_dict)\n",
    "qst_dict"
   ]
  },
  {
   "cell_type": "code",
   "execution_count": 24,
   "id": "52ff44c5",
   "metadata": {},
   "outputs": [],
   "source": [
    "available_qst = find_first_root_question(qst_dict)"
   ]
  },
  {
   "cell_type": "code",
   "execution_count": 25,
   "id": "2e0625d5",
   "metadata": {},
   "outputs": [],
   "source": [
    "available_qst"
   ]
  },
  {
   "cell_type": "markdown",
   "id": "59d1b532",
   "metadata": {},
   "source": [
    "# The Rest"
   ]
  },
  {
   "cell_type": "code",
   "execution_count": 19,
   "id": "a1ffaa00",
   "metadata": {},
   "outputs": [],
   "source": [
    "def get_question_options(question, current_answer=None):\n",
    "    qst = f\"\"\"Question: \"{question}\"\n",
    "    An optional answer is: \"[MASK]\".\"\"\"\n",
    "    options = unmasker(qst)\n",
    "    # print(f'{options=}')\n",
    "    result = [option['token_str'] for option in options]\n",
    "    if current_answer:\n",
    "        result = [current_answer] + result\n",
    "    \n",
    "    print(str(result))\n",
    "    return str(result)"
   ]
  },
  {
   "cell_type": "code",
   "execution_count": 20,
   "id": "4ed11c01",
   "metadata": {},
   "outputs": [],
   "source": [
    "def answer_complex_question(original_text: str, context: str, show_process=False, suggest_options=True) -> str:\n",
    "\tdecomposed_text = decompose(original_text)\n",
    "\tqst_dict = decomposion_to_dict(decomposed_text)\n",
    "\tqst_label = '0'\n",
    "\n",
    "\twhile (available_qst := find_first_root_question(qst_dict)):\n",
    "\t\tqst_label, qst_text = available_qst\n",
    "\t\t\n",
    "\t\t# 1) Get answer for the available question\n",
    "\t\tres1 = model_qa(question=qst_text, context=context)\n",
    "\t\tcurrent_answer = res1['answer']\n",
    "\n",
    "\t\tif suggest_options:\n",
    "\t\t\t# 2) Help model with otions\n",
    "\t\t\toptions = get_question_options(qst_text, current_answer)\n",
    "\t\t\t# options_context = f\"\\\"{qst_text} from the list\\\": {options}.\"\n",
    "\t\t\tnew_context = context + '\\n' + options\n",
    "\t\t\tnew_qst_text = f'From the list at the end of context: {qst_text}'\n",
    "\t\t\tprint(f'{new_qst_text=}')\n",
    "\n",
    "\t\t\t# 3) Get IMPROVED answer for the available question\n",
    "\t\t\tres2 = model_qa(question=new_qst_text, context=new_context)\n",
    "\t\t\tif res2['score']>res1['score']:\n",
    "\t\t\t\tcurrent_answer = res2['answer']\n",
    "\t\t\tprint(f\"{res1['answer']=}\\t{res1['score']=:3f}\")\n",
    "\t\t\tprint(f\"{res2['answer']=}\\t{res2['score']=:3f}\")\n",
    "\n",
    "\t\t# 4) Update the question dictionary with the answer\n",
    "\t\tqst_dict = update_qst_dict_with_answer((qst_label, current_answer), qst_dict)\n",
    "\n",
    "\t\tif show_process:\n",
    "\t\t\tprint(f\"Processed question {qst_label}: {qst_text} -> Answer: {current_answer}\")\n",
    "\n",
    "\tfinal_answer = qst_dict[qst_label]['a'] if qst_label in qst_dict else None\n",
    "\treturn final_answer"
   ]
  },
  {
   "cell_type": "code",
   "execution_count": 21,
   "id": "b65aff3b",
   "metadata": {},
   "outputs": [
    {
     "name": "stdout",
     "output_type": "stream",
     "text": [
      "['Mount Everest', 'mountain', 'yes', 'hill', 'summit', 'no']\n",
      "new_qst_text='From the list at the end of context: return highest mountain on Earth'\n",
      "res1['answer']='Mount Everest'\tres1['score']=0.883721\n",
      "res2['answer']='Mount Everest'\tres2['score']=0.448290\n",
      "Processed question 1: return highest mountain on Earth -> Answer: Mount Everest\n",
      "['8,848 meters', 'everest', 'summit', 'yes', 'altitude', 'no']\n",
      "new_qst_text='From the list at the end of context: return height of Mount Everest'\n",
      "res1['answer']='8,848 meters'\tres1['score']=0.912982\n",
      "res2['answer']='8,848 meters'\tres2['score']=0.174631\n",
      "Processed question 2: return height of Mount Everest -> Answer: 8,848 meters\n"
     ]
    },
    {
     "data": {
      "text/plain": [
       "'8,848 meters'"
      ]
     },
     "execution_count": 21,
     "metadata": {},
     "output_type": "execute_result"
    }
   ],
   "source": [
    "context = (\n",
    "    \"Mount Everest is the highest mountain on Earth, located in the Himalayas between Nepal and China. \"\n",
    "    \"It has an elevation of 8,848 meters and attracts climbers from all over the world. \"\n",
    "    \"Its name starts with the letter 'E'.\"\n",
    ")\n",
    "\n",
    "original_text = \"What is the height of the highest mountain on Earth?\"\n",
    "\n",
    "answer_complex_question(original_text, context, show_process=True)"
   ]
  },
  {
   "cell_type": "code",
   "execution_count": 47,
   "id": "aa8d47e1",
   "metadata": {},
   "outputs": [
    {
     "name": "stdout",
     "output_type": "stream",
     "text": [
      "['Mount Everest', 'mountain', 'yes', 'hill', 'summit', 'no']\n",
      "new_qst_text='From the list at the end of context: return highest mountain on Earth'\n",
      "res1['answer']='Mount Everest'\tres1['score']=0.903739\n",
      "res2['answer']='Mount Everest'\tres2['score']=0.499674\n",
      "Processed question 1: return highest mountain on Earth -> Answer: Mount Everest\n",
      "['8,848 meters above sea level', 'everest', 'summit', 'yes', 'altitude', 'no']\n",
      "new_qst_text='From the list at the end of context: return height of Mount Everest'\n",
      "res1['answer']='8,848 meters above sea level'\tres1['score']=0.232520\n",
      "res2['answer']='4,000 meters'\tres2['score']=0.029349\n",
      "Processed question 2: return height of Mount Everest -> Answer: 8,848 meters above sea level\n"
     ]
    },
    {
     "data": {
      "text/plain": [
       "'8,848 meters above sea level'"
      ]
     },
     "execution_count": 47,
     "metadata": {},
     "output_type": "execute_result"
    }
   ],
   "source": [
    "context = (\n",
    "    \"The Himalayas are home to many of the world's tallest mountains. Mount Everest is the highest mountain on Earth, \"\n",
    "    \"standing at an elevation of 8,848 meters above sea level. When measured from base to peak, considering its base on the Tibetan Plateau, \"\n",
    "    \"the mountain rises approximately 4,000 meters. Everest lies on the border between Nepal and China and is part of the greater Himalayan mountain range. \"\n",
    "    \"It attracts thousands of climbers each year despite the risks posed by its harsh conditions, including thin air, extreme cold, and avalanches. \"\n",
    "    \"Its name begins with the letter 'E', and it was named after Sir George Everest, a British surveyor. \"\n",
    "    \"Other famous peaks in the region include K2, which is the second-highest mountain at 8,611 meters, and Kangchenjunga at 8,586 meters. \"\n",
    "    \"Although K2 is slightly lower than Everest in elevation, it is considered more technically challenging to climb. \"\n",
    "    \"Everest’s elevation has been measured several times using different technologies, including satellite GPS, radar, and physical surveying, \"\n",
    "    \"but the commonly accepted height remains 8,848 meters.\"\n",
    ")\n",
    "\n",
    "original_text = \"What is the height of the highest mountain on Earth?\"\n",
    "\n",
    "answer_complex_question(original_text, context, show_process=True)"
   ]
  },
  {
   "cell_type": "code",
   "execution_count": 48,
   "id": "9ec1a9ce",
   "metadata": {},
   "outputs": [
    {
     "name": "stdout",
     "output_type": "stream",
     "text": [
      "['Jupiter', 'return', 'yes', 'no', 'zero', 'earth']\n",
      "new_qst_text='From the list at the end of context: return the largest planet in our solar system'\n",
      "res1['answer']='Jupiter'\tres1['score']=0.326319\n",
      "res2['answer']='Jupiter'\tres2['score']=0.000001\n",
      "Processed question 1: return the largest planet in our solar system -> Answer: Jupiter\n",
      "['69,911 kilometers', 'yes', 'return', 'zero', 'no', 'jupiter']\n",
      "new_qst_text='From the list at the end of context: return the radius of Jupiter'\n",
      "res1['answer']='69,911 kilometers'\tres1['score']=0.648343\n",
      "res2['answer']='zero'\tres2['score']=0.000126\n",
      "Processed question 2: return the radius of Jupiter -> Answer: 69,911 kilometers\n"
     ]
    },
    {
     "data": {
      "text/plain": [
       "'69,911 kilometers'"
      ]
     },
     "execution_count": 48,
     "metadata": {},
     "output_type": "execute_result"
    }
   ],
   "source": [
    "context = (\n",
    "    \"Jupiter is the largest planet in our solar system. \"\n",
    "    \"It is known for its Great Red Spot, a massive storm that has been raging for centuries. \"\n",
    "    \"Jupiter has a radius of about 69,911 kilometers and is mostly made of gas.\"\n",
    ")\n",
    "\n",
    "original_text = \"What is the radius of the largest planet in our solar system?\"\n",
    "\n",
    "answer_complex_question(original_text, context, show_process=True, suggest_options=True)"
   ]
  },
  {
   "cell_type": "code",
   "execution_count": 49,
   "id": "089e959d",
   "metadata": {},
   "outputs": [
    {
     "name": "stdout",
     "output_type": "stream",
     "text": [
      "['Thomas Jefferson', 'return', 'yes', 'no', 'president', 'answer']\n",
      "new_qst_text='From the list at the end of context: return the man who served as the third president of the United States'\n",
      "res1['answer']='Thomas Jefferson'\tres1['score']=0.430063\n",
      "res2['answer']='Thomas Jefferson'\tres2['score']=0.041663\n",
      "Processed question 1: return the man who served as the third president of the United States -> Answer: Thomas Jefferson\n",
      "['1776', 'date', 'return', 'year', 'no', 'yes']\n",
      "new_qst_text='From the list at the end of context: return the year the document was signed'\n",
      "res1['answer']='1776'\tres1['score']=0.974838\n",
      "res2['answer']='1776'\tres2['score']=0.146510\n",
      "Processed question 2: return the year the document was signed -> Answer: 1776\n",
      "['1783', 'year', '1776', 'time', 'years', '1800']\n",
      "new_qst_text='From the list at the end of context: return the number of years between Thomas Jefferson and 1776'\n",
      "res1['answer']='1783'\tres1['score']=0.000022\n",
      "res2['answer']='1800'\tres2['score']=0.002899\n",
      "Processed question 3: return the number of years between Thomas Jefferson and 1776 -> Answer: 1800\n"
     ]
    },
    {
     "data": {
      "text/plain": [
       "'1800'"
      ]
     },
     "execution_count": 49,
     "metadata": {},
     "output_type": "execute_result"
    }
   ],
   "source": [
    "context = (\n",
    "    \"The Declaration of Independence was signed in 1776, marking the formal separation of the Thirteen Colonies from British rule. \"\n",
    "    \"The American Revolutionary War, however, had already begun in 1775 and lasted until 1783. \"\n",
    "    \"One of the most well-known figures associated with the Declaration is Thomas Jefferson, who was the principal author. \"\n",
    "    \"Thomas Jefferson later served as the third president of the United States. \"\n",
    "    \"Other notable contributors included John Adams and Benjamin Franklin. \"\n",
    "    \"Interestingly, while July 4th is celebrated as Independence Day, the actual signing took place over several weeks. \"\n",
    "    \"At the time, George Washington had already been appointed commander of the Continental Army.\"\n",
    ")\n",
    "\n",
    "original_text = (\n",
    "    \"What is the number of years between the beginning of the war associated with the document written by the man who served \"\n",
    "    \"as the third president of the United States and the year the document was signed?\"\n",
    ")\n",
    "\n",
    "answer_complex_question(original_text, context, show_process=True)"
   ]
  },
  {
   "cell_type": "code",
   "execution_count": 134,
   "id": "931bef45",
   "metadata": {},
   "outputs": [
    {
     "name": "stdout",
     "output_type": "stream",
     "text": [
      "res1['answer']='Alfonso VII'\tres1['score']=0.028263\n",
      "res2['answer']='\\n   '\tres2['score']=0.001372\n",
      "Processed question 1: return the first fuero given to the city -> Answer: Alfonso VII\n",
      "res1['answer']='1133'\tres1['score']=0.010991\n",
      "res2['answer']='1133'\tres2['score']=0.031238\n",
      "Processed question 2: return year of Alfonso VII -> Answer: 1133\n"
     ]
    },
    {
     "data": {
      "text/plain": [
       "'1133'"
      ]
     },
     "execution_count": 134,
     "metadata": {},
     "output_type": "execute_result"
    }
   ],
   "source": [
    "context = \"\"\"\n",
    "In 1085, Guadalajara was retaken by the Christian forces of Alfonso VI .\n",
    "The chronicles say that the Christian army was led by Alvar Fanez de Minaya, one of the lieutenants of El Cid.\n",
    "From 1085 until the Battle of Las Navas de Tolosa in 1212, the city suffered wars against the Almoravidand the Almohad Empires.\n",
    "In spite of the wars, the Christian population could definitely settle down in the area thanks to the repopulation with people \\\n",
    "    from the North who received their first fuero in 1133 from Alfonso VII.\n",
    "    In 1219, the king Fernando III gave a new fuero to the city .\n",
    "    During the reign of Alfonso X of Castile, the protection of the king allowed the city to develop its economy by protecting merchants and allowing markets.\n",
    "\"\"\"\n",
    "\n",
    "original_text = \"What is the year of the first fuero given to the city?\"\n",
    "\n",
    "answer_complex_question(original_text, context, show_process=True, suggest_options=True)"
   ]
  },
  {
   "cell_type": "code",
   "execution_count": 91,
   "id": "0ee40d74",
   "metadata": {},
   "outputs": [
    {
     "name": "stdout",
     "output_type": "stream",
     "text": [
      "options=[{'score': 0.23625893890857697, 'token': 2709, 'token_str': 'return', 'sequence': 'question : \" return when was the battle of las navas de tolosa \" an optional answer is : \" return \".'}, {'score': 0.015970222651958466, 'token': 2748, 'token_str': 'yes', 'sequence': 'question : \" return when was the battle of las navas de tolosa \" an optional answer is : \" yes \".'}, {'score': 0.012277494184672832, 'token': 2053, 'token_str': 'no', 'sequence': 'question : \" return when was the battle of las navas de tolosa \" an optional answer is : \" no \".'}, {'score': 0.010860994458198547, 'token': 2188, 'token_str': 'home', 'sequence': 'question : \" return when was the battle of las navas de tolosa \" an optional answer is : \" home \".'}, {'score': 0.009617802686989307, 'token': 13407, 'token_str': 'farewell', 'sequence': 'question : \" return when was the battle of las navas de tolosa \" an optional answer is : \" farewell \".'}]\n",
      "['1212', 'return', 'yes', 'no', 'home', 'farewell']\n",
      "Processed question 1: return when was the Battle of Las Navas de Tolosa -> Answer: 1212\n",
      "options=[{'score': 0.17340321838855743, 'token': 2709, 'token_str': 'return', 'sequence': 'question : \" return when was the king fernando iii gave a new fuero to the city \" an optional answer is : \" return \".'}, {'score': 0.02740328013896942, 'token': 2748, 'token_str': 'yes', 'sequence': 'question : \" return when was the king fernando iii gave a new fuero to the city \" an optional answer is : \" yes \".'}, {'score': 0.026649456471204758, 'token': 2053, 'token_str': 'no', 'sequence': 'question : \" return when was the king fernando iii gave a new fuero to the city \" an optional answer is : \" no \".'}, {'score': 0.011163533665239811, 'token': 1029, 'token_str': '?', 'sequence': 'question : \" return when was the king fernando iii gave a new fuero to the city \" an optional answer is : \"? \".'}, {'score': 0.008514388464391232, 'token': 5651, 'token_str': 'returns', 'sequence': 'question : \" return when was the king fernando iii gave a new fuero to the city \" an optional answer is : \" returns \".'}]\n",
      "['1219', 'return', 'yes', 'no', '?', 'returns']\n",
      "Processed question 2: return when was the king Fernando III gave a new fuero to the city -> Answer: 1219\n",
      "options=[{'score': 0.28057214617729187, 'token': 2709, 'token_str': 'return', 'sequence': 'question : \" return which was first of 1212, 1219 \" an optional answer is : \" return \".'}, {'score': 0.02565772272646427, 'token': 3437, 'token_str': 'answer', 'sequence': 'question : \" return which was first of 1212, 1219 \" an optional answer is : \" answer \".'}, {'score': 0.024014370515942574, 'token': 2748, 'token_str': 'yes', 'sequence': 'question : \" return which was first of 1212, 1219 \" an optional answer is : \" yes \".'}, {'score': 0.015152954496443272, 'token': 2053, 'token_str': 'no', 'sequence': 'question : \" return which was first of 1212, 1219 \" an optional answer is : \" no \".'}, {'score': 0.00749910669401288, 'token': 5651, 'token_str': 'returns', 'sequence': 'question : \" return which was first of 1212, 1219 \" an optional answer is : \" returns \".'}]\n",
      "['Battle of Las Navas de Tolosa', 'return', 'answer', 'yes', 'no', 'returns']\n",
      "Processed question 3: return which was first of 1212 , 1219 -> Answer: Question\n"
     ]
    },
    {
     "data": {
      "text/plain": [
       "'Question'"
      ]
     },
     "execution_count": 91,
     "metadata": {},
     "output_type": "execute_result"
    }
   ],
   "source": [
    "original_text = \"Which occured first, the Battle of Las Navas de Tolosa or king Fernando III gave a new fuero to the city?\"\n",
    "answer_complex_question(original_text, context, show_process=True, )"
   ]
  },
  {
   "cell_type": "markdown",
   "id": "89c3b983",
   "metadata": {},
   "source": [
    "# Eval"
   ]
  },
  {
   "cell_type": "code",
   "execution_count": 50,
   "id": "acba7087",
   "metadata": {},
   "outputs": [
    {
     "ename": "AttributeError",
     "evalue": "module 'pyarrow' has no attribute 'PyExtensionType'",
     "output_type": "error",
     "traceback": [
      "\u001b[31m---------------------------------------------------------------------------\u001b[39m",
      "\u001b[31mAttributeError\u001b[39m                            Traceback (most recent call last)",
      "\u001b[36mCell\u001b[39m\u001b[36m \u001b[39m\u001b[32mIn[50]\u001b[39m\u001b[32m, line 1\u001b[39m\n\u001b[32m----> \u001b[39m\u001b[32m1\u001b[39m \u001b[38;5;28;01mimport\u001b[39;00m\u001b[38;5;250m \u001b[39m\u001b[34;01mdatasets\u001b[39;00m\n\u001b[32m      2\u001b[39m \u001b[38;5;28;01mimport\u001b[39;00m\u001b[38;5;250m \u001b[39m\u001b[34;01mpandas\u001b[39;00m\u001b[38;5;250m \u001b[39m\u001b[38;5;28;01mas\u001b[39;00m\u001b[38;5;250m \u001b[39m\u001b[34;01mpd\u001b[39;00m\n\u001b[32m      3\u001b[39m \u001b[38;5;28;01mfrom\u001b[39;00m\u001b[38;5;250m \u001b[39m\u001b[34;01mtqdm\u001b[39;00m\u001b[38;5;250m \u001b[39m\u001b[38;5;28;01mimport\u001b[39;00m tqdm\n",
      "\u001b[36mFile \u001b[39m\u001b[32m~/venvs/base_venv/lib/python3.11/site-packages/datasets/__init__.py:37\u001b[39m\n\u001b[32m     34\u001b[39m \u001b[38;5;28;01mdel\u001b[39;00m pyarrow\n\u001b[32m     35\u001b[39m \u001b[38;5;28;01mdel\u001b[39;00m version\n\u001b[32m---> \u001b[39m\u001b[32m37\u001b[39m \u001b[38;5;28;01mfrom\u001b[39;00m\u001b[38;5;250m \u001b[39m\u001b[34;01m.\u001b[39;00m\u001b[34;01marrow_dataset\u001b[39;00m\u001b[38;5;250m \u001b[39m\u001b[38;5;28;01mimport\u001b[39;00m Dataset\n\u001b[32m     38\u001b[39m \u001b[38;5;28;01mfrom\u001b[39;00m\u001b[38;5;250m \u001b[39m\u001b[34;01m.\u001b[39;00m\u001b[34;01marrow_reader\u001b[39;00m\u001b[38;5;250m \u001b[39m\u001b[38;5;28;01mimport\u001b[39;00m ReadInstruction\n\u001b[32m     39\u001b[39m \u001b[38;5;28;01mfrom\u001b[39;00m\u001b[38;5;250m \u001b[39m\u001b[34;01m.\u001b[39;00m\u001b[34;01mbuilder\u001b[39;00m\u001b[38;5;250m \u001b[39m\u001b[38;5;28;01mimport\u001b[39;00m ArrowBasedBuilder, BeamBasedBuilder, BuilderConfig, DatasetBuilder, GeneratorBasedBuilder\n",
      "\u001b[36mFile \u001b[39m\u001b[32m~/venvs/base_venv/lib/python3.11/site-packages/datasets/arrow_dataset.py:62\u001b[39m\n\u001b[32m     60\u001b[39m \u001b[38;5;28;01mfrom\u001b[39;00m\u001b[38;5;250m \u001b[39m\u001b[34;01m.\u001b[39;00m\u001b[38;5;250m \u001b[39m\u001b[38;5;28;01mimport\u001b[39;00m config\n\u001b[32m     61\u001b[39m \u001b[38;5;28;01mfrom\u001b[39;00m\u001b[38;5;250m \u001b[39m\u001b[34;01m.\u001b[39;00m\u001b[34;01marrow_reader\u001b[39;00m\u001b[38;5;250m \u001b[39m\u001b[38;5;28;01mimport\u001b[39;00m ArrowReader\n\u001b[32m---> \u001b[39m\u001b[32m62\u001b[39m \u001b[38;5;28;01mfrom\u001b[39;00m\u001b[38;5;250m \u001b[39m\u001b[34;01m.\u001b[39;00m\u001b[34;01marrow_writer\u001b[39;00m\u001b[38;5;250m \u001b[39m\u001b[38;5;28;01mimport\u001b[39;00m ArrowWriter, OptimizedTypedSequence\n\u001b[32m     63\u001b[39m \u001b[38;5;28;01mfrom\u001b[39;00m\u001b[38;5;250m \u001b[39m\u001b[34;01m.\u001b[39;00m\u001b[34;01mdownload\u001b[39;00m\u001b[34;01m.\u001b[39;00m\u001b[34;01mdownload_config\u001b[39;00m\u001b[38;5;250m \u001b[39m\u001b[38;5;28;01mimport\u001b[39;00m DownloadConfig\n\u001b[32m     64\u001b[39m \u001b[38;5;28;01mfrom\u001b[39;00m\u001b[38;5;250m \u001b[39m\u001b[34;01m.\u001b[39;00m\u001b[34;01mdownload\u001b[39;00m\u001b[34;01m.\u001b[39;00m\u001b[34;01mstreaming_download_manager\u001b[39;00m\u001b[38;5;250m \u001b[39m\u001b[38;5;28;01mimport\u001b[39;00m xgetsize\n",
      "\u001b[36mFile \u001b[39m\u001b[32m~/venvs/base_venv/lib/python3.11/site-packages/datasets/arrow_writer.py:25\u001b[39m\n\u001b[32m     22\u001b[39m \u001b[38;5;28;01mimport\u001b[39;00m\u001b[38;5;250m \u001b[39m\u001b[34;01mpyarrow\u001b[39;00m\u001b[38;5;250m \u001b[39m\u001b[38;5;28;01mas\u001b[39;00m\u001b[38;5;250m \u001b[39m\u001b[34;01mpa\u001b[39;00m\n\u001b[32m     24\u001b[39m \u001b[38;5;28;01mfrom\u001b[39;00m\u001b[38;5;250m \u001b[39m\u001b[34;01m.\u001b[39;00m\u001b[38;5;250m \u001b[39m\u001b[38;5;28;01mimport\u001b[39;00m config\n\u001b[32m---> \u001b[39m\u001b[32m25\u001b[39m \u001b[38;5;28;01mfrom\u001b[39;00m\u001b[38;5;250m \u001b[39m\u001b[34;01m.\u001b[39;00m\u001b[34;01mfeatures\u001b[39;00m\u001b[38;5;250m \u001b[39m\u001b[38;5;28;01mimport\u001b[39;00m Features, Image, Value\n\u001b[32m     26\u001b[39m \u001b[38;5;28;01mfrom\u001b[39;00m\u001b[38;5;250m \u001b[39m\u001b[34;01m.\u001b[39;00m\u001b[34;01mfeatures\u001b[39;00m\u001b[34;01m.\u001b[39;00m\u001b[34;01mfeatures\u001b[39;00m\u001b[38;5;250m \u001b[39m\u001b[38;5;28;01mimport\u001b[39;00m (\n\u001b[32m     27\u001b[39m     FeatureType,\n\u001b[32m     28\u001b[39m     _ArrayXDExtensionType,\n\u001b[32m   (...)\u001b[39m\u001b[32m     34\u001b[39m     to_pyarrow_listarray,\n\u001b[32m     35\u001b[39m )\n\u001b[32m     36\u001b[39m \u001b[38;5;28;01mfrom\u001b[39;00m\u001b[38;5;250m \u001b[39m\u001b[34;01m.\u001b[39;00m\u001b[34;01minfo\u001b[39;00m\u001b[38;5;250m \u001b[39m\u001b[38;5;28;01mimport\u001b[39;00m DatasetInfo\n",
      "\u001b[36mFile \u001b[39m\u001b[32m~/venvs/base_venv/lib/python3.11/site-packages/datasets/features/__init__.py:18\u001b[39m\n\u001b[32m      3\u001b[39m __all__ = [\n\u001b[32m      4\u001b[39m     \u001b[33m\"\u001b[39m\u001b[33mAudio\u001b[39m\u001b[33m\"\u001b[39m,\n\u001b[32m      5\u001b[39m     \u001b[33m\"\u001b[39m\u001b[33mArray2D\u001b[39m\u001b[33m\"\u001b[39m,\n\u001b[32m   (...)\u001b[39m\u001b[32m     15\u001b[39m     \u001b[33m\"\u001b[39m\u001b[33mTranslationVariableLanguages\u001b[39m\u001b[33m\"\u001b[39m,\n\u001b[32m     16\u001b[39m ]\n\u001b[32m     17\u001b[39m \u001b[38;5;28;01mfrom\u001b[39;00m\u001b[38;5;250m \u001b[39m\u001b[34;01m.\u001b[39;00m\u001b[34;01maudio\u001b[39;00m\u001b[38;5;250m \u001b[39m\u001b[38;5;28;01mimport\u001b[39;00m Audio\n\u001b[32m---> \u001b[39m\u001b[32m18\u001b[39m \u001b[38;5;28;01mfrom\u001b[39;00m\u001b[38;5;250m \u001b[39m\u001b[34;01m.\u001b[39;00m\u001b[34;01mfeatures\u001b[39;00m\u001b[38;5;250m \u001b[39m\u001b[38;5;28;01mimport\u001b[39;00m Array2D, Array3D, Array4D, Array5D, ClassLabel, Features, Sequence, Value\n\u001b[32m     19\u001b[39m \u001b[38;5;28;01mfrom\u001b[39;00m\u001b[38;5;250m \u001b[39m\u001b[34;01m.\u001b[39;00m\u001b[34;01mimage\u001b[39;00m\u001b[38;5;250m \u001b[39m\u001b[38;5;28;01mimport\u001b[39;00m Image\n\u001b[32m     20\u001b[39m \u001b[38;5;28;01mfrom\u001b[39;00m\u001b[38;5;250m \u001b[39m\u001b[34;01m.\u001b[39;00m\u001b[34;01mtranslation\u001b[39;00m\u001b[38;5;250m \u001b[39m\u001b[38;5;28;01mimport\u001b[39;00m Translation, TranslationVariableLanguages\n",
      "\u001b[36mFile \u001b[39m\u001b[32m~/venvs/base_venv/lib/python3.11/site-packages/datasets/features/features.py:594\u001b[39m\n\u001b[32m    590\u001b[39m     \u001b[38;5;66;03m# Automatically constructed\u001b[39;00m\n\u001b[32m    591\u001b[39m     _type: \u001b[38;5;28mstr\u001b[39m = field(default=\u001b[33m\"\u001b[39m\u001b[33mArray5D\u001b[39m\u001b[33m\"\u001b[39m, init=\u001b[38;5;28;01mFalse\u001b[39;00m, \u001b[38;5;28mrepr\u001b[39m=\u001b[38;5;28;01mFalse\u001b[39;00m)\n\u001b[32m--> \u001b[39m\u001b[32m594\u001b[39m \u001b[38;5;28;01mclass\u001b[39;00m\u001b[38;5;250m \u001b[39m\u001b[34;01m_ArrayXDExtensionType\u001b[39;00m(\u001b[43mpa\u001b[49m\u001b[43m.\u001b[49m\u001b[43mPyExtensionType\u001b[49m):\n\u001b[32m    595\u001b[39m     ndims: Optional[\u001b[38;5;28mint\u001b[39m] = \u001b[38;5;28;01mNone\u001b[39;00m\n\u001b[32m    597\u001b[39m     \u001b[38;5;28;01mdef\u001b[39;00m\u001b[38;5;250m \u001b[39m\u001b[34m__init__\u001b[39m(\u001b[38;5;28mself\u001b[39m, shape: \u001b[38;5;28mtuple\u001b[39m, dtype: \u001b[38;5;28mstr\u001b[39m):\n",
      "\u001b[31mAttributeError\u001b[39m: module 'pyarrow' has no attribute 'PyExtensionType'"
     ]
    }
   ],
   "source": [
    "import datasets\n",
    "import pandas as pd\n",
    "from tqdm import tqdm\n",
    "from difflib import SequenceMatcher\n",
    "from datasets import load_dataset"
   ]
  },
  {
   "cell_type": "code",
   "execution_count": 22,
   "id": "dba4f639",
   "metadata": {},
   "outputs": [],
   "source": [
    "drop_val = pd.DataFrame(load_dataset(\"drop\", split=\"validation\"))\n",
    "\n",
    "# Set index for fast lookup\n",
    "drop_val.set_index(\"query_id\", inplace=True)"
   ]
  },
  {
   "cell_type": "code",
   "execution_count": 23,
   "id": "5c02bd7c",
   "metadata": {},
   "outputs": [],
   "source": [
    "from tqdm import tqdm\n",
    "\n",
    "def evaluate_model(dataset):\n",
    "    results = []\n",
    "    for _, row in tqdm(dataset.iterrows()):\n",
    "        # print(row)\n",
    "        question = row['original_question']\n",
    "        context = row['context']\n",
    "        answer = row['answer']\n",
    "        try:\n",
    "            prediction = answer_complex_question(original_text=question, context=context, show_process=True)\n",
    "        except Exception as e:\n",
    "            print(e)\n",
    "            prediction = \"\"\n",
    "        # print(prediction)\n",
    "        results.append({\n",
    "            'question': question,\n",
    "            'predicted_answer': prediction,\n",
    "            'true_answer': answer\n",
    "        })\n",
    "    return pd.DataFrame(results)\n"
   ]
  },
  {
   "cell_type": "code",
   "execution_count": 139,
   "id": "3cc3bc44",
   "metadata": {},
   "outputs": [],
   "source": [
    "break_val = pd.DataFrame(load_dataset(\"break_data\", \"QDMR-high-level\", split=\"train\"))"
   ]
  },
  {
   "cell_type": "code",
   "execution_count": 24,
   "id": "03febd79",
   "metadata": {},
   "outputs": [],
   "source": [
    "hotpotqa = load_dataset(\"hotpotqa/hotpot_qa\", 'fullwiki')"
   ]
  },
  {
   "cell_type": "code",
   "execution_count": null,
   "id": "b30ee1e0",
   "metadata": {},
   "outputs": [],
   "source": [
    "df = pd.DataFrame(hotpotqa['train'])"
   ]
  },
  {
   "cell_type": "code",
   "execution_count": 33,
   "id": "6c585cc9",
   "metadata": {},
   "outputs": [],
   "source": [
    "df_val = pd.DataFrame(hotpotqa['validation'])"
   ]
  },
  {
   "cell_type": "code",
   "execution_count": null,
   "id": "3b19db33",
   "metadata": {},
   "outputs": [
    {
     "data": {
      "application/vnd.microsoft.datawrangler.viewer.v0+json": {
       "columns": [
        {
         "name": "('level', 'type')",
         "rawType": "object",
         "type": "unknown"
        },
        {
         "name": "id",
         "rawType": "int64",
         "type": "integer"
        },
        {
         "name": "question",
         "rawType": "int64",
         "type": "integer"
        },
        {
         "name": "answer",
         "rawType": "int64",
         "type": "integer"
        },
        {
         "name": "supporting_facts",
         "rawType": "int64",
         "type": "integer"
        },
        {
         "name": "context",
         "rawType": "int64",
         "type": "integer"
        }
       ],
       "ref": "b707683b-4f8c-4170-be54-4494c08d07ae",
       "rows": [
        [
         "('hard', 'bridge')",
         "5918",
         "5918",
         "5918",
         "5918",
         "5918"
        ],
        [
         "('hard', 'comparison')",
         "1487",
         "1487",
         "1487",
         "1487",
         "1487"
        ]
       ],
       "shape": {
        "columns": 5,
        "rows": 2
       }
      },
      "text/html": [
       "<div>\n",
       "<style scoped>\n",
       "    .dataframe tbody tr th:only-of-type {\n",
       "        vertical-align: middle;\n",
       "    }\n",
       "\n",
       "    .dataframe tbody tr th {\n",
       "        vertical-align: top;\n",
       "    }\n",
       "\n",
       "    .dataframe thead th {\n",
       "        text-align: right;\n",
       "    }\n",
       "</style>\n",
       "<table border=\"1\" class=\"dataframe\">\n",
       "  <thead>\n",
       "    <tr style=\"text-align: right;\">\n",
       "      <th></th>\n",
       "      <th></th>\n",
       "      <th>id</th>\n",
       "      <th>question</th>\n",
       "      <th>answer</th>\n",
       "      <th>supporting_facts</th>\n",
       "      <th>context</th>\n",
       "    </tr>\n",
       "    <tr>\n",
       "      <th>level</th>\n",
       "      <th>type</th>\n",
       "      <th></th>\n",
       "      <th></th>\n",
       "      <th></th>\n",
       "      <th></th>\n",
       "      <th></th>\n",
       "    </tr>\n",
       "  </thead>\n",
       "  <tbody>\n",
       "    <tr>\n",
       "      <th rowspan=\"2\" valign=\"top\">hard</th>\n",
       "      <th>bridge</th>\n",
       "      <td>5918</td>\n",
       "      <td>5918</td>\n",
       "      <td>5918</td>\n",
       "      <td>5918</td>\n",
       "      <td>5918</td>\n",
       "    </tr>\n",
       "    <tr>\n",
       "      <th>comparison</th>\n",
       "      <td>1487</td>\n",
       "      <td>1487</td>\n",
       "      <td>1487</td>\n",
       "      <td>1487</td>\n",
       "      <td>1487</td>\n",
       "    </tr>\n",
       "  </tbody>\n",
       "</table>\n",
       "</div>"
      ],
      "text/plain": [
       "                    id  question  answer  supporting_facts  context\n",
       "level type                                                         \n",
       "hard  bridge      5918      5918    5918              5918     5918\n",
       "      comparison  1487      1487    1487              1487     1487"
      ]
     },
     "execution_count": 34,
     "metadata": {},
     "output_type": "execute_result"
    }
   ],
   "source": [
    "df_val.groupby(by=['level', 'type']).count()"
   ]
  },
  {
   "cell_type": "code",
   "execution_count": 57,
   "id": "56b46d9f",
   "metadata": {},
   "outputs": [],
   "source": [
    "def answer_from_df(row):\n",
    "    answer_from_df.iteration += 1\n",
    "    question = row['question']\n",
    "    context = row['context']\n",
    "    sentences = context['sentences']\n",
    "    sentences = ''.join([''.join(p) for p in sentences])\n",
    "    print(answer_from_df.iteration)\n",
    "    return answer_complex_question(question, sentences, True)\n",
    "answer_from_df.iteration = 0"
   ]
  },
  {
   "cell_type": "code",
   "execution_count": 58,
   "id": "706b1dbe",
   "metadata": {},
   "outputs": [],
   "source": [
    "from time import time"
   ]
  },
  {
   "cell_type": "code",
   "execution_count": 59,
   "id": "0c5a7cf9",
   "metadata": {},
   "outputs": [
    {
     "name": "stdout",
     "output_type": "stream",
     "text": [
      "1\n",
      "['tree ferns', 'return', 'yes', 'no', 'answer', 'see']\n",
      "new_qst_text='From the list at the end of context: return if Cyathea is a plant'\n",
      "res1['answer']='tree ferns'\tres1['score']=0.042398\n",
      "res2['answer']='Cyathea chinensis'\tres2['score']=0.000662\n",
      "Processed question 1: return if Cyathea is a plant -> Answer: tree ferns\n",
      "['decumbent', 'return', 'no', 'yes', 'answer', 'see']\n",
      "new_qst_text='From the list at the end of context: return if Carpobrotus is a plant'\n",
      "res1['answer']='decumbent'\tres1['score']=0.002469\n",
      "res2['answer']='decumbent'\tres2['score']=0.000028\n",
      "Processed question 2: return if Carpobrotus is a plant -> Answer: decumbent\n",
      "['Erect when young', 'return', 'answer', 'yes', 'check', 'find']\n",
      "new_qst_text='From the list at the end of context: return if both tree ferns and decumbent are true'\n",
      "res1['answer']='Erect when young'\tres1['score']=0.001008\n",
      "res2['answer']='bi- or tripinnate'\tres2['score']=0.006728\n",
      "Processed question 3: return if both tree ferns and decumbent are true -> Answer: bi- or tripinnate\n",
      "2\n",
      "['a documentary', 'yes', 'return', 'answer', 'no', 'question']\n",
      "new_qst_text='From the list at the end of context: return what is the Man Who Skied Down Everest'\n",
      "res1['answer']='a documentary'\tres1['score']=0.437389\n",
      "res2['answer']='Miura'\tres2['score']=0.522268\n",
      "Processed question 1: return what is the Man Who Skied Down Everest -> Answer: Miura\n",
      "['a 2005 Thai independent documentary film', 'return', 'yes', 'answer', 'no', 'reply']\n",
      "new_qst_text='From the list at the end of context: return what is Innocence'\n",
      "res1['answer']='a 2005 Thai independent documentary film'\tres1['score']=0.589328\n",
      "res2['answer']='เ'\tres2['score']=0.018206\n",
      "Processed question 2: return what is Innocence -> Answer: a 2005 Thai independent documentary film\n",
      "['a documentary', 'yes', 'return', 'answer', 'no', 'question']\n",
      "new_qst_text='From the list at the end of context: return what is the Man Who Skied Down Everest'\n",
      "res1['answer']='a documentary'\tres1['score']=0.437389\n",
      "res2['answer']='Miura'\tres2['score']=0.522268\n",
      "Processed question 3: return what is the Man Who Skied Down Everest -> Answer: Miura\n",
      "['a documentary', 'yes', 'return', 'answer', 'no', 'question']\n",
      "new_qst_text='From the list at the end of context: return what is the Man Who Skied Down Everest'\n",
      "res1['answer']='a documentary'\tres1['score']=0.437389\n",
      "res2['answer']='Miura'\tres2['score']=0.522268\n",
      "Processed question 4: return what is the Man Who Skied Down Everest -> Answer: Miura\n",
      "['Rob DesLauriers', 'return', 'answer', 'yes', 'no', 'question']\n",
      "new_qst_text='From the list at the end of context: return what is the Man Who'\n",
      "res1['answer']='Rob DesLauriers'\tres1['score']=0.124908\n",
      "res2['answer']='Rob DesLauriers'\tres2['score']=0.691598\n",
      "Processed question 5: return what is the Man Who -> Answer: Rob DesLauriers\n",
      "3\n",
      "['alternative rock', 'music', 'unknown', '[UNK]', 'note', 'song']\n",
      "new_qst_text='From the list at the end of context: return type of musical organization of Gândul Mâței'\n",
      "res1['answer']='alternative rock'\tres1['score']=2.105346\n",
      "res2['answer']='alternative rock'\tres2['score']=0.295028\n",
      "Processed question 1: return type of musical organization of Gândul Mâței -> Answer: alternative rock\n",
      "['industrial', 'music', 'organization', 'unknown', 'why', 'group']\n",
      "new_qst_text='From the list at the end of context: return type of musical organization of KMFDM'\n",
      "res1['answer']='industrial'\tres1['score']=0.457389\n",
      "res2['answer']='industrial'\tres2['score']=0.469916\n",
      "Processed question 2: return type of musical organization of KMFDM -> Answer: industrial\n",
      "['alternative rock', 'music', 'unknown', '[UNK]', 'note', 'song']\n",
      "new_qst_text='From the list at the end of context: return type of musical organization of Gândul Mâței'\n",
      "res1['answer']='alternative rock'\tres1['score']=2.105346\n",
      "res2['answer']='alternative rock'\tres2['score']=0.295028\n",
      "Processed question 3: return type of musical organization of Gândul Mâței -> Answer: alternative rock\n",
      "['industrial', 'music', 'organization', 'unknown', 'why', 'group']\n",
      "new_qst_text='From the list at the end of context: return type of musical organization of KMFDM'\n",
      "res1['answer']='industrial'\tres1['score']=0.457389\n",
      "res2['answer']='industrial'\tres2['score']=0.469916\n",
      "Processed question 4: return type of musical organization of KMFDM -> Answer: industrial\n",
      "['industrial', 'music', 'organization', 'unknown', 'why', 'group']\n",
      "new_qst_text='From the list at the end of context: return type of musical organization of KMFDM'\n",
      "res1['answer']='industrial'\tres1['score']=0.457389\n",
      "res2['answer']='industrial'\tres2['score']=0.469916\n",
      "Processed question 5: return type of musical organization of KMFDM -> Answer: industrial\n",
      "['industrial', 'music', 'organization', 'unknown', 'why', 'group']\n",
      "new_qst_text='From the list at the end of context: return type of musical organization of KMFDM'\n",
      "res1['answer']='industrial'\tres1['score']=0.457389\n",
      "res2['answer']='industrial'\tres2['score']=0.469916\n",
      "Processed question 6: return type of musical organization of KMFDM -> Answer: industrial\n",
      "['industrial', 'music', 'organization', 'unknown', 'why', 'group']\n",
      "new_qst_text='From the list at the end of context: return type of musical organization of KMFDM'\n",
      "res1['answer']='industrial'\tres1['score']=0.457389\n",
      "res2['answer']='industrial'\tres2['score']=0.469916\n",
      "Processed question 7: return type of musical organization of KMFDM -> Answer: industrial\n",
      "['industrial', 'music', 'unknown', 'organization', 'group', 'name']\n",
      "new_qst_text='From the list at the end of context: return type of musical organization of KMF'\n",
      "res1['answer']='industrial'\tres1['score']=0.061862\n",
      "res2['answer']='industrial'\tres2['score']=0.038424\n",
      "Processed question 8: return type of musical organization of KMF -> Answer: industrial\n",
      "4\n",
      "['French Canadian', 'no', 'yes', 'nationality', 'passport', '[UNK]']\n",
      "new_qst_text='From the list at the end of context: return nationality of Robert Lepage'\n",
      "res1['answer']='French Canadian'\tres1['score']=0.699229\n",
      "res2['answer']='French Canadian'\tres2['score']=0.341955\n",
      "Processed question 1: return nationality of Robert Lepage -> Answer: French Canadian\n",
      "['French', 'yes', 'no', 'nationality', 'question', 'return']\n",
      "new_qst_text='From the list at the end of context: return nationality of Jean Genet'\n",
      "res1['answer']='French'\tres1['score']=1.805984\n",
      "res2['answer']='French'\tres2['score']=0.368205\n",
      "Processed question 2: return nationality of Jean Genet -> Answer: French\n",
      "['French Canadian', 'no', 'yes', 'nationality', 'passport', '[UNK]']\n",
      "new_qst_text='From the list at the end of context: return nationality of Robert Lepage'\n",
      "res1['answer']='French Canadian'\tres1['score']=0.699229\n",
      "res2['answer']='French Canadian'\tres2['score']=0.341955\n",
      "Processed question 3: return nationality of Robert Lepage -> Answer: French Canadian\n",
      "['French', 'yes', 'no', 'nationality', 'question', 'return']\n",
      "new_qst_text='From the list at the end of context: return nationality of Jean Genet'\n",
      "res1['answer']='French'\tres1['score']=1.805984\n",
      "res2['answer']='French'\tres2['score']=0.368205\n",
      "Processed question 4: return nationality of Jean Genet -> Answer: French\n",
      "['France', 'canadian', 'french', 'canada', 'nationality', 'quebec']\n",
      "new_qst_text='From the list at the end of context: return nationality of both French Canadian and French'\n",
      "res1['answer']='France'\tres1['score']=0.000250\n",
      "res2['answer']='French'\tres2['score']=0.004394\n",
      "Processed question 5: return nationality of both French Canadian and French -> Answer: French\n",
      "5\n",
      "['The breaking wheel', 'yes', 'no', 'return', 'hello', 'why']\n",
      "new_qst_text='From the list at the end of context: return how is Catherine Wheel related to The Go-Betweens'\n",
      "res1['answer']='The breaking wheel'\tres1['score']=0.126540\n",
      "res2['answer']='The breaking wheel'\tres2['score']=0.000702\n",
      "Processed question 1: return how is Catherine Wheel related to The Go-Betweens -> Answer: The breaking wheel\n",
      "6\n",
      "['Paton was never well-regarded', 'yes', 'no', 'hello', '?', 'well']\n",
      "new_qst_text='From the list at the end of context: return how are Fred Guiol and Stuart Paton alike'\n",
      "res1['answer']='Paton was never well-regarded'\tres1['score']=0.000682\n",
      "res2['answer']='never well-regarded'\tres2['score']=0.105237\n",
      "Processed question 1: return how are Fred Guiol and Stuart Paton alike -> Answer: never well-regarded\n",
      "7\n",
      "['rock singer', 'return', 'yes', 'no', 'question', 'answer']\n",
      "new_qst_text='From the list at the end of context: return what did Constantine Maroulis have in common'\n",
      "res1['answer']='rock singer'\tres1['score']=0.027420\n",
      "res2['answer']='sister, Anastasia'\tres2['score']=0.011320\n",
      "Processed question 1: return what did Constantine Maroulis have in common -> Answer: rock singer\n",
      "['self-titled 1985 debut album \"Feargal Sharkey\".', 'return', 'yes', 'no', 'question', 'answer']\n",
      "new_qst_text='From the list at the end of context: return what did Feargal Sharkey have in common'\n",
      "res1['answer']='self-titled 1985 debut album \"Feargal Sharkey\".'\tres1['score']=0.005842\n",
      "res2['answer']='If This is Love'\tres2['score']=0.012470\n",
      "Processed question 2: return what did Feargal Sharkey have in common -> Answer: If This is Love\n",
      "8\n",
      "['Arthur C. Clarke', 'yes', 'no', 'return', 'please', 'answer']\n",
      "new_qst_text='From the list at the end of context: return the first as a science fiction author'\n",
      "res1['answer']='Arthur C. Clarke'\tres1['score']=0.002077\n",
      "res2['answer']='Arthur C. Clarke'\tres2['score']=0.000289\n",
      "Processed question 1: return the first as a science fiction author -> Answer: Arthur C. Clarke\n",
      "['Dr. Pons and Dr. Fleischmann', 'yes', 'no', 'return', 'hello', 'answer']\n",
      "new_qst_text='From the list at the end of context: return the second as a reviewer for Arthur C. Clarke'\n",
      "res1['answer']='Dr. Pons and Dr. Fleischmann'\tres1['score']=0.000004\n",
      "res2['answer']=\"Arthur C. Clarke's Mysterious World\"\tres2['score']=0.000017\n",
      "Processed question 2: return the second as a reviewer for Arthur C. Clarke -> Answer: Arthur C. Clarke's Mysterious World\n",
      "['The New Observer', 'yes', 'return', 'no', 'welcome', 'proof']\n",
      "new_qst_text='From the list at the end of context: return the publication that Arthur C. Clarke is noted literary figures'\n",
      "res1['answer']='The New Observer'\tres1['score']=0.094268\n",
      "res2['answer']='The New Observer'\tres2['score']=0.000465\n",
      "Processed question 3: return the publication that Arthur C. Clarke is noted literary figures -> Answer: The New Observer\n",
      "['The New Observer\".', 'yes', 'return', 'no', 'proof', 'correct']\n",
      "new_qst_text='From the list at the end of context: return the publication that John Richardson is noted literary figures'\n",
      "res1['answer']='The New Observer\".'\tres1['score']=0.243722\n",
      "res2['answer']='The New Observer\".'\tres2['score']=0.102196\n",
      "Processed question 4: return the publication that John Richardson is noted literary figures -> Answer: The New Observer\".\n",
      "['The New Observer', 'clarke', 'fiction', 'yes', 'introduction', 'no']\n",
      "new_qst_text='From the list at the end of context: return which publication is Arthur C. Clarke a reviewer for'\n",
      "res1['answer']='The New Observer'\tres1['score']=0.111811\n",
      "res2['answer']='The New Observer'\tres2['score']=0.008359\n",
      "Processed question 5: return which publication is Arthur C. Clarke a reviewer for -> Answer: The New Observer\n",
      "9\n",
      "['Sweet Crude', 'yes', 'africa', 'no', 'interview', 'documentary']\n",
      "new_qst_text=\"From the list at the end of context: return documentary film by Sandy Cioffi about Nigeria 's oil-rich Niger Delta\"\n",
      "res1['answer']='Sweet Crude'\tres1['score']=2.200479\n",
      "res2['answer']='Sweet Crude'\tres2['score']=0.067802\n",
      "Processed question 1: return documentary film by Sandy Cioffi about Nigeria 's oil-rich Niger Delta -> Answer: Sweet Crude\n",
      "['Sweet Crude', 'yes', 'africa', 'no', 'interview', 'documentary']\n",
      "new_qst_text=\"From the list at the end of context: return documentary film by Sandy Cioffi about Nigeria 's oil-rich Niger Delta\"\n",
      "res1['answer']='Sweet Crude'\tres1['score']=2.200479\n",
      "res2['answer']='Sweet Crude'\tres2['score']=0.067802\n",
      "Processed question 2: return documentary film by Sandy Cioffi about Nigeria 's oil-rich Niger Delta -> Answer: Sweet Crude\n",
      "['Orthodox Jewish attitudes to homosexuality with his own upbringing as a gay Conservative Jew', 'yes', 'no', 'truth', 'true', 'return']\n",
      "new_qst_text='From the list at the end of context: return which is true of Sweet Crude , Sweet Crude'\n",
      "res1['answer']='Orthodox Jewish attitudes to homosexuality with his own upbringing as a gay Conservative Jew'\tres1['score']=0.005174\n",
      "res2['answer']=\"['Orthodox Jewish attitudes to homosexuality\"\tres2['score']=0.007152\n",
      "Processed question 3: return which is true of Sweet Crude , Sweet Crude -> Answer: ['Orthodox Jewish attitudes to homosexuality\n",
      "10\n",
      "['screw', 'no', 'return', 'yes', '[UNK]', 'answer']\n",
      "new_qst_text='From the list at the end of context: return palm like of Pandanus'\n",
      "res1['answer']='screw'\tres1['score']=0.155242\n",
      "res2['answer']='screw palm'\tres2['score']=0.000220\n",
      "Processed question 1: return palm like of Pandanus -> Answer: screw\n",
      "['cycads', 'return', 'yes', 'no', 'answer', 'check']\n",
      "new_qst_text='From the list at the end of context: return palm like of Eriogonum'\n",
      "res1['answer']='cycads'\tres1['score']=0.319715\n",
      "res2['answer']='Sago palm'\tres2['score']=0.002742\n",
      "Processed question 2: return palm like of Eriogonum -> Answer: cycads\n",
      "['palm', 'return', 'yes', 'no', 'answer', 'win']\n",
      "new_qst_text='From the list at the end of context: return which is more of screw , cycads'\n",
      "res1['answer']='palm'\tres1['score']=0.032064\n",
      "res2['answer']='Sago palms'\tres2['score']=0.092839\n",
      "Processed question 3: return which is more of screw , cycads -> Answer: Sago palms\n",
      "11\n",
      "['Mexican plants in the cluster lily subfamily within the asparagus family', 'return', 'no', 'yes', 'answer', 'leave']\n",
      "new_qst_text='From the list at the end of context: return if Bessera is a member of Sesleria'\n",
      "res1['answer']='Mexican plants in the cluster lily subfamily within the asparagus family'\tres1['score']=0.000409\n",
      "res2['answer']=\"['\"\tres2['score']=0.000017\n",
      "Processed question 1: return if Bessera is a member of Sesleria -> Answer: Mexican plants in the cluster lily subfamily within the asparagus family\n",
      "['Eurasian and North African genus of perennial plants in the grass family', 'return', 'no', 'yes', 'answer', 'leave']\n",
      "new_qst_text='From the list at the end of context: return if Sesleria is a member of Sesleria'\n",
      "res1['answer']='Eurasian and North African genus of perennial plants in the grass family'\tres1['score']=0.003632\n",
      "res2['answer']=\"['Eurasian and North African genus of perennial plants in the grass family\"\tres2['score']=0.000113\n",
      "Processed question 2: return if Sesleria is a member of Sesleria -> Answer: Eurasian and North African genus of perennial plants in the grass family\n",
      "['Sesleria', 'yes', 'no', 'correct', 'true', 'return']\n",
      "new_qst_text='From the list at the end of context: return which is true of Mexican plants in the cluster lily subfamily within the asparagus family , Eurasian and North African genus of perennial plants in the grass family'\n",
      "res1['answer']='Sesleria'\tres1['score']=0.264909\n",
      "res2['answer']='Sesleria'\tres2['score']=0.056395\n",
      "Processed question 3: return which is true of Mexican plants in the cluster lily subfamily within the asparagus family , Eurasian and North African genus of perennial plants in the grass family -> Answer: Sesleria\n",
      "12\n",
      "['He continues to hold both positions', 'yes', 'return', 'no', 'go', 'please']\n",
      "new_qst_text='From the list at the end of context: return what Jimmie Ross has in common'\n",
      "res1['answer']='He continues to hold both positions'\tres1['score']=0.024253\n",
      "res2['answer']='telephone, telegraph and wireless companies'\tres2['score']=0.033254\n",
      "Processed question 1: return what Jimmie Ross has in common -> Answer: telephone, telegraph and wireless companies\n",
      "['British songwriter, musician, singer, record producer and film producer', 'return', 'yes', 'no', 'answer', 'go']\n",
      "new_qst_text='From the list at the end of context: return what Jas Mann has in common'\n",
      "res1['answer']='British songwriter, musician, singer, record producer and film producer'\tres1['score']=0.024611\n",
      "res2['answer']='British songwriter, musician, singer, record producer and film producer'\tres2['score']=0.000460\n",
      "Processed question 2: return what Jas Mann has in common -> Answer: British songwriter, musician, singer, record producer and film producer\n",
      "['common carriers', 'yes', 'answer', 'return', 'no', 'ask']\n",
      "new_qst_text='From the list at the end of context: return what is telephone, telegraph and wireless companies'\n",
      "res1['answer']='common carriers'\tres1['score']=1.543437\n",
      "res2['answer']='common carriers'\tres2['score']=0.090084\n",
      "Processed question 3: return what is telephone, telegraph and wireless companies -> Answer: common carriers\n",
      "13\n",
      "['Wax leaf', 'type', 'plant', 'unknown', 'name', 'seeds']\n",
      "new_qst_text='From the list at the end of context: return type of plants of Privet'\n",
      "res1['answer']='Wax leaf'\tres1['score']=0.727342\n",
      "res2['answer']='erect, deciduous or evergreen shrubs'\tres2['score']=0.167459\n",
      "Processed question 1: return type of plants of Privet -> Answer: Wax leaf\n",
      "['flowering', 'type', 'species', 'plant', 'name', 'flower']\n",
      "new_qst_text='From the list at the end of context: return type of plants of Hermannia'\n",
      "res1['answer']='flowering'\tres1['score']=1.221531\n",
      "res2['answer']='flowering'\tres2['score']=0.036039\n",
      "Processed question 2: return type of plants of Hermannia -> Answer: flowering\n",
      "['Wax leaf', 'type', 'plant', 'unknown', 'name', 'seeds']\n",
      "new_qst_text='From the list at the end of context: return type of plants of Privet'\n",
      "res1['answer']='Wax leaf'\tres1['score']=0.727342\n",
      "res2['answer']='erect, deciduous or evergreen shrubs'\tres2['score']=0.167459\n",
      "Processed question 3: return type of plants of Privet -> Answer: Wax leaf\n",
      "['flowering', 'type', 'species', 'plant', 'name', 'flower']\n",
      "new_qst_text='From the list at the end of context: return type of plants of Hermannia'\n",
      "res1['answer']='flowering'\tres1['score']=1.221531\n",
      "res2['answer']='flowering'\tres2['score']=0.036039\n",
      "Processed question 4: return type of plants of Hermannia -> Answer: flowering\n",
      "['flowering', 'type', 'species', 'plant', 'name', 'flower']\n",
      "new_qst_text='From the list at the end of context: return type of plants of Hermannia'\n",
      "res1['answer']='flowering'\tres1['score']=1.221531\n",
      "res2['answer']='flowering'\tres2['score']=0.036039\n",
      "Processed question 5: return type of plants of Hermannia -> Answer: flowering\n",
      "['flowering', 'type', 'species', 'plant', 'name', 'flower']\n",
      "new_qst_text='From the list at the end of context: return type of plants of Hermannia'\n",
      "res1['answer']='flowering'\tres1['score']=1.221531\n",
      "res2['answer']='flowering'\tres2['score']=0.036039\n",
      "Processed question 6: return type of plants of Hermannia -> Answer: flowering\n",
      "['flowering', 'type', 'species', 'plant', 'name', 'flower']\n",
      "new_qst_text='From the list at the end of context: return type of plants of Hermannia'\n",
      "res1['answer']='flowering'\tres1['score']=1.221531\n",
      "res2['answer']='flowering'\tres2['score']=0.036039\n",
      "Processed question 7: return type of plants of Hermannia -> Answer: flowering\n",
      "['flowering', 'type', 'plant', 'name', 'species', 'flower']\n",
      "new_qst_text='From the list at the end of context: return type of plants of Hermann'\n",
      "res1['answer']='flowering'\tres1['score']=0.771812\n",
      "res2['answer']='flowering'\tres2['score']=0.026167\n",
      "Processed question 8: return type of plants of Hermann -> Answer: flowering\n",
      "14\n",
      "['Heterotaxis', 'orchid', 'flower', 'genus', 'species', 'name']\n",
      "new_qst_text='From the list at the end of context: return genus of orchids of Duvalia'\n",
      "res1['answer']='Heterotaxis'\tres1['score']=0.483879\n",
      "res2['answer']='Heterotaxis'\tres2['score']=0.026630\n",
      "Processed question 1: return genus of orchids of Duvalia -> Answer: Heterotaxis\n",
      "['croceorubens', 'orchid', 'name', 'species', 'no', 'unknown']\n",
      "new_qst_text='From the list at the end of context: return genus of orchids of Maxillaria'\n",
      "res1['answer']='croceorubens'\tres1['score']=0.017609\n",
      "res2['answer']='Camaridium'\tres2['score']=0.002073\n",
      "Processed question 2: return genus of orchids of Maxillaria -> Answer: croceorubens\n",
      "['native to Latin America', 'return', 'yes', 'no', 'answer', 'correct']\n",
      "new_qst_text='From the list at the end of context: return if Heterotaxis is a genus of orchids'\n",
      "res1['answer']='native to Latin America'\tres1['score']=0.005046\n",
      "res2['answer']='Latin America'\tres2['score']=0.000474\n",
      "Processed question 3: return if Heterotaxis is a genus of orchids -> Answer: native to Latin America\n",
      "['Maxillaria', 'return', 'yes', 'no', 'answer', 'correct']\n",
      "new_qst_text='From the list at the end of context: return if croceorubens is a genus of orchids'\n",
      "res1['answer']='Maxillaria'\tres1['score']=0.012241\n",
      "res2['answer']='Maxillaria'\tres2['score']=0.000993\n",
      "Processed question 4: return if croceorubens is a genus of orchids -> Answer: Maxillaria\n",
      "['diverse genus, with very different morphological forms', 'no', 'unknown', 'name', 'yes', 'return']\n",
      "new_qst_text='From the list at the end of context: return which is true of native to Latin America , Maxillaria'\n",
      "res1['answer']='diverse genus, with very different morphological forms'\tres1['score']=0.018573\n",
      "res2['answer']='Heterotaxis'\tres2['score']=0.000745\n",
      "Processed question 5: return which is true of native to Latin America , Maxillaria -> Answer: diverse genus, with very different morphological forms\n",
      "15\n",
      "['Documentary Feature', 'return', 'no', 'yes', 'exit', 'love']\n",
      "new_qst_text='From the list at the end of context: return genres that Born into Brothels are of'\n",
      "res1['answer']='Documentary Feature'\tres1['score']=0.005859\n",
      "res2['answer']='Documentary Feature'\tres2['score']=0.003522\n",
      "Processed question 1: return genres that Born into Brothels are of -> Answer: Documentary Feature\n",
      "[\"conservation's success stories\", 'return', 'fish', 'shark', 'no', 'yes']\n",
      "new_qst_text='From the list at the end of context: return genres that Sharkwater are of'\n",
      "res1['answer']=\"conservation's success stories\"\tres1['score']=0.040479\n",
      "res2['answer']='fish'\tres2['score']=0.001081\n",
      "Processed question 2: return genres that Sharkwater are of -> Answer: conservation's success stories\n",
      "[\"conservation's success stories\", 'return', 'fish', 'shark', 'no', 'yes']\n",
      "new_qst_text='From the list at the end of context: return genres that Sharkwater are of'\n",
      "res1['answer']=\"conservation's success stories\"\tres1['score']=0.040479\n",
      "res2['answer']='fish'\tres2['score']=0.001081\n",
      "Processed question 3: return genres that Sharkwater are of -> Answer: conservation's success stories\n",
      "[\"conservation's success stories\", 'return', 'fish', 'shark', 'no', 'yes']\n",
      "new_qst_text='From the list at the end of context: return genres that Sharkwater are of'\n",
      "res1['answer']=\"conservation's success stories\"\tres1['score']=0.040479\n",
      "res2['answer']='fish'\tres2['score']=0.001081\n",
      "Processed question 4: return genres that Sharkwater are of -> Answer: conservation's success stories\n",
      "['Academy Award', 'yes', 'return', 'truth', 'success', 'no']\n",
      "new_qst_text=\"From the list at the end of context: return which is true of Documentary Feature , conservation's success stories\"\n",
      "res1['answer']='Academy Award'\tres1['score']=0.002785\n",
      "res2['answer']='truth'\tres2['score']=0.010096\n",
      "Processed question 5: return which is true of Documentary Feature , conservation's success stories -> Answer: truth\n",
      "16\n",
      "['Travolta again in \"Grease\"', 'yes', 'return', 'no', 'answer', 'question']\n",
      "new_qst_text='From the list at the end of context: return occupations of Randal Kleiser'\n",
      "res1['answer']='Travolta again in \"Grease\"'\tres1['score']=0.003159\n",
      "res2['answer']='Travolta'\tres2['score']=0.000197\n",
      "Processed question 1: return occupations of Randal Kleiser -> Answer: Travolta again in \"Grease\"\n",
      "['director and screenwriter', 'yes', 'no', 'return', 'answer', 'question']\n",
      "new_qst_text='From the list at the end of context: return occupations of Ken Kwapis'\n",
      "res1['answer']='director and screenwriter'\tres1['score']=0.125824\n",
      "res2['answer']=\"['director and screenwriter\"\tres2['score']=0.000017\n",
      "Processed question 2: return occupations of Ken Kwapis -> Answer: director and screenwriter\n",
      "['Travolta', 'yes', 'no', 'question', 'return', 'unknown']\n",
      "new_qst_text='From the list at the end of context: return common occupations of Randal Kleiser'\n",
      "res1['answer']='Travolta'\tres1['score']=0.000004\n",
      "res2['answer']='unknown'\tres2['score']=0.000026\n",
      "Processed question 3: return common occupations of Randal Kleiser -> Answer: unknown\n",
      "['Travolta', 'yes', 'no', 'question', 'return', 'unknown']\n",
      "new_qst_text='From the list at the end of context: return common occupations of Randal Kleiser'\n",
      "res1['answer']='Travolta'\tres1['score']=0.000004\n",
      "res2['answer']='unknown'\tres2['score']=0.000026\n",
      "Processed question 4: return common occupations of Randal Kleiser -> Answer: unknown\n",
      "['single-camera sitcom in the 1990s and 2000s', 'yes', 'return', 'no', 'question', 'answer']\n",
      "new_qst_text='From the list at the end of context: return common occupations of Ken Kwapis'\n",
      "res1['answer']='single-camera sitcom in the 1990s and 2000s'\tres1['score']=0.062532\n",
      "res2['answer']='no'\tres2['score']=0.000024\n",
      "Processed question 5: return common occupations of Ken Kwapis -> Answer: single-camera sitcom in the 1990s and 2000s\n",
      "['single-camera sitcom in the 1990s and 2000s', 'return', 'yes', 'no', '[UNK]', 'answer']\n",
      "new_qst_text='From the list at the end of context: return common occupations of Ken Kwa'\n",
      "res1['answer']='single-camera sitcom in the 1990s and 2000s'\tres1['score']=0.066800\n",
      "res2['answer']=\"['single-camera sitcom in the 1990s and 2000s\"\tres2['score']=0.000005\n",
      "Processed question 6: return common occupations of Ken Kwa -> Answer: single-camera sitcom in the 1990s and 2000s\n",
      "17\n",
      "['British', 'yes', 'no', 'return', 'answer', 'correct']\n",
      "new_qst_text='From the list at the end of context: return if Helen Fielding is a writer'\n",
      "res1['answer']='British'\tres1['score']=0.000314\n",
      "res2['answer']='correct'\tres2['score']=0.000021\n",
      "Processed question 1: return if Helen Fielding is a writer -> Answer: British\n",
      "['Pulitzer Prize winner', 'return', 'yes', 'no', 'answer', 'write']\n",
      "new_qst_text='From the list at the end of context: return if Thomas Friedman is a writer'\n",
      "res1['answer']='Pulitzer Prize winner'\tres1['score']=0.000759\n",
      "res2['answer']=\"the United States' economic and political stature in the world\"\tres2['score']=0.001463\n",
      "Processed question 2: return if Thomas Friedman is a writer -> Answer: the United States' economic and political stature in the world\n",
      "['embrace the clean energy and green technology industries', 'return', 'yes', 'no', 'answer', 'correct']\n",
      "new_qst_text=\"From the list at the end of context: return if both British and the United States' economic and political stature in the world are true\"\n",
      "res1['answer']='embrace the clean energy and green technology industries'\tres1['score']=0.000263\n",
      "res2['answer']='embrace the clean energy and green technology industries'\tres2['score']=0.007479\n",
      "Processed question 3: return if both British and the United States' economic and political stature in the world are true -> Answer: embrace the clean energy and green technology industries\n",
      "18\n",
      "['1991', 'return', '?', 'yes', 'no', '[UNK]']\n",
      "new_qst_text='From the list at the end of context: return when was Asia Pacific College founded'\n",
      "res1['answer']='1991'\tres1['score']=1.950271\n",
      "res2['answer']='1991'\tres2['score']=2.388837\n",
      "Processed question 1: return when was Asia Pacific College founded -> Answer: 1991\n",
      "['1904', 'return', 'yes', 'no', '?', 'present']\n",
      "new_qst_text='From the list at the end of context: return when was Bulacan State University founded'\n",
      "res1['answer']='1904'\tres1['score']=1.804945\n",
      "res2['answer']='1904'\tres2['score']=1.422918\n",
      "Processed question 2: return when was Bulacan State University founded -> Answer: 1904\n",
      "['an intermediate school', 'return', 'yes', 'no', 'answer', 'now']\n",
      "new_qst_text='From the list at the end of context: return which was first of 1991 , 1904'\n",
      "res1['answer']='an intermediate school'\tres1['score']=0.000112\n",
      "res2['answer']=\"['an intermediate school\"\tres2['score']=0.000005\n",
      "Processed question 3: return which was first of 1991 , 1904 -> Answer: an intermediate school\n",
      "19\n",
      "['some of the same sets', 'yes', 'no', 'hello', '[UNK]', 'zero']\n",
      "new_qst_text='From the list at the end of context: return how similar is Mario Bava'\n",
      "res1['answer']='some of the same sets'\tres1['score']=0.048189\n",
      "res2['answer']='some of the same sets'\tres2['score']=0.003514\n",
      "Processed question 1: return how similar is Mario Bava -> Answer: some of the same sets\n",
      "['Lamberto Bava', 'yes', 'no', 'q', 'correct', 'hello']\n",
      "new_qst_text='From the list at the end of context: return how similar is Ben Holmes'\n",
      "res1['answer']='Lamberto Bava'\tres1['score']=0.000271\n",
      "res2['answer']='sets'\tres2['score']=0.000068\n",
      "Processed question 2: return how similar is Ben Holmes -> Answer: Lamberto Bava\n",
      "['Nikolai Gogol\\'s short story \"Viy\",', 'return', 'yes', 'no', 'answer', 'question']\n",
      "new_qst_text='From the list at the end of context: return what is similar about some of the same sets , Lamberto Bava'\n",
      "res1['answer']='Nikolai Gogol\\'s short story \"Viy\",'\tres1['score']=0.000120\n",
      "res2['answer']='Shooting at Cinecittà'\tres2['score']=0.000098\n",
      "Processed question 3: return what is similar about some of the same sets , Lamberto Bava -> Answer: Nikolai Gogol's short story \"Viy\",\n",
      "20\n",
      "['lead singer', 'yes', 'no', 'return', 'unknown', 'occupation']\n",
      "new_qst_text='From the list at the end of context: return occupation of Roger Daltrey'\n",
      "res1['answer']='lead singer'\tres1['score']=1.042701\n",
      "res2['answer']='lead singer'\tres2['score']=0.732565\n",
      "Processed question 1: return occupation of Roger Daltrey -> Answer: lead singer\n",
      "['guitarist', 'yes', 'no', 'unknown', 'return', 'answer']\n",
      "new_qst_text='From the list at the end of context: return occupation of David Gilmour'\n",
      "res1['answer']='guitarist'\tres1['score']=0.604637\n",
      "res2['answer']='guitarist'\tres2['score']=0.334524\n",
      "Processed question 2: return occupation of David Gilmour -> Answer: guitarist\n",
      "['lead singer', 'yes', 'no', 'return', 'unknown', 'occupation']\n",
      "new_qst_text='From the list at the end of context: return occupation of Roger Daltrey'\n",
      "res1['answer']='lead singer'\tres1['score']=1.042701\n",
      "res2['answer']='lead singer'\tres2['score']=0.732565\n",
      "Processed question 3: return occupation of Roger Daltrey -> Answer: lead singer\n",
      "['lead singer', 'yes', 'no', 'return', 'unknown', 'occupation']\n",
      "new_qst_text='From the list at the end of context: return occupation of Roger Daltrey'\n",
      "res1['answer']='lead singer'\tres1['score']=1.042701\n",
      "res2['answer']='lead singer'\tres2['score']=0.732565\n",
      "Processed question 4: return occupation of Roger Daltrey -> Answer: lead singer\n",
      "['guitarist', 'yes', 'no', 'unknown', 'return', 'answer']\n",
      "new_qst_text='From the list at the end of context: return occupation of David Gilmour'\n",
      "res1['answer']='guitarist'\tres1['score']=0.604637\n",
      "res2['answer']='guitarist'\tres2['score']=0.334524\n",
      "Processed question 5: return occupation of David Gilmour -> Answer: guitarist\n",
      "['lead singer', 'yes', 'no', 'return', 'unknown', 'occupation']\n",
      "new_qst_text='From the list at the end of context: return occupation of Roger Daltrey'\n",
      "res1['answer']='lead singer'\tres1['score']=1.042701\n",
      "res2['answer']='lead singer'\tres2['score']=0.732565\n",
      "Processed question 6: return occupation of Roger Daltrey -> Answer: lead singer\n",
      "['Frank Simes', 'return', 'yes', 'no', 'unknown', 'exit']\n",
      "new_qst_text='From the list at the end of context: return occupation of both lead singer and guitarist'\n",
      "res1['answer']='Frank Simes'\tres1['score']=0.018457\n",
      "res2['answer']='guitarist'\tres2['score']=0.011241\n",
      "Processed question 7: return occupation of both lead singer and guitarist -> Answer: Frank Simes\n",
      "['guitarist', 'return', 'yes', 'exit', 'no', 'unknown']\n",
      "new_qst_text='From the list at the end of context: return occupation of both lead singer and lead singer'\n",
      "res1['answer']='guitarist'\tres1['score']=0.639506\n",
      "res2['answer']='guitarist'\tres2['score']=0.508620\n",
      "Processed question 8: return occupation of both lead singer and lead singer -> Answer: guitarist\n"
     ]
    }
   ],
   "source": [
    "start = time()\n",
    "temp = df[(df.level == 'easy') & (df.type == 'comparison')][200:220].copy()\n",
    "temp['pred_answer'] = temp.apply(answer_from_df, axis=1)\n",
    "end = time()"
   ]
  },
  {
   "cell_type": "code",
   "execution_count": null,
   "id": "769908dd",
   "metadata": {},
   "outputs": [],
   "source": []
  },
  {
   "cell_type": "code",
   "execution_count": 41,
   "id": "807738f0",
   "metadata": {},
   "outputs": [],
   "source": [
    "duration = end - start"
   ]
  },
  {
   "cell_type": "code",
   "execution_count": 44,
   "id": "a409cf63",
   "metadata": {},
   "outputs": [
    {
     "data": {
      "text/plain": [
       "90447"
      ]
     },
     "execution_count": 44,
     "metadata": {},
     "output_type": "execute_result"
    }
   ],
   "source": [
    "df.shape[0]"
   ]
  },
  {
   "cell_type": "code",
   "execution_count": 46,
   "id": "77125a87",
   "metadata": {},
   "outputs": [
    {
     "data": {
      "text/plain": [
       "4.311411023139954"
      ]
     },
     "execution_count": 46,
     "metadata": {},
     "output_type": "execute_result"
    }
   ],
   "source": [
    "(12000 * duration/20)/3600"
   ]
  },
  {
   "cell_type": "code",
   "execution_count": 48,
   "id": "745e2db0",
   "metadata": {},
   "outputs": [
    {
     "name": "stdout",
     "output_type": "stream",
     "text": [
      "level\n",
      "easy      4\n",
      "hard      4\n",
      "medium    4\n",
      "Name: count, dtype: int64\n",
      "type\n",
      "bridge        6\n",
      "comparison    6\n",
      "Name: count, dtype: int64\n",
      "(12, 7)\n"
     ]
    },
    {
     "name": "stderr",
     "output_type": "stream",
     "text": [
      "/tmp/ipykernel_2090836/1722474459.py:4: FutureWarning: DataFrameGroupBy.apply operated on the grouping columns. This behavior is deprecated, and in a future version of pandas the grouping columns will be excluded from the operation. Either pass `include_groups=False` to exclude the groupings or explicitly select the grouping columns after groupby to silence this warning.\n",
      "  .apply(lambda g: g.sample(n=2, random_state=42))\n"
     ]
    }
   ],
   "source": [
    "# Sample exactly 2000 rows from each (level, type) combination\n",
    "df_sampled = (\n",
    "    df.groupby(['level', 'type'], group_keys=False)\n",
    "      .apply(lambda g: g.sample(n=2, random_state=42))\n",
    ")\n",
    "\n",
    "print(df_sampled['level'].value_counts())\n",
    "print(df_sampled['type'].value_counts())\n",
    "print(df_sampled.shape)"
   ]
  },
  {
   "cell_type": "code",
   "execution_count": null,
   "id": "6661a471",
   "metadata": {},
   "outputs": [
    {
     "name": "stdout",
     "output_type": "stream",
     "text": [
      "['James Goldman', 'yes', 'no', 'applause', 'sorry', 'hello']\n",
      "new_qst_text='From the list at the end of context: return author that Danny Burstein is a six-time Tony Award nominee for The Drowsy Chaperone (2006) , South Pacific (2008) , Follies , a musical with music and lyrics by Stephen Sondheim'\n",
      "res1['answer']='James Goldman'\tres1['score']=0.001724\n",
      "res2['answer']='James Goldman'\tres2['score']=0.000132\n",
      "Processed question 1: return author that Danny Burstein is a six-time Tony Award nominee for The Drowsy Chaperone (2006) , South Pacific (2008) , Follies , a musical with music and lyrics by Stephen Sondheim -> Answer: James Goldman\n",
      "['James Goldman', 'yes', 'no', 'applause', 'sorry', 'hello']\n",
      "new_qst_text='From the list at the end of context: return author that Danny Burstein is a six-time Tony Award nominee for The Drowsy Chaperone (2006) , South Pacific (2008) , Follies , a musical with music and lyrics by Stephen Sondheim'\n",
      "res1['answer']='James Goldman'\tres1['score']=0.001724\n",
      "res2['answer']='James Goldman'\tres2['score']=0.000132\n",
      "Processed question 2: return author that Danny Burstein is a six-time Tony Award nominee for The Drowsy Chaperone (2006) , South Pacific (2008) , Follies , a musical with music and lyrics by Stephen Sondheim -> Answer: James Goldman\n",
      "['book', 'yes', 'no', 'answer', 'name', 'unknown']\n",
      "new_qst_text='From the list at the end of context: return author of James Goldman'\n",
      "res1['answer']='book'\tres1['score']=0.058141\n",
      "res2['answer']='book'\tres2['score']=0.001003\n",
      "Processed question 3: return author of James Goldman -> Answer: book\n",
      "['book', 'yes', 'no', 'answer', 'name', 'unknown']\n",
      "new_qst_text='From the list at the end of context: return author of James Goldman'\n",
      "res1['answer']='book'\tres1['score']=0.058141\n",
      "res2['answer']='book'\tres2['score']=0.001003\n",
      "Processed question 4: return author of James Goldman -> Answer: book\n",
      "['Follies', 'no', 'book', 'yes', 'read', 'author']\n",
      "new_qst_text='From the list at the end of context: return James Goldman , book'\n",
      "res1['answer']='Follies'\tres1['score']=0.005382\n",
      "res2['answer']='Follies'\tres2['score']=0.000350\n",
      "Processed question 5: return James Goldman , book -> Answer: Follies\n",
      "['the team acquired Steve Kerr from the Cleveland Cavaliers', 'yes', 'no', 'return', 'win', 'go']\n",
      "new_qst_text='From the list at the end of context: return the National Basketball Association in December'\n",
      "res1['answer']='the team acquired Steve Kerr from the Cleveland Cavaliers'\tres1['score']=0.000379\n",
      "res2['answer']='defensive'\tres2['score']=0.002972\n",
      "Processed question 1: return the National Basketball Association in December -> Answer: defensive\n",
      "['Cleveland Cavaliers', 'yes', 'return', 'no', 'win', 'favor']\n",
      "new_qst_text='From the list at the end of context: return the team that acquired Steve Kerr , an American former professional basketball player and the current head coach of the National Basketball Association in December'\n",
      "res1['answer']='Cleveland Cavaliers'\tres1['score']=0.520422\n",
      "res2['answer']='Cleveland Cavaliers'\tres2['score']=0.068337\n",
      "Processed question 2: return the team that acquired Steve Kerr , an American former professional basketball player and the current head coach of the National Basketball Association in December -> Answer: Cleveland Cavaliers\n",
      "['Cleveland Cavaliers', 'return', 'yes', 'no', 'win', 'favor']\n",
      "new_qst_text='From the list at the end of context: return the organization that defensive acquired Steve Kerr , an American former professional basketball player and the current head coach of'\n",
      "res1['answer']='Cleveland Cavaliers'\tres1['score']=0.805433\n",
      "res2['answer']='Cleveland Cavaliers'\tres2['score']=0.803763\n",
      "Processed question 3: return the organization that defensive acquired Steve Kerr , an American former professional basketball player and the current head coach of -> Answer: Cleveland Cavaliers\n",
      "['Romantic period poetry', 'return', 'no', '[UNK]', 'answer', 'yes']\n",
      "new_qst_text='From the list at the end of context: return mutual genre of Mulan'\n",
      "res1['answer']='Romantic period poetry'\tres1['score']=0.000264\n",
      "res2['answer']='poetry'\tres2['score']=0.001048\n",
      "Processed question 1: return mutual genre of Mulan -> Answer: poetry\n",
      "['political message', 'return', 'no', 'yes', 'win', 'challenge']\n",
      "new_qst_text='From the list at the end of context: return mutual genre of Underdog'\n",
      "res1['answer']='political message'\tres1['score']=0.000738\n",
      "res2['answer']=\"girl's fiction\"\tres2['score']=0.000271\n",
      "Processed question 2: return mutual genre of Underdog -> Answer: political message\n",
      "['aesthetically disparate', 'truth', 'yes', 'answer', 'no', 'poetry']\n",
      "new_qst_text='From the list at the end of context: return which is true of poetry , political message'\n",
      "res1['answer']='aesthetically disparate'\tres1['score']=0.045593\n",
      "res2['answer']='aesthetically disparate'\tres2['score']=0.085417\n",
      "Processed question 3: return which is true of poetry , political message -> Answer: aesthetically disparate\n",
      "['American', 'passport', 'yes', 'no', 'return', '[UNK]']\n",
      "new_qst_text='From the list at the end of context: return nationality of the film The Princess Diaries 2 Royal Engagement'\n",
      "res1['answer']='American'\tres1['score']=0.861401\n",
      "res2['answer']='2004'\tres2['score']=0.031646\n",
      "Processed question 1: return nationality of the film The Princess Diaries 2 Royal Engagement -> Answer: American\n",
      "['The Princess Diaries, Volume XI', 'yes', 'engagement', 'no', 'marriage', 'congratulations']\n",
      "new_qst_text='From the list at the end of context: Royal Engagement'\n",
      "res1['answer']='The Princess Diaries, Volume XI'\tres1['score']=0.000433\n",
      "res2['answer']='The Princess Diaries, Volume XI'\tres2['score']=0.018083\n",
      "Processed question 2: Royal Engagement -> Answer: The Princess Diaries, Volume XI\n",
      "['American', 'passport', 'yes', 'nationality', 'no', 'identity']\n",
      "new_qst_text='From the list at the end of context: return nationality of the film The Princess Diaries'\n",
      "res1['answer']='American'\tres1['score']=0.449490\n",
      "res2['answer']='American'\tres2['score']=0.000841\n",
      "Processed question 3: return nationality of the film The Princess Diaries -> Answer: American\n",
      "['American', 'nationality', 'no', 'yes', 'passport', 'unknown']\n",
      "new_qst_text='From the list at the end of context: return nationality of the film Underdog'\n",
      "res1['answer']='American'\tres1['score']=1.091774\n",
      "res2['answer']='American'\tres2['score']=0.109115\n",
      "Processed question 4: return nationality of the film Underdog -> Answer: American\n",
      "['not based on any of the books', 'yes', 'no', 'truth', 'true', '[UNK]']\n",
      "new_qst_text='From the list at the end of context: return which is true of American , The Princess Diaries, Volume XI'\n",
      "res1['answer']='not based on any of the books'\tres1['score']=0.000337\n",
      "res2['answer']='this film is not based on any of the books'\tres2['score']=0.000365\n",
      "Processed question 5: return which is true of American , The Princess Diaries, Volume XI -> Answer: this film is not based on any of the books\n",
      "['bazooka', 'fire', 'grenade', 'gun', 'yes', 'bomb']\n",
      "new_qst_text='From the list at the end of context: return rocket propelled weapon sometimes referred to as the Stovepipe'\n",
      "res1['answer']='bazooka'\tres1['score']=0.317696\n",
      "res2['answer']='bazooka'\tres2['score']=0.022507\n",
      "Processed question 1: return rocket propelled weapon sometimes referred to as the Stovepipe -> Answer: bazooka\n",
      "['anti-tank rocket launcher weapon', 'yes', 'no', 'correct', 'answer', 'unknown']\n",
      "new_qst_text='From the list at the end of context: return bazooka that Colonel Leslie Alfred Skinner helped develop'\n",
      "res1['answer']='anti-tank rocket launcher weapon'\tres1['score']=0.000968\n",
      "res2['answer']='Youth pride'\tres2['score']=0.000041\n",
      "Processed question 2: return bazooka that Colonel Leslie Alfred Skinner helped develop -> Answer: anti-tank rocket launcher weapon\n",
      "['Chris Cardillo and Ashlee Keating', 'yes', 'no', 'hello', 'winner', '?']\n",
      "new_qst_text='From the list at the end of context: return who played in the movie The Mint'\n",
      "res1['answer']='Chris Cardillo and Ashlee Keating'\tres1['score']=0.070063\n",
      "res2['answer']='Chris Cardillo and Ashlee Keating'\tres2['score']=0.073198\n",
      "Processed question 1: return who played in the movie The Mint -> Answer: Chris Cardillo and Ashlee Keating\n",
      "['Jennifer Lynn \"Jenni\" Farley', 'yes', 'no', 'winner', 'win', 'none']\n",
      "new_qst_text='From the list at the end of context: return who played on the TV show Jersey Shore'\n",
      "res1['answer']='Jennifer Lynn \"Jenni\" Farley'\tres1['score']=0.663334\n",
      "res2['answer']='Perez Hilton'\tres2['score']=0.551991\n",
      "Processed question 2: return who played on the TV show Jersey Shore -> Answer: Jennifer Lynn \"Jenni\" Farley\n",
      "['Chris Cardillo and Ashlee Keating', 'yes', 'no', 'hello', 'winner', '?']\n",
      "new_qst_text='From the list at the end of context: return who played in the movie The Mint'\n",
      "res1['answer']='Chris Cardillo and Ashlee Keating'\tres1['score']=0.070063\n",
      "res2['answer']='Chris Cardillo and Ashlee Keating'\tres2['score']=0.073198\n",
      "Processed question 3: return who played in the movie The Mint -> Answer: Chris Cardillo and Ashlee Keating\n",
      "['Chris Cardillo and Ashlee Keating', 'yes', 'no', 'hello', 'winner', '?']\n",
      "new_qst_text='From the list at the end of context: return who played in the movie The Mint'\n",
      "res1['answer']='Chris Cardillo and Ashlee Keating'\tres1['score']=0.070063\n",
      "res2['answer']='Chris Cardillo and Ashlee Keating'\tres2['score']=0.073198\n",
      "Processed question 4: return who played in the movie The Mint -> Answer: Chris Cardillo and Ashlee Keating\n",
      "['Chris Cardillo and Ashlee Keating', 'yes', 'no', 'hello', 'winner', '?']\n",
      "new_qst_text='From the list at the end of context: return who played in the movie The Mint'\n",
      "res1['answer']='Chris Cardillo and Ashlee Keating'\tres1['score']=0.070063\n",
      "res2['answer']='Chris Cardillo and Ashlee Keating'\tres2['score']=0.073198\n",
      "Processed question 5: return who played in the movie The Mint -> Answer: Chris Cardillo and Ashlee Keating\n",
      "['Jennifer Lynn \"Jenni\" Farley', 'yes', 'no', 'winner', 'win', '?']\n",
      "new_qst_text='From the list at the end of context: return who played in the TV show Jersey Shore'\n",
      "res1['answer']='Jennifer Lynn \"Jenni\" Farley'\tres1['score']=0.682740\n",
      "res2['answer']='Jennifer Lynn \"Jenni\" Farley'\tres2['score']=0.256942\n",
      "Processed question 6: return who played in the TV show Jersey Shore -> Answer: Jennifer Lynn \"Jenni\" Farley\n",
      "['Chris Cardillo and Ashlee Keating', 'yes', 'no', 'hello', 'winner', '?']\n",
      "new_qst_text='From the list at the end of context: return who played in the movie The Mint'\n",
      "res1['answer']='Chris Cardillo and Ashlee Keating'\tres1['score']=0.070063\n",
      "res2['answer']='Chris Cardillo and Ashlee Keating'\tres2['score']=0.073198\n",
      "Processed question 7: return who played in the movie The Mint -> Answer: Chris Cardillo and Ashlee Keating\n",
      "['Jennifer Lynn \"Jenni\" Farley', 'yes', 'no', 'win', 'winner', 'out']\n",
      "new_qst_text='From the list at the end of context: return who played in the'\n",
      "res1['answer']='Jennifer Lynn \"Jenni\" Farley'\tres1['score']=0.203243\n",
      "res2['answer']='Adrienne Bailon'\tres2['score']=0.055021\n",
      "Processed question 8: return who played in the -> Answer: Jennifer Lynn \"Jenni\" Farley\n",
      "['returned to play on his college home court', 'return', 'yes', 'no', 'win', 'answer']\n",
      "new_qst_text='From the list at the end of context: return if Jean-Julien Rojer is a professional tennis player'\n",
      "res1['answer']='returned to play on his college home court'\tres1['score']=0.000485\n",
      "res2['answer']='main career statistics'\tres2['score']=0.001087\n",
      "Processed question 1: return if Jean-Julien Rojer is a professional tennis player -> Answer: main career statistics\n",
      "['Czech Republic', 'return', 'no', 'yes', 'win', 'answer']\n",
      "new_qst_text='From the list at the end of context: return if Kvta Peschke is a professional tennis player'\n",
      "res1['answer']='Czech Republic'\tres1['score']=0.065847\n",
      "res2['answer']='main career statistics'\tres2['score']=0.062147\n",
      "Processed question 2: return if Kvta Peschke is a professional tennis player -> Answer: Czech Republic\n",
      "['both the singles and doubles championships were successfully defended', 'return', 'no', 'yes', 'answer', 'win']\n",
      "new_qst_text='From the list at the end of context: return if both main career statistics and Czech Republic are true'\n",
      "res1['answer']='both the singles and doubles championships were successfully defended'\tres1['score']=0.012917\n",
      "res2['answer']='doubles championships were successfully defended'\tres2['score']=0.004934\n",
      "Processed question 3: return if both main career statistics and Czech Republic are true -> Answer: both the singles and doubles championships were successfully defended\n",
      "['2011', 'return', 'yes', 'no', 'returns', 'back']\n",
      "new_qst_text='From the list at the end of context: return when was the film Zokkomon published'\n",
      "res1['answer']='2011'\tres1['score']=0.406069\n",
      "res2['answer']='2011'\tres2['score']=0.049084\n",
      "Processed question 1: return when was the film Zokkomon published -> Answer: 2011\n",
      "['1908', 'return', 'yes', 'no', 'home', 'back']\n",
      "new_qst_text='From the list at the end of context: return when was the novel The Wind in the Willows produced'\n",
      "res1['answer']='1908'\tres1['score']=0.531625\n",
      "res2['answer']='1908'\tres2['score']=0.477422\n",
      "Processed question 2: return when was the novel The Wind in the Willows produced -> Answer: 1908\n",
      "['R', 'return', 'yes', 'zero', 'no', '0']\n",
      "new_qst_text='From the list at the end of context: return which is the lowest of 2011 , 1908'\n",
      "res1['answer']='R'\tres1['score']=0.000000\n",
      "res2['answer']=\"zero', 'no', '0\"\tres2['score']=0.000017\n",
      "Processed question 3: return which is the lowest of 2011 , 1908 -> Answer: zero', 'no', '0\n",
      "['Damon Hill', 'return', 'no', 'winner', 'win', 'yes']\n",
      "new_qst_text=\"From the list at the end of context: return the driver who took over the lead when the Austrian 's engine failed with 3 laps remaining\"\n",
      "res1['answer']='Damon Hill'\tres1['score']=0.182580\n",
      "res2['answer']='Damon Hill'\tres2['score']=0.522606\n",
      "Processed question 1: return the driver who took over the lead when the Austrian 's engine failed with 3 laps remaining -> Answer: Damon Hill\n",
      "['naturalized in Hawaii', 'return', 'no', 'answer', 'yes', 'leave']\n",
      "new_qst_text='From the list at the end of context: return if Fraxinus is found in North America'\n",
      "res1['answer']='naturalized in Hawaii'\tres1['score']=0.061031\n",
      "res2['answer']='Fraxinus'\tres2['score']=0.000001\n",
      "Processed question 1: return if Fraxinus is found in North America -> Answer: naturalized in Hawaii\n",
      "['naturalized in Hawaii', 'return', 'no', 'yes', 'answer', 'leave']\n",
      "new_qst_text='From the list at the end of context: return if Onoclea is found in North America'\n",
      "res1['answer']='naturalized in Hawaii'\tres1['score']=0.003429\n",
      "res2['answer']='eastern North America'\tres2['score']=0.000001\n",
      "Processed question 2: return if Onoclea is found in North America -> Answer: naturalized in Hawaii\n",
      "['Depending on the authority', 'return', 'no', 'answer', 'yes', 'returns']\n",
      "new_qst_text='From the list at the end of context: return if both naturalized in Hawaii and naturalized in Hawaii are true'\n",
      "res1['answer']='Depending on the authority'\tres1['score']=0.000154\n",
      "res2['answer']='Depending on the authority'\tres2['score']=0.000191\n",
      "Processed question 3: return if both naturalized in Hawaii and naturalized in Hawaii are true -> Answer: Depending on the authority\n",
      "['April 16, 1985', 'return', 'no', 'yes', 'hello', 'answer']\n",
      "new_qst_text='From the list at the end of context: return when was Hakucho launched into space'\n",
      "res1['answer']='April 16, 1985'\tres1['score']=0.665601\n",
      "res2['answer']='April 16, 1985'\tres2['score']=0.512261\n",
      "Processed question 1: return when was Hakucho launched into space -> Answer: April 16, 1985\n",
      "['July 23, 1999', 'return', 'yes', 'no', 'hello', 'answer']\n",
      "new_qst_text='From the list at the end of context: return when was Chandra X-ray Observatory launched into space'\n",
      "res1['answer']='July 23, 1999'\tres1['score']=0.407734\n",
      "res2['answer']='July 23, 1999'\tres2['score']=1.126917\n",
      "Processed question 2: return when was Chandra X-ray Observatory launched into space -> Answer: July 23, 1999\n",
      "['reentered the atmosphere', 'return', 'yes', 'no', 'answer', 'back']\n",
      "new_qst_text='From the list at the end of context: return which was first of April 16, 1985 , July 23, 1999'\n",
      "res1['answer']='reentered the atmosphere'\tres1['score']=0.000970\n",
      "res2['answer']=\"\\n['reentered the atmosphere\"\tres2['score']=0.000031\n",
      "Processed question 3: return which was first of April 16, 1985 , July 23, 1999 -> Answer: reentered the atmosphere\n"
     ]
    }
   ],
   "source": [
    "df_sampled['pred_answer'] = df_sampled.apply(answer_from_df, axis=1)\n",
    "# df_sampled.to_pickle('courses/ANLP/project/hotpotqa_result_prediction_manager_worker.pkl')"
   ]
  },
  {
   "cell_type": "code",
   "execution_count": 53,
   "id": "549556b0",
   "metadata": {},
   "outputs": [],
   "source": [
    "df_sampled.to_pickle('courses/ANLP/project/hotpotqa_result_prediction_manager_worker.pkl')"
   ]
  },
  {
   "cell_type": "code",
   "execution_count": 54,
   "id": "a63268d9",
   "metadata": {},
   "outputs": [
    {
     "name": "stdout",
     "output_type": "stream",
     "text": [
      "flan-t5-small-question-decomp-ver-1.0.3\n",
      "hotpotqa_result_prediction_manager_worker.pkl\n"
     ]
    }
   ],
   "source": [
    "!ls courses/ANLP/project"
   ]
  },
  {
   "cell_type": "code",
   "execution_count": 36,
   "id": "0be28fe7",
   "metadata": {},
   "outputs": [
    {
     "data": {
      "application/vnd.microsoft.datawrangler.viewer.v0+json": {
       "columns": [
        {
         "name": "index",
         "rawType": "int64",
         "type": "integer"
        },
        {
         "name": "context",
         "rawType": "object",
         "type": "unknown"
        },
        {
         "name": "question",
         "rawType": "object",
         "type": "string"
        },
        {
         "name": "answer",
         "rawType": "object",
         "type": "string"
        },
        {
         "name": "pred_answer",
         "rawType": "object",
         "type": "string"
        }
       ],
       "ref": "a102724d-c255-48fe-8b19-3c112c5be1f6",
       "rows": [
        [
         "5691",
         "{'title': ['Cyathea geluensis', 'Carpobrotus', 'Cyathea chinensis', 'Oxalis stricta', 'Garden cress', 'Chervil', 'Cyathea', 'Pilgrim Nuclear Generating Station', 'Shchi', 'Cyathea fulgens'], 'sentences': [['Cyathea geluensis is a species of tree fern native to central and eastern New Guinea as well as the Louisiade Archipelago, where it grows in mossy forest.', ' In New Guinea itself, plants grow at an altitude of 1000–2000 m, however they are present at lower elevations of 700–900 m on associated islands.', ' The trunk of this tree fern is erect and may be 5 m tall or more.', ' Fronds are bi- or tripinnate and 1-2.5 m long.', ' They are usually about ten live fronds present in the crown at once.', ' The stipe may be warty and/or have short spines as well as many scattered scales towards the base.', ' These scales are pale to dark and have dull, fragile edges.', ' Sori occur near the fertile pinnule midvein and are protected by pale, thin indusia.', ' \"C. geluensis\" is a variable taxon and further study is needed to determine whether it does not in fact represent a species complex.'], ['Carpobrotus, commonly known as pigface, ice plant, sour fig, and Hottentot fig, is a genus of ground-creeping plants with succulent leaves and large daisy-like flowers.', ' The name refers to the edible fruits.', ' It comes from the Ancient Greek \"karpos \" \"fruit\" and \"brotos \" \"edible\".'], ['Cyathea chinensis is a species of tree fern native to Yunnan in China, Sikkim in India, as well as Nepal, Myanmar, Laos and Vietnam.', ' Plants grow in forest and montane forest at an altitude of 900-1800 m.', ' The trunk is erect and 1-2 m tall.', ' Fronds are bipinnate and 1-2 m long.', ' The stipe is either long and warty or has short spines towards the base as well as scattered glossy dark brown scales with fragile edges.', ' Sori occur near the midvein of fertile pinnules and are covered by thin indusia.'], ['Oxalis stricta, called the common yellow woodsorrel (or simply yellow woodsorrel), common yellow oxalis, upright yellow-sorrel, lemon clover, or more ambiguously and informally \"sourgrass\" or \"pickle plant\", is a herbaceous plant native to North America, parts of Eurasia (including India ), and has a rare introduction in Britain.', ' It tends to grow in woodlands, meadows, and in disturbed areas as both a perennial and annual.', ' Erect when young, this plant later becomes decumbent as it lies down, and branches regularly.', ' It is not to be confused with similar plants which are also often referred to as \"yellow woodsorrel\".'], ['Cress (Lepidium sativum), sometimes referred to as garden cress to distinguish it from similar plants also referred to as cress (from old Germanic cresso which means sharp, spicy), is a rather fast-growing, edible herb.'], ['Chervil ( ; Anthriscus cerefolium), sometimes called garden chervil to distinguish it from similar plants also called chervil, or French parsley, is a delicate annual herb related to parsley.', ' It is commonly used to season mild-flavoured dishes and is a constituent of the French herb mixture fines herbes.'], ['Cyathea is a genus of tree ferns, the type genus of the fern order Cyatheales.'], ['Pilgrim Nuclear Power Station (PNPS) is the only nuclear power plant operating in Massachusetts.', ' It is located in the Manomet section of Plymouth on Cape Cod Bay, south of the tip of Rocky Point and north of Priscilla Beach.', ' Like many similar plants, it was constructed by Bechtel, and is powered by a General Electric BWR 3 boiling water reactor inside of a Mark 1 pressure suppression type containment and generator.', ' It has a 690\\xa0MW production capacity.', ' Pilgrim Station produces about 14% of the electricity generated in Massachusetts.'], ['Shchi (Russian: щи ; ] ) is a Russian style cabbage soup.', ' When sauerkraut is used instead, the soup is called sour shchi, while soups based on sorrel, spinach, nettle, and similar plants are called green shchi (Russian: зелёные щи , \"zelyoniye shchi\").', ' In the past, the term \"sour shchi\" was also used to refer to a drink, a variation of kvass, which was unrelated to the soup.'], ['Cyathea fulgens is a species of tree fern native to Cuba, Jamaica and Hispaniola.', ' It forms part of the complex centered on \"Cyathea woodwardioides\" comprising six very similar taxa from the Greater Antilles.', ' The other five species are \"Cyathea crassa\", \"Cyathea grevilleana\", \"Cyathea portoricensis\" and \"Cyathea tussacii\".', ' Large and Braggins (2004) note that this group is known to cross with members of the \"Cyathea minor\" complex.', ' In the wild, \"C. fulgens\" also forms hybrids with \"Cyathea brooksii\".']]}",
         "Are Cyathea and Carpobrotus similar plants?",
         "no",
         "bi- or tripinnate"
        ],
        [
         "5705",
         "{'title': ['Hong Sung-taek', 'Willie Benegas', 'Hannah McKeand', 'Everest Base Camp', 'The Man Who Skied Down Everest', 'List of ski descents of Eight-Thousanders', 'Rob DesLauriers', 'João Garcia', 'Innocence (2005 film)', 'Alison Levine'], 'sentences': [['Hong, Sung Taek (Hangul:\\xa0홍성택 ; Hanja:\\xa0洪成澤 ; born 13 March 1966) is a mountaineer, adventurer, explorer and author from South Korea.', ' He is currently a National Geographic Explorers supported by a National Geographic explorers program and a principal of KSAF Mountaineers Academy.', ' He is renowned for reaching all the Three Poles and crossing the Bering Strait and Greenland for the first time.', ' He summited Everest in 1995, skied to the South Pole in 1994 and walked to the North Pole in 2005.', ' He also crossed Bering Strait by foot in 2012 (official) and crossed Greenland by dog sledding in 2011.', ' He was thus the first in the world to reach all the five poles (Everest, North and South Poles, Bering Straits, Greenland).'], ['Willie Benegas or Guillermo Benegas is an Argentine / US mountain climber.', ' He has been climbing for over 25 years and has climbed Mount Everest and Anacongua many times and also climbed many volcanos in Guatemala.', ' He is from Argentina (Puerto Pirámides, Chubut State) but now lives in the United States State of Utah.', ' In 2005, while working as a Mountain Madness guide, he was noted as being well liked and respected at EBC, and being quick to help others.', ' He and his brother won an award in 2003 for pioneering \"The Crystal Snake\" route on Nuptse.', ' He has also climbed himalayan mountains Manaslu, Cho Oyu and Makalu.', ' In an interview with one Everest climber, he recounted how Benegas went into the \"dead bodies tent\" to save the life a man others had given up on.', \" That is to say they expected him to die due to various injuries and had fluid coming out of his mouth; however, Willie managed to make an airway and rallied a group of Sherpa's to carry him down.\", ' Within the hour they had gotten him down and helicopter evacuated out the next day.', ' (This was during the 2015 Mount Everest avalanches and earthquake)'], ['Hannah McKeand is an English polar explorer.', ' In 2006 she set the record for the fastest journey (man or woman) to the South Pole a 600 nmi journey she completed solo and in just 39 days, 9 hours and 33 minutes.', ' The record was broken in 2008 by Todd Carmichael of Spokane, Washington, United States.', ' She has also skied to the South Pole more times than anyone in history.', ' In March 2008 she attempted to reach the North Pole alone and unsupported but had to abandon the trip after falling through the ice and badly damaging her shoulder and back.', ' McKeand is a public speaker and polar consultant.'], ['Everest Base Camp is either of two base camps on opposite sides of Mount Everest (It could also be any Everest base camp on given route, but this is less common since the two main routes became standardized).', ' South Base Camp is in Nepal at an altitude of 5364 m ( ), and North Base Camp is in Tibet at 5150 m ( ).', ' These camps are rudimentary campsites on Mount Everest that are used by mountain climbers during their ascent and descent.', ' South Base Camp is used when climbing via the southeast ridge, while North Base Camp is used when climbing via the northeast ridge.'], ['The Man Who Skied Down Everest is a documentary about Yuichiro Miura, a Japanese alpinist who skied down Mt. Everest in 1970.', ' The film was produced by Canadian film maker Budge Crawley.', ' Miura skied 6,600 feet (2000 m) in 2 minutes and 20 seconds and fell 1320 feet down the steep Lhotse face from the Yellow Band just below the South Col.', ' He used a large parachute to slow his descent.', ' He came to a full stop just 250 ft. from the edge of a bergschrund, a large, deep crevasse where the ice shears away from the stagnant ice on the rock face and begins to move downwards as a glacier.'], ['Albeit arbitrary, the mountaineering community groups Earth\\'s 14 mountains with summits exceeding 8000 m , referred to as eight-thousanders, as a special category of peaks defining the \"top of the world.\"', ' Only an elite group of mountaineers can claim to have summited all 14 peaks and many have perished trying.', ' (See eight-thousanders for current list.)', ' Particularly since 1978 when Italian expeditionist Reinhold Messner became the first to have climbed all 14 8000m peaks, summiting the eight-thousanders has become the ultimate goal for many high altitude mountaineers.', ' Similarly, the ski-mountaineering community has set its sights on skiing from the summits of the \"eight-thousanders.\"', ' In a 2007 interview for the film \"Skiing Everest\", the Tyrolean mountaineer and skier, Hans Kammerlander articulated the challenge for the ski-mountaineering community: \"Almost all peaks have been reached, almost all walls have been climbed.', ' But seldom have the walls been skied down... It would be a lovely project if I could see someone who could ski all 8,000m peaks.\"'], ['Rob DesLauriers (born January 25, 1965 in Vermont) is an American businessman and property developer who was one of the originators of extreme skiing.', ' He has skied from the summit of Mt. Everest and developed two luxury condominium hotels at the base of Jackson Hole Mountain Resort.'], ['João José Silva Abranches Garcia, (born June 11, 1967, in Lisbon, Portugal) is a leading mountaineer in Portugal.', ' His main professional activities are as organizer and guide in mountaineering expeditions.', ' On May 18, 1999, he became the first Portuguese man to reach the summit of Mount Everest, without the use of supplementary oxygen.', ' Three years later, in 2002, he published a book, \"A mais alta solidão\" \"(The highest loneliness)\", in which he describes his experiences in mountain climbing, namely his 1999 expedition to Everest, where he endured bitter adversities.', ' Nevertheless, João Garcia continued to climb and on the 17th April 2010, he summited Annapurna without the aid of supplemental oxygen, becoming the 10th man of all time to climb all 14 eight-thousanders without bottled oxygen or Sherpas.'], ['Innocence (Thai: เด็กโต๋ , or \"Dek To\"), is a 2005 Thai independent documentary film directed by Areeya Chumsai and Nisa Kongsri about a boarding school for hill tribe children in Chiang Mai Province, Thailand.'], ['Alison Levine (born April 5, 1966) is an American mountain climber, sportswoman, explorer and leadership consultant.', ' She is the author of \"On the Edge\" and the executive producer of a documentary, \"The Glass Ceiling\".', ' She has ascended the highest peaks on every continent and also skied to both the North and South Poles.', ' In 2010, she completed the Adventure Grand Slam by reaching the summit of Mt. Everest.', ' She serves as an adjunct instructor at the U.S. Military Academy.']]}",
         "What do The Man Who Skied Down Everest and Innocence have in common?",
         "documentary",
         "Rob DesLauriers"
        ],
        [
         "5754",
         "{'title': ['Cheryl Wilson', 'League of American Orchestras', 'David W. Tucker', 'Gândul Mâței', 'Moldova are talent', 'Nicu Țărnă', 'Argonotes', 'Handel and Haydn Society', 'KMFDM', 'Stoughton Musical Society'], 'sentences': [['Cheryl Wilson is a session singer who has had multiple No. 1 dance songs on the UK \"Billboard\" chart and has performed with many notable artists including Celine Dion, R. Kelly, Alice Peacock, Mavis Staples, The Smashing Pumpkins, Bertie Higgins, Michael Bolton, Bill Withers, Peabo Bryson, David Foster, Josh Grobin, Enrique Iglesias, Nick Carter, KMFDM, Cameo, Rod Stewart, Ray Charles, Natalie Cole, Mel Torme, Spike Lee, Tony Bennett, Peter Cetera, and Martha Wash.', \" She has also sung in commercials for companies such as McDonald's and is a member of the Jazz & Contemporary Studies Faculty at Roosevelt University in Chicago.\", \" She contributes vocals to Jim Warner's Chicago musical project, Akalibrio.\", ' Her performance on the KMFDM song \"Power\" was described as \"soul-mama vamping\".'], ['The League of American Orchestras, formerly the American Symphony Orchestra League, is a North American Musical Organization consisting of a network of approximately 800 orchestras.', ' “Dedicated to helping orchestras meet the challenges of the twenty-first century,” the League consists of leading symphony and philharmonic orchestras, collegiate orchestras, community ensembles, and youth and student ensembles.', ' The only national organization devoted and focused on elevating the orchestra industry, the League was founded in 1942 and later chartered by Congress in 1962.', ' The League creates a network of all facets of the industry, including administrators, managers, board members, business partners, volunteers, and musicians.', ' Each year this organization presents two awards: the Gold Baton Award and the Helen M. Thompson Award.', ' The League affects the orchestral world through several outreach experiences, dedicated advocacy to music education and especially orchestral education, and maintaining and communicating a breadth of information and pertinent topics in publications.', ' It has also developed detailed antitrust policy and guidelines in order to comply with the landscape of the industry.', ' The League is a leading force in work on legislation regarding orchestras and support for the arts.'], ['David W. Tucker (1929–2003) was a jazz trombonist, music educator, composer of band and orchestral music, record producer, and marching band arranger, most renowned as the director of the University of California Jazz Ensembles from 1969 until 1985.', ' Under his direction, the organization expanded to become the largest musical organization on the campus of the University of California, Berkeley, had an international reputation resulting from foreign tours, and sponsored the Pacific Coast Collegiate Jazz Festival.', ' Numerous student members of the organization have become renowned jazz musicians, composers, and music educators.'], [\"Gândul Mâței (] , Translation: The cat's thought) is a Moldovan alternative rock band from Chișinău, formed in 1996.\"], ['Moldova are talent (in English: \"Moldova got Talent\" ) is a TV show which first aired on 17 October 2013.', ' The project is a franchise of Got Talent, developed by Simco Limited.', ' The hosts of the show are Adrian Ursu and Mircea Marco.', ' The judges are the Moldovan singer Tania Cerga, a Moldovan singer (vocalist of Gândul Mâței band), Prime TV star and presenter Nicu Țărnă and a well known Moldovan opera singer, Mihai Muntean.', ' The grand prize of first serie is 500,000 MDL.'], ['Nicu Țărnă (born July 25, 1977 in Chișinău, Moldova) is a musician, actor, songwriter, showman, and TV presenter from Moldova.', ' He is the lead vocalist for the Moldovan alternative rock band Gândul Mâței.'], ['Argonotes, the unofficial band of the Toronto Argonauts is an all volunteer organization committed to bringing quality musical entertainment and a \"traditional football atmosphere\" to all Argonauts home football games.', ' Comprising more than 50 musicians on most game days, Argonotes is the largest musical organization associated with the CFL.'], ['The Handel and Haydn Society, familiarly known as H+H, is an American chorus and period instrument orchestra based in Boston, Massachusetts.', ' Founded in 1815, it is the third oldest musical organization in the United States after the Stoughton Musical Society (founded in 1786) and the U.S. Marine Band (founded 1798), and the oldest continually performing arts organization in the United States.'], ['KMFDM (originally Kein Mehrheit Für Die Mitleid, loosely translated by the band as \"no pity for the majority\") is an industrial band led by German multi-instrumentalist Sascha Konietzko, who founded the group in 1984 as a performance art project.'], [\"Organized in 1786, the Stoughton Musical Society is America's oldest performing musical organization.\", ' For over two centuries it has had many distinguished accomplishments.', ' In 1908, when incorporated under the laws of the Commonwealth of Massachusetts, the name was changed to Old Stoughton Musical Society and it has retained that designation.']]}",
         "Gândul Mâței and KMFDM, are what type of musical organization?",
         "band",
         "industrial"
        ],
        [
         "5772",
         "{'title': ['Aicha Elbasri', 'Saint Genet', 'Tectonic Plates (film)', 'Jean Genet', 'Nô (film)', 'Far Side of the Moon (film)', 'Plaça de Jean Genet, Barcelona', 'The Miracle of the Rose', 'Jean Cocteau', 'Robert Lepage'], 'sentences': [['Aicha Elbasri is a writer and former United Nations official.', ' She is the author of L’Imaginaire carcéral de Jean Genet, a book on Jean Genet, a prominent, controversial French writer and later political activist.', ' She was previously the Spokesperson for the African Union – United Nations hybrid peacekeeping mission in Darfur, UNAMID.'], ['Saint Genet, Actor and Martyr (French: \"Saint Genet, comédien et martyr\" ) is a book by the French philosopher Jean-Paul Sartre about the writer Jean Genet especially on his \"The Thief\\'s Journal\".', ' It was first published in 1952.', ' Sartre described it as an attempt \"to prove that genius is not a gift but the way out that one invents in desperate cases.\"', ' Sartre also based his character Goetz in his play \"The Devil and the Good Lord\" (1951) on his analysis of Genet\\'s psychology and morality.', ' Sartre has been credited by David M. Halperin with providing, \"a brilliant, subtle, and thoroughgoing study of the unique subjectivity and gender positioning of gay men\".'], ['Tectonic Plates is a 1992 independent Canadian film directed by Peter Mettler.', ' Mettler also wrote the screenplay based on the play by Robert Lepage.', ' The film stars Marie Gignac, Céline Bonnier and Robert Lepage.'], [\"Genet's mother was a prostitute who raised him for the first seven months of his life before putting him up for adoption.\", ' Thereafter Genet was raised in the provincial town of Alligny-en-Morvan, in the Nièvre department of central France.', \" His foster family was headed by a carpenter and, according to Edmund White's biography, was loving and attentive.\", ' While he received excellent grades in school, his childhood involved a series of attempts at running away and incidents of petty theft.'], ['Nô is a 1998 Canadian film by director Robert Lepage.', ' It was based on one segment in Lepage\\'s play \"Seven Streams of the River Ota\".'], ['Far Side of the Moon, in original French, La face cachée de la lune, is a 2003 film by Robert Lepage.', ' The film is based on the play by the same name by Lepage and Adam Nashman.', ' The film is set in the context of the USSR-United States Space Race of the 1960s.', ' The leading characters are the brothers André and Philippe, both played by Robert Lepage.', \" The film was Canada's official nomination for the foreign-language Oscar.\"], ['Plaça de Jean Genet is a small, triangle-shaped square in Barcelona (the capital of Catalonia in Spain).', \" It's located in the southern side of El Raval, by the port and Avinguda de les Drassanes and the Catalan Gothic buildings of the Royal Shipyard, in the district of Ciutat Vella.\", ' Its main feature is the functionalist high-rise which hosts the local Official School of Languages.', ' It\\'s named after French author Jean Genet who resided in the city for a time and whose novel \"The Thief\\'s Journal\" takes place in the poverty-stricken alleys of Raval.', ' Essayist Lluís Permanyer proposed the name in 1997.'], ['The Miracle of the Rose (French: \"Miracle de la rose\" ) is a 1946 book by Jean Genet about experiences as a detainee in Mettray Penal Colony and Fontevrault prison - although there is no direct evidence of Genet ever having been imprisoned in the latter establishment.', \" This autobiographical work has a non-linear structure: stories from Genet's adolescence are mixed in with his experiences as a thirty-year-old man at Fontevrault prison.\", ' At Mettray, Genet describes homosexual erotic desires for his fellow adolescent detainees.', ' There is also a fantastical dimension to the narrative, particularly in Fontevrault passages concerning a prisoner called Harcamone who is condemned to death for murder.', ' Genet idolises Harcamone and writes poetically about the rare occasions on which he catches a glimpse of this character.', ' Genet was detained in Mettray Penal Colony between 2 September 1926 and 1 March 1929, after which, at the age of 18, he joined the Foreign Legion.'], ['Jean Maurice Eugène Clément Cocteau (] ; 5 July 1889 – 11 October 1963) was a French writer, designer, playwright, artist and filmmaker.', ' Cocteau is best known for his novel \"Les Enfants Terribles\" (1929), and the films \"The Blood of a Poet\" (1930), \"Les Parents Terribles\" (1948), \"Beauty and the Beast\" (1946) and \"Orpheus\" (1949).', ' His circle of associates, friends and lovers included Kenneth Anger, Pablo Picasso, Gertrude Stein, Jean Hugo, Jean Marais, Henri Bernstein, Yul Brynner, Marlene Dietrich, Coco Chanel, Erik Satie, Albert Gleizes, Igor Stravinsky, Marie Laurencin, María Félix, Édith Piaf, Panama Al Brown, Colette, Jean Genet, and Raymond Radiguet.'], ['Robert Lepage, {\\'1\\': \", \\'2\\': \", \\'3\\': \", \\'4\\': \"} (born December 12, 1957) is a French Canadian playwright, actor, film director, and stage director, one of Canada\\'s most honoured theatre artists.']]}",
         "Robert Lepage and Jean Genet, are of which nationality?",
         "French",
         "French"
        ],
        [
         "5797",
         "{'title': ['Voyager One (band)', 'Crank (song)', 'Fresh Wine for the Horses', 'Catherine Wheel', 'The Catherine Wheel (album)', 'The Go-Betweens', 'Breaking wheel', 'Adam and Eve (Catherine Wheel album)', 'Rob Dickinson', 'Saint Catherine of Alexandria (Raphael)'], 'sentences': [['Voyager One was an American indie rock band from Seattle, Washington formed in 1998.', \" AllMusic compared the band's musical style to the shoegazing music played by Ride, Swervedriver and Catherine Wheel.\"], ['\"Crank\" is a song by the alternative rock band Catherine Wheel.', ' It was the first single from their 1993 album, \"Chrome\".'], ['Fresh Wine for the Horses is the debut studio album by English singer-songwriter, former Catherine Wheel frontman Rob Dickinson.', \" Released in 2005, it features tracks that Dickinson wrote while a member of Catherine Wheel but never made it onto official releases, as well as new material written since the band's breakup in 2000.\", ' The album received mixed reviews from the media, but was met with enthusiastic approval by longtime fans of the band.', ' The release was supported by a tour of small venues across the United States and Canada, where Dickinson performed intimate acoustic sets comprising both Catherine Wheel and solo material.', ' In 2008, the album was reissued as two disc edition with EP titled \"Nude\", consists of acoustic version of Catherine Wheel tracks.'], ['Catherine Wheel were an English alternative rock band from Great Yarmouth.', ' The band was active from 1990 to 2000, experiencing fluctuating levels of commercial success, and embarking on many lengthy tours.'], [\"The Catherine Wheel is David Byrne's musical score commissioned by Twyla Tharp for her dance project.\", ' \"The Catherine Wheel\" premiered September 22, 1981, at the Winter Garden Theatre in New York City.'], ['The Go-Betweens were an indie rock band formed in Brisbane, Queensland, Australia in 1977 by singer-songwriters and guitarists Robert Forster and Grant McLennan.', ' They were later joined by Lindy Morrison on drums, Robert Vickers on bass guitar, and Amanda Brown on violin, oboe, guitar, and backing vocals, before disbanding in late 1989.', ' Forster and McLennan reformed the band in 2000 with a new line-up.', ' McLennan died on 6 May 2006 of a heart attack and The Go-Betweens disbanded again.'], [\"The breaking wheel, also known as the Catherine wheel or simply the wheel, was a torture device used for capital punishment from antiquity into early modern times for public execution by breaking the criminal's bones/bludgeoning him to death.\", ' As a form of execution, it was used from classical times into the 18th century; as a form of \"post mortem\" punishment of the criminal, the wheel was still in use in 19th-century Germany.'], ['Adam and Eve is the fourth full-length album by the English alternative rock band Catherine Wheel.', ' Released in 1997 (see 1997 in music), the album peaked at number 11 on the \"Billboard\" Top Heatseekers and number 178 on the \"Billboard\" 200.', ' The album featured more adventurous instrumentation than any prior Catherine Wheel LP, and still somewhat featured the heavy sound of their previous studio album, \"Happy Days\".'], ['Rob Dickinson (born 23 July 1965) is a British musician and singer-songwriter previously of the band Catherine Wheel.', ' Dickinson was raised in Norfolk, England, and is the paternal cousin of Iron Maiden frontman Bruce Dickinson.', ' He is now a solo artist and the founder and creative director of Singer Vehicle Design, which performs restoration and modification of client vehicles.'], ['Saint Catherine of Alexandria is a painting by the Italian Renaissance artist Raphael.', ' In the painting, Catherine of Alexandria is looking upward in ecstasy and leaning on a wheel - an allusion to the breaking wheel (or Catherine wheel) of her martyrdom.']]}",
         "how is Catherine Wheel and The Go-Betweens related?",
         "rock band",
         "The breaking wheel"
        ],
        [
         "5808",
         "{'title': ['Why Girls Love Sailors', \"Mummy's Boys\", 'Ivan Moffat', 'The Nitwits', 'Fred Guiol', 'Stuart Paton', 'Kentucky Kernels', 'The Rainmakers (film)', 'Silly Billies', 'The Haunted Honeymoon'], 'sentences': [['Why Girls Love Sailors is a comedy short silent film directed by Fred Guiol for Hal Roach Studios starring Stan Laurel and Oliver Hardy before they had become the comedy team of Laurel and Hardy.', ' It was shot during February 1927 and released July 17, 1927, by Pathé Exchange.', ' It was considered a lost film until the 1980s.'], [\"Mummy's Boys is a 1936 American comedy film directed by Fred Guiol and written by Jack Townley, Philip G. Epstein and Charles E. Roberts.\", ' The film stars Bert Wheeler, Robert Woolsey, Barbara Pepper, Moroni Olsen, Frank M. Thomas and Willie Best.', ' The film was released on October 2, 1936, by RKO Pictures.'], ['Ivan Romilly Moffat (18 February 1918 – 4 July 2002) was a British screenwriter, film producer and socialite who, with Fred Guiol, was nominated for an Academy Award for Best Adapted Screenplay for adapting Edna Ferber\\'s eponymous novel into the film \"Giant\" (1956).', ' Moffat was the grandson of actor-manager Sir Herbert Beerbohm Tree.'], ['The Nitwits is a 1935 American comedy film directed by George Stevens from a screenplay written by Fred Guiol and Al Boasberg, based on a story by Stuart Palmer.', ' Released by RKO on June 7, 1933, the film stars the comedy duo of Wheeler & Woolsey (Bert Wheeler and Robert Woolsey), with featured roles being filled by Fred Keating, Betty Grable, Evelyn Brent and Erik Rhodes.'], ['Fred Guiol (February 17, 1898 – May 23, 1964) was an American film director and screenwriter.', \" Guiol worked at the Hal Roach Studios for many years, and directed Laurel and Hardy's earliest short films, as their famous comic partnership gradually developed during 1927.\", ' Along with Ivan Moffat, he was nominated for an Academy Award for Writing Adapted Screenplay for adapting Edna Ferber\\'s novel \"Giant\" into the film \"Giant\".'], ['Stuart Paton (23 July 1883 – 16 December 1944) was a British director, screenwriter and actor of the silent era.', ' He directed 67 films between 1915 and 1938.', ' He also wrote for 24 films between 1914 and 1927.', ' Despite a sizable list of credits, Paton was never well-regarded, especially as a director.'], ['Kentucky Kernels is a 1934 American comedy directed by George Stevens and starring the comedy duo of Bert Wheeler and Robert Woolsey.', ' The screenplay was written by Bert Kalmar, Harry Ruby, and Fred Guiol, from a story by Kalmar and Ruby.'], ['The Rainmakers is a 1935 American comedy film directed by Fred Guiol from a screenplay by Grant Garrett and Leslie Goodwins, based on a story by Guiol and Albert Traynor.', ' RKO Radio Pictures released the film on October 25, 1935, starring the comedy team of Wheeler & Woolsey (Bert Wheeler and Robert Woolsey) and Dorothy Lee.'], ['Silly Billies is a 1936 American comedy film directed by Fred Guiol from a screenplay by Al Boasberg and Jack Townley, based on a story by Guiol and Thomas Lennon.', ' The film was the twentieth feature for the comedy duo of Wheeler and Woolsey (Bert Wheeler and Robert Woolsey), and also stars Dorothy Lee, who had been in a number of their films.', ' It was released by RKO Radio Pictures on March 20, 1936.'], ['The Haunted Honeymoon (1925) is a silent film directed by Fred Guiol and Ted Wilde, starring Glenn Tryon and Janet Gaynor, in one of her first films.', ' It was produced by Hal Roach and released by Pathé Exchange.']]}",
         "How are Fred Guiol and Stuart Paton alike?",
         "film director and screenwriter.",
         "never well-regarded"
        ],
        [
         "5815",
         "{'title': ['Out of My System', 'Feargal Sharkey', 'Feargal Sharkey (album)', 'Constantine (album)', 'Listen to Your Father', 'Someone to Somebody', 'Athan Maroulis', 'Constantine Maroulis', 'Loving You (Feargal Sharkey song)', 'Pray for the Soul of Betty'], 'sentences': [['\"Out of My System\" is pop vocalist Feargal Sharkey\\'s last single of 1988 (not including promo single \"If This is Love\") and second single from his second album Wish.', ' A promotional video was filmed for the song, and Sharkey performed the song on the Dutch show TopPop.'], ['Seán Feargal Sharkey (born 13 August 1958) is a singer from Northern Ireland most widely known as the lead vocalist of pop punk band The Undertones in the 1970s and 1980s, and also for solo works in the 1980s and 1990s.', ' His 1985 solo single \"A Good Heart\" was an international success.', \" After becoming less musically active in the early 1990s, he has performed various roles supporting the UK's commercial music industry, winning several awards and honours for his work in that area.\"], ['Feargal Sharkey is the first solo album of former Undertones singer Feargal Sharkey.', ' The album was released in 1985, peaking at #12 in the UK and contains Sharkey\\'s best known single \"A Good Heart\" his only No. 1.'], ['Constantine is the solo debut album of rock singer Constantine Maroulis.', ' It debuted at number 75 on the Billboard 200, selling around 9,000 copies in its first week.'], ['\"Listen to Your Father\" is pop vocalist Feargal Sharkey\\'s first single as a solo artist, released in 1984.', ' The single\\'s two tracks did not feature on Sharkey\\'s self-titled 1985 debut album \"Feargal Sharkey\".'], ['\"Someone to Somebody\" is pop vocalist Feargal Sharkey\\'s first single of 1986 and last single of the year to be released in the UK.', ' The b-side for the single \"Coldwater\" was exclusive to the single, an instrumental written by Sharkey himself.', ' The song was taken from Sharkey\\'s self-titled solo debut album \"Feargal Sharkey\".', ' A promotional video was created for the single which featured Sharkey performing the song in a restaurant.'], ['Athanasios Demetrios Maroulis (born September 22, 1964) is an actor, vocalist and record producer born in Brooklyn, New York.', ' He is the older brother of singer Constantine Maroulis and also has a sister, Anastasia.'], ['Constantine James Maroulis ( ; born September 17, 1975) is a Greek-American actor and rock singer from Wyckoff, New Jersey.', ' He was the sixth-place finalist on the fourth season of the reality television series \"American Idol\", and received a nomination for the Tony Award for Best Performance by a Leading Actor in a Musical for his role in \"Rock of Ages\".', ' He starred in the title role in \"Jekyll and Hyde\" on Broadway, for which he received a Drama League Award Nomination for a Distinguished Performance Award.'], ['\"Loving You\" is pop vocalist Feargal Sharkey\\'s second single as a solo artist, released in 1985.', ' The single\\'s two tracks did not feature on Sharkey\\'s self-titled 1985 debut album \"Feargal Sharkey\".'], ['Pray for the Soul of Betty (often known by the acronym, \"PFTSOB\") was a hard rock band from New York City.', ' The band consisted of Michael Hamboussi (drums), João Joya (guitar), Taylor, C.R. (bass) and lead vocalist Constantine Maroulis.', \" On March 20, 2006, Maroulis announced his departure on the band's official message board, and on May 13, 2006, drummer Hamboussi posted in his MySpace blog that PFTSOB had officially disbanded.\"]]}",
         "What do Constantine Maroulis and Feargal Sharkey have in common? ",
         "singer",
         "If This is Love"
        ],
        [
         "5857",
         "{'title': [\"Arthur C. Clarke's Mysterious Universe\", 'Hate (short story)', 'List of predictions', 'Improving the Neighbourhood', 'Rescue Party', 'E02 expressway (Sri Lanka)', 'The Collected Stories of Arthur C. Clarke', 'Arthur C. Clarke Award', 'John Richardson (art historian)', 'Arthur C. Clarke'], 'sentences': [[\"Arthur C. Clarke's Mysterious Universe was a popular 26-part television series looking at unexplained phenomena across the universe.\", ' It was first broadcast in the United Kingdom by independent television network Discovery Channel.', ' It premiered on 15 July 1994.', ' It was the sequel to \"Arthur C. Clarke\\'s Mysterious World\" and \"Arthur C. Clarke\\'s World of Strange Powers\".'], ['\"Hate\" is a science fiction short story by British writer Arthur C. Clarke, first published in 1961 and subsequently included in several collections of Clarke\\'s writings, including \"The Collected Stories of Arthur C. Clarke\".', ' The story originated when movie producer William MacQuitty asked Clarke to write a film treatment titled \"The Sea and the Stars\".', ' Nothing came of the project so Clarke transformed the treatment into a short story.', ' \"If\" magazine retitled it \"At the End of Orbit\" for publication but Clarke preferred his original title because it has \"more punch\" and it is under that title that the story has since been published.'], ['There have been various notable predictions made throughout history, including those by scientists based on the scientific method, predictions of social and technological change of futurologists, economic forecasts, religious prophecies and the fictional imaginings of authors and science fiction.', ' Science fiction author Arthur C. Clarke wrote three laws of prediction.'], ['\"Improving the Neighbourhood\" is a science fiction short story by Arthur\\xa0C. Clarke.', ' It was first published in \"Nature\" on 4 November 1999 and was the first piece of science fiction \"Nature\" ever published.', ' It is also the last story included in \"The Collected Stories of Arthur C. Clarke\", where it is dedicated to Dr. Pons and Dr. Fleischmann.'], ['\"Rescue Party\" is a short story by Arthur C. Clarke, first published in \"Astounding Science Fiction\" in May 1946.', ' It was his first story that he sold, though not the first actually published.', ' It was republished in Clarke’s second collection, \"Reach for Tomorrow\", and also appears in \"The Collected Stories of Arthur C. Clarke\".'], ['The Colombo Outer Circular Expressway (also known as the Outer Circular Highway(OCH), Colombo Inter-provincial Orbital Router or the Arthur C. Clarke Expressway) is a highway in Colombo, Sri Lanka.', ' It was opened in sections, with the latest one between Kaduwela and Kadawatha having been opened on 17 September 2015.', ' The 29 km long outer circular road network links the Colombo - Matara Expressway with Colombo - Katunayake Expressway and the proposed Colombo - Kandy Expressway and will provide an orbital beltway to bypass the city of Colombo and reduce traffic congestion.', ' The project is funded by the Japan International Cooperation Agency (JICA) The expressway is named \"Arthur C. Clark Expressway\" in honor of Arthur C. Clarke, a famous science fiction writer and futurist who lived in Sri Lanka from 1956 to his death in 2008.'], ['The Collected Stories of Arthur C. Clarke, first published in 2001, is a collection of almost all science fiction stories written by Arthur\\xa0C. Clarke: it includes 114 in all arranged in order of publication, \"Travel by Wire!', '\" in 1937 through to \"Improving the Neighbourhood\" in 1999.', ' The story \"Improving The Neighbourhood\" has the distinction of being the first fiction published in the journal \"Nature\".', ' The titles \"Venture to the Moon\" and \"The Other Side of the Sky\", are not stories but the series titles for groups of six interconnected stories, each story with its own title.', ' This collection is missing several stories, for example \"When the Twerms Came\" which appears in his other collections \"More Than One Universe\" and \"The View from Serendip\".', ' This edition contains a foreword by Clarke written in 2000, where he speculates on the science fiction genre in relation to the concept of short stories.', ' Furthermore, many of the stories have a short introduction about its publication history or its literary nature.'], ['The Arthur C. Clarke Award is a British award given for the best science fiction novel first published in the United Kingdom during the previous year.', ' It is named after British author Arthur C. Clarke, who gave a grant to establish the award in 1987.', ' The book is chosen by a panel of judges from the British Science Fiction Association, the Science Fiction Foundation, and a third organisation, which as of 2012 is the Sci-Fi-London film festival.', ' The award has been described as \"the UK\\'s most prestigious science fiction prize\".'], ['Sir John Patrick Richardson, KBE, FBA (born 6 February 1924) is a British art historian and Picasso biographer.', ' Richardson has also worked as an industrial designer and as a reviewer for \"The New Observer\".', ' In 1952, he moved to Provence, where he became friends with Picasso, Léger and de Staël.', ' In 1960, he moved to New York and organized a nine-gallery Picasso retrospective.', \" Christie's then appointed him to open their US office, which he ran for the next nine years.\", ' In 1973 he joined New York gallery M. Knoedler & Co., Inc., as vice president in charge of 19th- and 20th-century painting, and later became managing director of Artemis, a mutual fund specializing in works of art.'], ['Sir Arthur Charles Clarke, CBE, FRAS (16 December 1917 – 19 March 2008) was a British science fiction writer, science writer and futurist, inventor, undersea explorer, and television series host.']]}",
         "Both Arthur C. Clarke and John Richardson are noted literary figures, the first as a science fiction author and the second as a reviewer for which publication?",
         "The New Observer",
         "The New Observer"
        ],
        [
         "5935",
         "{'title': ['Nembe Creek Trunk Line', 'Sweet Crude', 'Niger Delta Liberation Front', 'Niger Delta mangroves', 'Movement for the Survival of the Ogoni People', 'Niger Delta Basin (geology)', 'Trembling Before G-d', 'Sandy Cioffi', '2016 Niger Delta conflict', 'Niger Delta Development Commission'], 'sentences': [['\\'\"Nembe Creek Trunk Line (NCTL)\", is a 97 kilometre, 150,000 barrels of oil per day pipeline constructed by Royal Dutch Shell Plc and situated in the Niger Delta region of Nigeria.', ' \"The Trunk Line is one of Nigeria’s major oil transportation arteries that evacuate crude from the Niger Delta to the Atlantic coast for export.\"', ' It is owned by Aiteo Group, which recently purchased it as part of the related facilities of the prolific oil bloc OML29 from Shell Petroleum Development Company, SPDC.', ' By March 2015, the Shell Petroleum Development Company of Nigeria Limited (SPDC), a subsidiary of Royal Dutch Shell plc (Shell), completed the assignment of its interest in OML29 and the Nembe Creek Trunk Line to Aiteo Eastern E&P Company Limited, a subsidiary of Aiteo Group.', ' The other joint venture partners, Total E&P Nigeria Limited and Nigerian Agip Oil Company Limited also assigned their interests of 10% and 5% respectively in the lease, ultimately giving Aiteo Eastern E&P Company Limited a 45% interest in OML29 and the Nembe Creek Trunk Line.'], [\"Sweet Crude is a documentary film by Sandy Cioffi about Nigeria's oil-rich Niger Delta.\", ' The film premiered in April 2009 at the Full Frame Documentary Film Festival and has since screened at 30 film festivals around the world and has won numerous awards.'], [\"The Niger Delta Liberation Front (NDLF) is a militant group in Nigeria's Niger Delta.\", \" The group's former leader John Togo claims that their main goal is to secede from Nigeria and gain independence from Nigeria.\", ' The group is best known for their notorious leader John Togo who is known throughout Nigeria as a fierce soldier.', \" Although Togo is the NDLF's most notorious member he was killed on July 19, 2011 by a Nigerian air strike near Warri in Delta State.\", ' The group is closely linked to the Movement for the Emancipation of the Niger Delta and fight side by side against the Nigerian Army.', ' In early 2013 war erupted within the NDLF after 2 different commanders claimed to be leader.', ' It ended after one was killed in March 2013.'], ['Nigeria has extensive mangrove forests in the coastal region of the Niger Delta.', ' Considered one of the most ecologically sensitive regions in the world, the Niger Delta mangrove forest is situated within a deltaic depositional environment.', ' These mangrove forests serve a critical role in regional ecological and landscape composition, and support subsistence gathering practices, and market-based income opportunities.', ' Anthropogenic development threatens the survival of Niger Delta mangrove populations.'], ['The Movement for the Survival of the Ogoni People, also known as (MOSOP), is a mass‐based social movement organization of the indigenous Ogoni people of Central Niger Delta.', ' MOSOP is the umbrella organization of currently 11 member groups representing more than 700,000 indigenous Ogoni in campaigning for social, economic and environmental justice in the Niger Delta of Nigeria.', \" MOSOP's mandated use of non-violent methods to promote democratic principles assist Ogoni people pursue rights of self-determination in environmental issues in the Niger Delta, cultural rights and practices for Ogoni people.\"], ['The Niger Delta Basin, also referred to as the Niger Delta province, is an extensional rift basin located in the Niger Delta and the Gulf of Guinea on the passive continental margin near the western coast of Nigeria with suspected or proven access to Cameroon, Equatorial Guinea and São Tomé and Príncipe.', ' This basin is very complex, and it carries high economic value as it contains a very productive petroleum system.', ' The Niger delta basin is one of the largest subaerial basins in Africa.', ' It has a subaerial area of about 75,000\\xa0km, a total area of 300,000\\xa0km, and a sediment fill of 500,000\\xa0km.', ' The sediment fill has a depth between 9–12\\xa0km.', ' It is composed of several different geologic formations that indicate how this basin could have formed, as well as the regional and large scale tectonics of the area.', ' The Niger Delta Basin is an extensional basin surrounded by many other basins in the area that all formed from similar processes.', ' The Niger Delta Basin lies in the south westernmost part of a larger tectonic structure, the Benue Trough.', ' The other side of the basin is bounded by the Cameroon Volcanic Line and the transform passive continental margin.'], ['Trembling Before G-d is an 2001 American documentary film about gay and lesbian Orthodox Jews trying to reconcile their sexuality with their faith.', ' It was directed by Sandi Simcha DuBowski, an American who wanted to compare Orthodox Jewish attitudes to homosexuality with his own upbringing as a gay Conservative Jew.'], ['Sandy Cioffi is a Seattle-based film and video artist.', ' She is director and producer of the documentary film Sweet Crude and has produced and/or directed the films Crocodile Tears, Terminal 187 and Just Us.', ' She is a tenured professor in the Film and Video Communications Department at Seattle Central Community College.'], ['The 2016 Niger Delta conflict is an ongoing conflict around the Niger Delta region of Nigeria in a bid for the secession of the region, which was a part of the breakaway state of Biafra.', ' It follows on-and-off conflict in the Christian-dominated southern Niger Delta in the preceding years, as well as an insurgency in the Muslim-dominated northeast.'], ['The Niger Delta Development Commission is a federal government agency established by Nigerian president Olusegun Obasanjo in the year 2000 with the sole mandate of developing the oil-rich Niger Delta region of Nigeria.']]}",
         "What is a documentary film by Sandy Cioffi about Nigeria's oil-rich Niger Delta, Trembling Before G-d or Sweet Crude ?",
         "Sweet Crude",
         "['Orthodox Jewish attitudes to homosexuality"
        ],
        [
         "6064",
         "{'title': ['Eriogonum', 'Plant Life Records', 'Eriogonum inflatum', 'Sago palm', 'Important Plant Areas', 'Flora of the Indian epic period', 'Green Cay Wetlands', 'Pandanus', 'Peshawar Development Authority', 'Flora'], 'sentences': [['Eriogonum is the scientific name for a genus of flowering plants in the family Polygonaceae.', ' The genus is found in North America and is known as wild buckwheat.', ' This is a highly species-rich genus, and indications are that active speciation is continuing.', ' It includes some common wildflowers such as the California buckwheat (\"Eriogonum fasciculatum\").'], ['Plant Life Records was a record label.', ' It existed from 1977 until 1984.', ' It was formed by Nigel Pegrum at that time drummer for Steeleye Span.', ' Maddy Prior recorded one album for the label, as did Wizz Jones in 1977.', ' The most successful recordings were by The Tannahill Weavers and Blowzabella.', ' Most of the 30 or so albums were produced by Pegrum and 7 were produced by Paul James.', ' Late in the life of the label it began issuing records under licence from other labels and was linked to the Burlington record label which was also issued with the Plant Life logo on the later labels.'], ['Eriogonum inflatum, the desert trumpet, is a perennial plant of the family Polygonaceae.', ' The plant possesses very small yellow or pink flowers and an inflated stem just below branching segments.', ' Eriogonum: from the Greek \"erion\", \"wool\", and \"gonu\", \"joint or knee\", in reference to the hairy or woolly joints of some of the species of the genus, but not particularly \"inflatum\".', ' It is found in the Mojave Desert and other deserts.'], ['Sago palm is a common name for several plants which are used to produce a starchy food known as sago.', ' Sago palms may be \"true palms\" in the family Arecaceae, or cycads with a palm like appearance.', ' Sago produced from cyads must be detoxified before consumption.', ' Plants called sago palm include:'], ['Important Plant Areas (IPA) is a programme set up in the UK, by the organisation Plantlife, to provide a framework for identifying and maintaining the richest sites for plant life, possibly within existing protected areas; though the protection of the IPA itself is not legally enforced.', ' The term plant life in this case refers to any number of species, encompassing algae, fungi, lichens, liverworts, mosses, and wild vascular plants. IPAs are selected with the intention of focusing on the conservation of the important wild plant populations in these areas, and act as a subset in the broader context of Key Biodiversity Areas.', \" Designating an IPA is intended to gain awareness and encourage long-term conservation through an 'ecosystem-based' approach.\"], ['Flora of the Indian epic period can be a tool to study the antiquity of Indian epics as these do not record time scales of the incident mentioned in these.', ' The flora of an area or of time period, refers to all plant life occurring in an area or time period, especially the naturally occurring or indigenous plant life.'], ['Green Cay Wetlands (or Green Cay Wetlands and Nature Center) is a nature preserve located in Boynton Beach, Florida.', ' The 100 acre property was purchased in 1999 from Ted and Trudy Winsberg, who used the property for farming.', ' The Winsbergs sold the property for 1/3 of its appraised value with the condition that it would be made into a wetland.', ' Construction began in July 2003.', ' It was created jointly by the Palm Beach County Utilities Department and the Palm Beach County Parks and Recreation Department in 2004.', ' This park includes 1.5 mi of elevated boardwalk, which takes visitors through various habitats, including cabbage palm hammock, cypress swamp, wetland hammock, and tropical hardwood hammock.', ' The boardwalk also features a Seminole chickee hut as well as several gazebos, which have descriptive signs offering information on the wildlife and plant life.'], ['Pandanus is a genus of monocots with some 750 accepted species.', ' They are palm-like, dioecious trees and shrubs native to the Old World tropics and subtropics.', ' Common names include pandan ( ), screw palm, and screw pine.', ' They are classified in the order Pandanales, family Pandanaceae.'], ['The Peshawar Development Authority is the department in charge of construction in Peshawar.', ' This includes roads, parks, and plant life.', ' The director of Raigilalma, Mr. Jan Ali Khan, was awarded the certificate of \"best construction engineer\" in 1997 by completing Ring road peshawar .', 'Peshawar Development Authority (PDA) is the department in charge of construction in Peshawar.', ' This includes roads, parks, and plant life.'], ['Flora is the plant life occurring in a particular region or time, generally the naturally occurring or indigenous—native plant life.', ' The corresponding term for animal life is fauna.', ' \"Flora\", \"fauna\" and other forms of life such as fungi are collectively referred to as biota.', ' Sometimes bacteria and fungi are also referred to as flora, as in the terms gut flora or skin flora.']]}",
         "Which genus of plant life is more palm like, Pandanus or Eriogonum? ",
         "Pandanus is a genus of monocots with some 750 accepted species.",
         "Sago palms"
        ],
        [
         "6069",
         "{'title': ['Bessera', 'Sesleria', 'Sesleria caerulea', 'Sesleria insularis', 'Sesleria albicans', 'Sesleria heufleriana', 'Sesleria argentea'], 'sentences': [['Bessera is a genus of Mexican plants in the cluster lily subfamily within the asparagus family.', ' It is a small genus of 3 known species of mostly herbaceous flowering plants with corms.', ' They have flowers with petals and petaloid sepals (tepals) with compound pistils.'], ['Sesleria is a Eurasian and North African genus of perennial plants in the grass family.'], ['Sesleria caerulea, known as blue moor-grass, is a species of perennial grass in the Poaceae family, native to Europe.'], ['Sesleria insularis is a species of perennial grass in the Poaceae family, with culms 30–65\\xa0cm long.'], ['Sesleria albicans is a species of perennial grass in the Poaceae family which can be found throughout Europe.'], ['Sesleria heufleriana is a species of perennial grass in the Poaceae family, native to central, southeastern, and eastern Europe and the Caucasus.', ' Culms are erect, ranging from 30–70 cm long; leaf-blades are conduplicate or convolute, and 20–35 cm long by 2–3 mm wide.'], ['Sesleria argentea is a species of perennial grass in the Poaceae family.', ' It is 35 – long with a 0.5 – long ciliolate membrane.', ' Its leaves are either conduplicate or convolute, and are 10 – long and 3 – wide.', ' It also has a linear panicle spiciform which is 3.5 – long and 0.5 – wide.']]}",
         "Both Bessera and Sesleria are?",
         "genus of perennial plants",
         "Sesleria"
        ],
        [
         "6117",
         "{'title': ['Bates (Kent cricketer)', 'Ross Common Manor', 'Jas Mann', 'Mann–Elkins Act', 'If We Hold on Together', 'Full Circle (Jimmie Ross album)', 'Yacht Club Boys', 'Jimmie Ross', \"All the Money's Gone\", 'Common school'], 'sentences': [[\"Bates (first name and dates unknown) was an English first-class cricketer who made one appearance for Sir Horace Mann's XI in 1789, scoring one run and holding two catches.\", ' Bates played for Mann\\'s team (\"aka\" East Kent) against a West Kent team managed by Stephen Amherst on 29–30 June 1789 at Coxheath Common, Mann\\'s XI winning by 8 runs.'], ['Ross Common Manor is a national historic district located in Ross Township, Monroe County, Pennsylvania.', ' It encompasses four contributing buildings and one contributing site on the historic estate of Ross Common Manor.', ' The manor house was built about 1810, and is a 2\\xa0⁄ -story, five-bay-wide stone dwelling with a gable roof.', ' The 1809 stone kitchen building was attached to the main house about 1890.', ' It was built by Congressman John Ross (1770–1834).', ' Also on the property are a stone ice house (1810), a 3\\xa0⁄ -story frame grist mill, a former barn (1880) converted to a theater in the 1930s, and the Ross family cemetery with burials dating from 1814 to the 1850s.', ' During the mid-19th century, the manor house was used as an inn and tavern.'], ['Jasbinder Singh \"Jas\" Mann (born 24 April 1971) is a British songwriter, musician, singer, record producer and film producer.', ' He was lead singer of Babylon Zoo, known for their 1996 single \"Spaceman\" and top five album \"Boy with the X-ray Eyes\".', ' He has produced/distributed over 20 features films, including the BAFTA winning documentary \"The Imposter\" and was executive producer of Simon Pegg\\'s \"Fantastic Fear of Everything\".'], ['The Mann–Elkins Act was a 1910 United States federal law that was among the Progressive era reforms.', ' The Act got its name from congressmen Stephen Benton Elkins and James Robert Mann.', ' Both congressmen sponsored and created legislation about interstate trade which would go on to be signed into law.', ' The Mann–Elkins Act would further expand upon the work by these two men (the Elkins Act and the Mann Act).', ' The act was part of an initiative by President William Howard Taft \"to regulate destructive competition and unfair trade practices\" in order to make good on promises made during his campaign.', ' It was created because, \"Taft believed that the 1887 Interstate Commerce Act should be amended so as to permit railroads to make traffic agreements, which would preserve the principle of competition, and avoid the common control of competing railroad lines.\"', ' This act was in direct response to railroad price increase that took place in 1910.', ' The Act placed a price ceiling on interstate commerce and transportation companies to ensure fair market value of prices.', ' The Act extended the authority of the Interstate Commerce Commission (ICC) to regulate the telecommunications industry, and designated telephone, telegraph and wireless companies as common carriers. .', \" The act placed all telecommunications under the ICC's control.\", ' It was passed by the United States Senate, 50-12.'], ['\"If We Hold on Together\" is the theme song to the 1988 film \"The Land Before Time\", and is performed by Diana Ross.', ' Played during the film\\'s ending credits, it was released on the film\\'s soundtrack as well as the Ross album \"The Force Behind the Power\".', ' The song was co-written by James Horner, Barry Mann and Will Jennings.', ' Released as a single it reached the top 30 on the US adult contemporary chart, as well as giving Ross her biggest hit ever in Japan (#1) and later reaching #11 in the UK.'], ['Full Circle is the debut album of Pittsburgh rock/pop musician Jimmie Ross, best known as a member of the Jaggerz.', ' The album, released in 2010, contains the best of his songs from the Jaggerz.'], ['The Yacht Club Boys was a quartet of American comic singers, popular in the 1920s and 1930s: Charles Adler, George Kelly, Billy Mann, and Jimmie Kern (later known professionally as James V. Kern).', ' They made recordings from the 1920s and appeared as a specialty act in several feature films of the 1930s.', \" The Yacht Club Boys' screen career (and on-screen behavior) paralleled those of The Ritz Brothers, a zany musical-comedy trio doing the same type of musical burlesques.\"], ['Jimmie Ross is an American rock guitarist and vocalist who is best known for being a member of Pittsburgh band the Jaggerz, known for their 1970 hit \"The Rapper\".', \" During the band's initial existence of 1965-1976, the bassist shared the duties of lead vocalist with guitarist Donnie Iris.\", ' By the time the Jaggerz regrouped in 1989, Iris was well into his solo career, and Ross became the sole lead vocalist and remained bassist.', ' He continues to hold both positions today.'], ['\"All the Money\\'s Gone\" is a single by Babylon Zoo and the first to be taken from the second album \"King Kong Groover\".', ' The single was written and produced by Jas Mann and stalled at #46.', ' An animated music video was made to accompany the single.'], ['A common school was a public school in the United States during the nineteenth century.', ' Horace Mann (1796-1859) was a strong advocate for public education and the common school.', ' In 1837, the state of Massachusetts appointed Mann as the first secretary of the State Board of Education where he began a revival of common school education, the effects of which extended throughout America during the 19th century.']]}",
         "What do Jimmie Ross and Jas Mann have in common?",
         "singer",
         "common carriers"
        ],
        [
         "6122",
         "{'title': ['Privet', 'Stellacyanin', 'Oleaceae', 'Binary cycle', 'Chalcone synthase', 'Wax leaf privet', 'Hermannia', 'Privet as an invasive plant', 'Flora of Saskatchewan', 'Peruphasma schultei'], 'sentences': [['A privet is a flowering plant in the genus Ligustrum.', ' The genus contains about 50 species of erect, deciduous or evergreen shrubs, sometimes forming small or medium-sized trees, native to Europe, north Africa, Asia, many introduced and naturalised in Australasia, where only one species extends as a native into Queensland.', ' Some species have become widely naturalized or invasive where introduced.', ' \"Privet\" was originally the name for the European semi-evergreen shrub \"Ligustrum vulgare\", and later also for the more reliably evergreen \"Ligustrum ovalifolium\" used extensively for privacy hedging, though now the name is applied to all members of the genus.', ' The generic name was applied by Pliny the Elder (23–79 CE) to \"L. vulgare\".', ' It is often suggested that the name \"privet\" is related to \"private\", but the OED states that there is no evidence to support this.'], ['Stellacyanin is a member of the blue or type I copper protein family.', ' This family of copper proteins is generally involved in electron transfer reactions with the Cu center transitioning between the oxidized Cu(II) form and the reduced Cu(I) form.', ' Stellacyanin is ubiquitous among vascular seed plants.', ' It is a 20kDa protein whose structure is made up of beta strands forming 2 beta sheets to form a Greek key beta barrel with variable alpha helical structure.', ' The copper binding domain of the protein is located at the amino-terminal end, while the carboxyl-terminal end is rich in hydroxyproline and serine residues, typical of proteins associated with cell walls of plants.', ' In addition, it is also heavily glycosylated.', ' The copper is tetrahedrally coordinated by a cysteine, 2 histidines, and a glutamine residue.', ' The glutamine residue takes place of a methione ligand typically found in other blue copper proteins.', ' In addition, electron transfer rates for stellacyanin are faster than for other type I copper proteins suggesting stellacyanin is more solvent accessible at the active site.', ' The exact function of stellacyanin is unknown.', ' However, given the fact that type I copper proteins are involved in electron transfer and stellacyanin appears to be associated with the plant cell wall, it is suggested that it is involved in oxidative cross-linking reactions to build polymeric material making up the cell wall.'], ['The Oleaceae are a family of flowering plants in the order Lamiales.', ' It presently comprises 26 genera, one of which is recently extinct.', ' The 25 extant genera include \"Cartrema\", which was resurrected in 2012.', ' The number of species in the Oleaceae is variously estimated in a wide range around 700.', ' The Oleaceae consist of shrubs, trees, and a few lianas.', ' The flowers are often numerous and highly odoriferous.', ' The family has a subcosmopolitan distribution, ranging from the subarctic to the southernmost parts of Africa, Australia, and South America.', ' Notable members of the Oleaceae include olive, ash, jasmine, and several popular ornamental plants including privet, forsythia, fringetrees, and lilac.'], ['A binary cycle power plant is a type of geothermal power plant that allows cooler geothermal reservoirs to be used than is necessary for dry steam and flash steam plants.', ' As of 2010, flash steam plants are the most common type of geothermal power generation plants in operation today, which use water at temperatures greater than 182 C that is pumped under high pressure to the generation equipment at the surface.', ' With binary cycle geothermal power plants, pumps are used to pump hot water from a geothermal well, through a heat exchanger, and the cooled water is returned to the underground reservoir.', ' A second \"working\" or \"binary\" fluid with a low boiling point, typically a butane or pentane hydrocarbon, is pumped at fairly high pressure (500 psi ) through the heat exchanger, where it is vaporized and then directed through a turbine.', ' The vapor exiting the turbine is then condensed by cold air radiators or cold water and cycled back through the heat exchanger.'], ['Chalcone synthase or naringenin-chalcone synthase (CHS) is an enzyme ubiquitous to higher plants and belongs to a family of polyketide synthase enzymes (PKS) known as type III PKS.', ' Type III PKSs are associated with the production of chalcones, a class of organic compounds found mainly in plants as natural defense mechanisms and as synthetic intermediates.', ' CHS was the first type III PKS to be discovered.', ' It is the first committed enzyme in flavonoid biosynthesis.'], ['Wax leaf privet is a common name for several plants and may refer to:'], ['Hermannia is a genus of flowering plants in the mallow family, Malvaceae.', ' It comprises at least 65 species with many more species as yet unresolved.'], ['Privet refers to any of a number of shrubs or trees in the genus Ligustrum.', ' The genus contains about 50 species native to the Old World and Australasia.', ' Many members of the genus are grown as ornamental plants in parts of the world.'], ['The native flora of the Saskatchewan includes vascular plants, plus additional species of other plants and plant-like organisms such as algae, lichens and other fungi, and mosses.', ' Non-native species of plants are recorded as established outside of cultivation in Saskatchewan, of these some non-native species remain beneficial for gardening, and agriculture, where others have become invasive, noxious weeds.', ' Saskatchewan is committed to protecting species at risk in Canada.', ' The growing season has been studied and classified into plant hardiness zones depending on length of growing season and climatic conditions.', ' Biogeographic factors have also been divided into vegetative zones, floristic kingdoms, hardiness zones and ecoregions across Saskatchewan, and natural vegetation varies depending on elevation, moisture, soil type landforms, and weather.', ' The study of ethnobotany uncovers the interrelation between humans and plants and the various ways people have used plants for economic reasons, food, medicine and technological developments.', ' The Government of Saskatchewan has declared 3 indigenous plants as provincial symbols.'], ['Peruphasma schultei is a species of stick insect found in the Cordillera del Condor region of northern Peru.', ' In the wild the insect feeds on \"Schinus\" plants, but will feed on privet and honeysuckle in captivity.', ' In Peru they are only known to exist in a region of less than 5 hectares, but since their discovery they have become increasingly popular as pets worldwide due to their unusual colouration and they are now bred regularly in captivity.']]}",
         "Privet and Hermannia, are which type of plants?",
         "flowering",
         "flowering"
        ],
        [
         "6147",
         "{'title': ['Duvalia', 'Heterotaxis', 'Maxillarieae', 'Nudol', 'Maxillaria', 'Ornithidium donaldeedodii', 'Microtis (plant)', 'Caladenia', 'Paracaleana', 'Camaridium'], 'sentences': [['Duvalia is a succulent plant genus in the tribe Stapeliae, milkweed subfamily Asclepiadoideae, in the family Apocynaceae (dogbane).'], ['Heterotaxis is a genus of orchids native to Latin America from central Mexico to Bolivia, and also to parts of the West Indies.', ' One species extends into Florida (\"H. sessilis\", listed under synonym \"Maxillaria crassifolia\" in Flora of North America).'], ['Maxillarieae is a large and complex tribe of orchids native to South and Central America.', ' Within the tribe there are eight subtribes one of which is that of the genus \"Maxillaria\".'], ['Nudol is a phenanthrenoid of the orchids \"Eulophia nuda\", \"Eria carinata\", \"Eria stricta\" and \"Maxillaria densa\".'], ['Maxillaria, abbreviated as Max in the horticultural trade, is a large genus of orchids (family Orchidaceae).', ' This is a diverse genus, with very different morphological forms.', ' Their characteristics can vary widely.'], ['Ornithidium donaldeedodii is a species of orchids \"discovered\" in April 2010 when DNA analysis showed that a wrongly labeled orchid at the University of California Botanical Garden in Berkeley, California, was actually a distinct new species.', ' The \"new\" orchid, which had been mislabeled as \"Maxillaria croceorubens\" since the 1990s, was named after orchidologist Donald D. Dod (1912–2008), who collected the specimen in the 1980s in Haiti.', ' The new orchid was officially described in \"Lankesteriana\", an international journal on orchidology, by authors James Ackerman of the University of Puerto Rico and W. Mark Whitten of the Florida Museum of Natural History.'], ['Microtis, commonly known as onion orchids or mignonette orchids is a genus of about 20 species of plants in the orchid family, Orchidaceae.', ' Onion orchids are terrestrial herbs with a single leaf at the base of the plant.', ' They are similar to orchids in the genus \"Prasophyllum\" in that they have an onion-like leaf.', ' The flowers are small but often scented and attractive to their insect pollinators.', ' They are widespread in Asia, Australia and some Pacific islands.'], ['Caladenia, commonly known as spider orchids, is a genus of 350 species of plants in the orchid family, Orchidaceae.', ' Spider orchids are terrestrial herbs with a single hairy leaf and a hairy stem.', ' The labellum is fringed or toothed in most species and there are small projections called calli on the labellum.', ' The flowers have adaptations to attract particular species of insects for pollination.', ' The genus is divided into three groups on the basis of flower shape, broadly, spider orchids, zebra orchids and cowslip orchids, although other common names are often used.', ' Although they occur in other countries, most are Australian and 136 species occur in Western Australia, making it the most species-rich orchid genus in that state.'], ['Paracaleana commonly known as duck orchids, is a genus of flowering plants in the orchid family, Orchidaceae that is found in Australia and New Zealand.', ' The Australian species are found in all states but have not been recorded in the Northern Territory.', ' Orchids in this genus are similar to \"Caleana major\", but there are differences in the flowers and in the insects that pollinate them.', ' \"Paraceleana\" orchids, as well as hammer orchids (\"Drakaea\") are pollinated by male thynnid wasps.', ' Duck orchids have a single leaf and one or a few, dull-coloured, inconspicuous flowers.'], ['Camaridium is a genus of epiphytic orchids widespread across the West Indies and through Latin America from Mexico to Bolivia.', ' One species extends into Florida (\"C. vestitum\", listed in Flora of North America under the synonym, \"Maxillaria parviflora\").']]}",
         "Duvalia and Maxillaria, are a genus of orchids?",
         "no",
         "diverse genus, with very different morphological forms"
        ],
        [
         "6180",
         "{'title': ['Guy McAfee', 'Dennis Hof', 'Jeff Rona', 'Charles Geerts (businessman)', 'Zana Briski', 'Sharkwater', 'Paul Kelly (criminal)', 'Ukiyo', 'Born into Brothels', 'Guaracha'], 'sentences': [['Guy McAfee (1888–1960) was an American law enforcement officer and mob star.', ' Born in Kansas and orphaned in early childhood, he became a firefighter in Los Angeles, California and later served as the head of the vice squad of the Los Angeles Police Department.', ' He was the owner of brothels and gambling saloons, with ties to organized crime in the 1930s.', ' He co-founded casinos in Las Vegas, Nevada in the 1940s and 1950s.', ' He named the Las Vegas Strip after the Sunset Strip.'], ['Dennis Hof (born October 14, 1946) is an American brothel owner, entrepreneur, restaurateur and star of the HBO series .', ' He is best known as the owner of seven legal brothels in Nevada.', \" In the state of Nevada, prostitution's legality is determined on a county-by-county basis.\", ' Several of his brothels are in Moundhouse, Nevada, a few minutes outside Carson City.', ' His best-known brothel is the Moonlite BunnyRanch.'], ['Jeffrey Carl \"Jeff\" Rona (born March 3, 1957) is an American composer for film.', ' He was a member of Hans Zimmer\\'s \"Media Ventures\".', ' His credits include \"Sharkwater\", \"Traffic\", \"God of War III\", \"Phantom\" and \"Veeram\".'], [\"Charles Ludovicus Geerts (born 1943, in Amsterdam) is one of Amsterdam's largest brothel owners.\", ' In 2008 he sold 17 properties for 25 million EUR of which more than half was paid by the municipality.', ' \"Dikke Charles\" (fat Charles), sometimes called \"Amsterdam\\'s Emperor of Sex,\" is a legendary king of brothels that before the sales controlled over 60 window brothels in the entertainment blocks.', ' Most of the window brothels are now empty and curtains hang behind the windows.'], ['Zana Briski (born 25 October 1966) is a British photographer and filmmaker, best known for \"Born into Brothels\", the 2004 winner of the Academy Award for Documentary Feature, which she directed.', ' She founded Kids with Cameras, a non-profit organization that teaches the art of photography to marginalized children in communities throughout the world.', ' Her interest in photography began at age 10.'], ['Sharkwater is a 2006 Canadian documentary film written and directed by Rob Stewart.', \" Helping to protect sharks, changing government policy, and inspiring the creation of shark conservation groups, Sharkwater is considered one of conservation's success stories, resulting in shark finning being banned worldwide.\", ' In the film, Stewart filmed current attitudes about sharks, and how shark-hunting industries are driving them to extinction.'], ['Paul Kelly (born Paolo Antonio Vaccarelli; December 23, 1876 – April 3, 1936) was an Italian immigrant who founded the Five Points Gang in New York City after starting some brothels with prize money earned in boxing.', ' It was one of the last dominant street gangs in New York history; Kelly recruited young men who later became prominent criminals of the early 20th century, including Johnny Torrio, Al Capone, Lucky Luciano, Meyer Lansky, Bugsy Siegel and Frankie Yale.', \" Kelly was said to support election of Democratic Tammany Hall politicians with his gang's activities at elections.\"], ['Ukiyo (浮世 , \"Floating World\") describes the urban lifestyle, especially the pleasure-seeking aspects, of the Edo-period Japan (1600–1867).', ' The Floating World culture developed in Yoshiwara, the licensed red-light district of Edo (modern Tokyo), which was the site of many brothels, \"chashitsu\", and kabuki theaters frequented by Japan\\'s growing middle class.', ' A prominent author of the \"ukiyo\" genre was Ihara Saikaku, who wrote \"The Life of an Amorous Woman\".', ' The \"ukiyo\" culture also arose in other cities such as Osaka and Kyoto.'], [\"Born into Brothels: Calcutta's Red Light Kids is a 2004 Indian-American documentary film about the children of prostitutes in Sonagachi, Kolkata's red light district.\", ' The widely acclaimed film, written and directed by Zana Briski and Ross Kauffman, won a string of accolades including the Academy Award for Best Documentary Feature in 2004.'], ['The guaracha (] ) is a genre of Cuban popular music, of rapid tempo and comic or picaresque lyrics.', ' The word had been used in this sense at least since the late 18th and early 19th century.', ' Guarachas were played and sung in musical theatres and in low-class dance salons.', ' They became an integral part of bufo comic theatre in the mid-19th century.', ' During the later 19th and the early 20th century the guaracha was a favourite musical form in the brothels of Havana.', ' The guaracha survives today in the repertoires of some trova musicians, conjuntos and Cuban-style big bands.']]}",
         "Born into Brothels and Sharkwater, are of which genre?",
         "documentary",
         "truth"
        ],
        [
         "6215",
         "{'title': ['White Fang (1991 film)', 'Summer Lovers', 'The Boy in the Plastic Bubble', 'The Blue Lagoon (1980 film)', 'Randal Kleiser', 'Flight of the Navigator', 'Shadow of Doubt (1998 film)', 'Grandview, U.S.A.', \"It's My Party (film)\", 'Ken Kwapis'], 'sentences': [['White Fang is a 1991 American Northern adventure film directed by Randal Kleiser, starring Ethan Hawke, Klaus Maria Brandauer and Seymour Cassel.', ' Based on Jack London\\'s novel \"White Fang\", it tells the story of the friendship between a Yukon gold hunter and a wolfdog.'], ['Summer Lovers is a 1982 American romantic comedy film written and directed by Randal Kleiser, starring Peter Gallagher, Daryl Hannah and Valerie Quennessen.', ' It was filmed on location on the island of Santorini, Greece.', ' The original music score is composed by Basil Poledouris.', ' \"Summer Lovers\" featured \"Hard to Say I\\'m Sorry\", a No. 1 hit for Chicago and \"I\\'m So Excited\" by The Pointer Sisters.'], ['The Boy in the Plastic Bubble is a 1976 American made-for-television drama film inspired by the lives of David Vetter and Ted DeVita, who lacked effective immune systems.', \" It stars John Travolta, Glynnis O'Connor, Diana Hyland, Robert Reed, and P.J. Soles.\", ' It was written by Douglas Day Stewart, executive produced by Aaron Spelling and Leonard Goldberg (who, at the time, produced \"Starsky and Hutch\" and \"Charlie\\'s Angels\"), and directed by Randal Kleiser, who would work with Travolta again in \"Grease\" shortly after.', ' The original music score was composed by Mark Snow.', ' The theme song \"What Would They Say\" was written and sung by Paul Williams.', ' William Howard Taft High School in Woodland Hills was used for filming.'], ['The Blue Lagoon is a 1980 American romantic adventure drama film directed by Randal Kleiser and filmed on Turtle Island in Fiji.', ' The screenplay by Douglas Day Stewart was based on the 1908 novel \"The Blue Lagoon\" by Henry De Vere Stacpoole.', ' The film stars Brooke Shields and Christopher Atkins.', ' The music score was composed by Basil Poledouris and the cinematography was by Néstor Almendros.'], ['John Randal Kleiser (born July 20, 1946) is an American film director and producer, best known for directing the 1978 musical romantic comedy film \"Grease\".'], ['Flight of the Navigator is a 1986 American science fiction adventure film directed by Randal Kleiser and written by Mark H. Baker, Michael Burton and Matt MacManus.', ' The film stars Joey Cramer as David Freeman, a 12-year-old boy who is abducted by an alien spaceship and finds himself caught in a world that has changed around him.'], ['Shadow of Doubt is a 1998 American independent mystery-thriller film directed by Randal Kleiser and starring Melanie Griffith, Tom Berenger, Craig Sheffer, and Huey Lewis.'], ['Grandview, U.S.A. is a 1984 American comedy film directed by Randal Kleiser and starring Jamie Lee Curtis, Patrick Swayze, C. Thomas Howell, Jennifer Jason Leigh, Carole Cook, Ramon Bieri, John Cusack, Joan Cusack, M. Emmet Walsh, Michael Winslow, Troy Donahue and Steve Dahl.', ' The original music score is composed by Thomas Newman.', ' It was filmed on location in Pontiac, Illinois.'], [\"It's My Party is a 1996 American drama film written and directed by Randal Kleiser, it was one of the first feature films to address the topic of AIDS patients dying with dignity.\"], ['Kenneth William \"Ken\" Kwapis (born August 17, 1957) is an American film and television director and screenwriter.', ' He specialized in the single-camera sitcom in the 1990s and 2000s and has directed feature films such as \"Sesame Street Presents Follow That Bird\" (1985), \"The Sisterhood of the Traveling Pants\" (2005), and \"He\\'s Just Not That into You\" (2009).']]}",
         "Randal Kleiser and Ken Kwapis, are American, and have which common occupation?",
         "film director",
         "single-camera sitcom in the 1990s and 2000s"
        ],
        [
         "6308",
         "{'title': ['Friedman Unit', 'Echo Hill Ranch', 'Thomas Friedman', 'Curiosity quotient', \"Bridget Jones's Baby\", 'Helen Fielding', 'Bridget Jones: The Edge of Reason (film)', 'Hot, Flat, and Crowded', \"Bridget Jones's Diary (film)\", 'Bridget Jones'], 'sentences': [['The Friedman Unit, or simply Friedman, is a tongue-in-cheek neologism.', ' One Friedman Unit is equal to six months, specifically the \"next six months\", a period repeatedly declared by \"New York Times\" columnist Thomas Friedman to be the most critical of the then-ongoing Iraq War even though such pronouncements extended back over two and a half years.'], ['Echo Hill Ranch is a summer ranch camp of about 400 acres (1.6\\xa0km²) in the Texas Hill Country.', ' The ranch was founded in 1953 by Dr. S. Thomas Friedman and Minnie Samet Friedman.', ' It is located south of Kerrville near Medina.', ' Echo Hill was founded as a noncompetitive, child-centered ranch camp for boys and girls ages 6–14.', ' Echo Hill Ranch is the current residence of Texas musician/writer/gubernatorial candidate Kinky Friedman.', ' July 24, 2013 the camp announced via their Facebook page that it would not reopen for summer of 2014.'], ['Thomas Loren Friedman (born July 20, 1953) is an American journalist and author.', ' He is a three time Pulitzer Prize winner.'], ['Curiosity quotient is a term put forth by author and journalist Thomas L. Friedman as part of an illustrative formula to explain how individuals can be powerfully motivated to learn about a personally interesting subject, whether or not they possess a particularly high intelligence quotient (IQ).', ' The non-mathematical and fictitious formula is CQ + PQ > IQ; where CQ is \"curiosity quotient\" and PQ is \"passion quotient.\"', ' Thomas Friedman states that when curiosity is paired with passion in the exploration of a subject of interest, an individual may be able to acquire an amount of knowledge comparable that of a person who is exceptionally intelligent, because of the vast amount of information resources available through the Internet.'], [\"Bridget Jones's Baby is a 2016 romantic comedy film directed by Sharon Maguire and written by Helen Fielding, Dan Mazer and Emma Thompson, based on the fictional columns by Fielding.\", ' It is the third film in the franchise and a sequel to 2004 film \"\".', ' The film stars Renée Zellweger as Bridget Jones, who after becoming pregnant is unsure if Mark Darcy (Colin Firth, also reprising his role) or Jack Qwant (Patrick Dempsey) is the father.'], ['Helen Fielding is an English novelist and screenwriter, best known as the creator of the fictional character Bridget Jones, and a sequence of novels and films beginning with the life of a thirtysomething singleton in London trying to make sense of life and love. \"', 'Bridget Jones\\'s Diary\" (1996) and \" \" (1999) were published in 40 countries and sold more than 15 million copies.', ' The two films of the same name achieved international success.', ' In a survey conducted by \"The Guardian\" newspaper, \"Bridget Jones’s Diary\" was named as one of the ten novels that best defined the 20th century.'], [\"Bridget Jones: The Edge of Reason is a 2004 British-American romantic comedy film directed by Beeban Kidron and written by Adam Brooks, Richard Curtis, Andrew Davies, and Helen Fielding, based on Fielding's .\", ' It stars Renée Zellweger as Bridget Jones, Colin Firth as Mark Darcy, and Hugh Grant as Daniel Cleaver.'], ['Hot, Flat, and Crowded: Why We Need a Green Revolution—And How It Can Renew America is a book by \"New York Times\" Foreign Affairs columnist Thomas Friedman, proposing that the solutions to global warming and the best method to regain the United States\\' economic and political stature in the world are to embrace the clean energy and green technology industries.', ' The title derives from the convergence of Hot (global warming), Flat (globalization, as discussed in Friedman\\'s book \"The World Is Flat\") and Crowded (population growth).'], [\"Bridget Jones's Diary is a 2001 British-American-French romantic comedy film directed by Sharon Maguire and written by Richard Curtis, Andrew Davies, and Helen Fielding.\", ' It is based on Fielding\\'s novel of the same name, which is a reinterpretation of Jane Austen\\'s \"Pride and Prejudice\".', ' The adaptation stars Renée Zellweger as Bridget, Hugh Grant as the caddish Daniel Cleaver, and Colin Firth as Bridget\\'s \"true love\", Mark Darcy.', ' Production began in May 2000 and ended in August 2000, and took place largely on location in London and the Home Counties.', ' The film premiered on 4 April 2001 in the UK and was released to theatres on 13 April 2001 simultaneously in the UK and in the US.'], ['Bridget Jones is a franchise based on a fictional character of the same name.', ' British writer Helen Fielding started her \"Bridget Jones\\'s Diary\" column in \"The Independent\" in 1995, while chronicling the life of Jones as a thirtysomething single woman in London as she tries to make sense of life and love with the help of a surrogate \"urban family\" of friends in the 1990s.', ' The column lampooned the obsession of women with women\\'s magazines such as \"Cosmopolitan\" and wider social trends in Britain at the time.', ' Fielding published the novelisation of the column in 1996, followed by a sequel in 1999 called \"\".']]}",
         "Are Helen Fielding and Thomas Friedman both writers?",
         "yes",
         "embrace the clean energy and green technology industries"
        ],
        [
         "6312",
         "{'title': ['IAR Graduate Conference', 'Asia Pacific Week', 'North Pacific College', 'Worarat Suwannarat', 'Asia Pacific College', 'Martan Mann', 'Bulacan State University College of Business Administration', 'Bulacan State University', 'Seattle Pacific University', 'FEU Institute of Technology'], 'sentences': [[\"The Institute of Asian Research (IAR) Graduate Conference at the University of British Columbia is an annual graduate conference organized by the IAR Conference Committee, and co-hosted by the University's Institute of Asian Research.\", ' The symposium is a forum for interdisciplinary discussion on Asia Pacific policy-relevant issues, where students in all fields are encouraged to demonstrate the policy significance of their work.', ' The IAR Conference Committee, under its collaboration with the College for Interdisciplinary Studies (CFIS) at UBC, publishes the proceedings of the conference in the \"Journal of the College for Interdisciplinary Studies\", as well as the possibility of publication in the Asia Pacific Memo.'], ['Asia Pacific Week (APW) is an annual conference held at the Australian National University (ANU) and hosted by the ANU College of Asia & the Pacific.', \" The conference brings together 80 of the 'best and brightest' student and academic delegates from universities around the world to engage in discussion on the future of the Asia Pacific region.\", ' Through the incorporation of innovative and trans-disciplinary sessions, APW aims to facilitate communication and forge connections between top academics and students.'], ['North Pacific College was a private, post-secondary educational institution located in Portland in the U.S. state of Oregon.', ' A professional school, North Pacific had pharmacy, dental, and optometry programs.', ' The dental program was purchased by the state of Oregon and merged into the University of Oregon School of Medicine and now exists as the Oregon Health & Science University School of Dentistry.', ' The optometry school was merged into Pacific University and still exists as the Pacific University College of Optometry.'], ['Worarat Suwannarat, also known as Emma Suwannarat, Thai: , (born Emma Masterson, January 22, 1977 in Thailand) is a Thai actress, model, host, and the Miss Asia Pacific 1997 titleholder.', ' She was the first runner up in the 1997 Miss Thailand pageant.', ' She hosted talk show Sawasdee Bangkok and was Tourism Authority Thailand country ambassador.', ' Emma was born in Bangkok, Thailand to an Irish father and a Thai mother.', ' She graduated from Chulalongkorn University, Thailand and from the University of Cambridge, United Kingdom, with a Master of Philosophy.', ' She represented Thailand at the 1997 Miss Asia Pacific pageant held in Davao City, Philippines and won the competition becoming the third Thai woman ever to capture this prestigious title.', ' Despite being raised in Ireland, she is fluent in Thai.'], ['Asia Pacific College (APC) was established in 1991 as a non-profit joint venture between IBM Philippines and the SM Foundation.', ' It was envisioned as a learning institution that produces graduates who fulfill information technology industry demands.'], ['Martan Mann is an American jazz pianist and educator living in Boulder Creek, California.', ' He performs with the Martan Mann Trio, the Martan Mann & Mannkind (contemporary jazz band) and has performed with George Young and Dmitri Matheny.', ' A graduate of San Jose State University, San Francisco State University, Hawaii Pacific College, and the University of Hawaii, he is a musical director at Capitola Theater in Capitola, California and is on the board of directors for the Jazz Society of Santa Cruz, California.', ' Jazz educational books include \"Jazz Improvisation for the Classical Pianist\" (1989), \"New Age Improvisation for the Classical Pianist\" (1994), and \"Improvising blues piano\" (1997).', ' He is also the author of an jazz educational DVD, \"Jazz Skills for Piano\".'], ['Bulacan State University College of Business Administration'], ['Bulacan State University (commonly referred to as BulSU or BSU; Filipino: \"Pamantasang Pampamahalaan ng Bulacan\") is a public university located in Malolos, Bulacan in the Philippines.', ' The University is one of the most respected institutions in Bulacan and in the Philippines.', ' It was established in 1904 as an intermediate school by the Americans during their regime.', ' It was converted into a chartered state university in 1993 by virtue of Republic Act 7665.', ' It has five satellite campuses in Bustos, San Jose del Monte, Bulakan, Hagonoy, and Pulilan, and also runs an academic program in Hong Kong which offers graduate and collegiate degree courses.'], ['Seattle Pacific University (SPU) is a private liberal arts university in Seattle, Washington, founded in 1891 in conjunction with the Oregon and Washington Conference of the Free Methodist Church as the Seattle Seminary.', ' It became the Seattle Seminary and College in 1913, adopting the name Seattle Pacific College in 1915, and took its present moniker in 1977.', ' Seattle Pacific University is a member of the Christian College Consortium.'], ['FEU Institute of Technology formerly known as FEU - East Asia College (FEU-EAC), East Asia College of Information Technology (EACIT) and East Asia Institute of Computer Technology (EAICT), was established in 1992.', ' EACIT is an educational partnership of Asia Pacific College (APC), Shoemart, IBM Phils., IWI (Phils.)', ', and Far Eastern University (FEU).']]}",
         "Which university was founded first, Asia Pacific College or Bulacan State University?",
         "It was established in 1904",
         "an intermediate school"
        ],
        [
         "6348",
         "{'title': ['Black Sunday (1960 film)', 'Lamberto Bava', 'Mario Bava', 'A Bay of Blood', 'Blood and Black Lace', 'Knives of the Avenger', 'Eugenio Bava', 'Ben Holmes', 'Hercules in the Haunted World', 'Planet of the Vampires'], 'sentences': [['Black Sunday (Italian: \"La maschera del demonio\"), also known as The Mask of Satan and Revenge of the Vampire, is a 1960 Italian gothic horror film directed by Mario Bava from a screenplay by Ennio de Concini and Mario Serandrei (with uncredited contributions by Bava, Marcello Coscia and Dino Di Palma), and starring Barbara Steele, John Richardson, Arturo Dominici and Ivo Garrani.', \" It was Bava's directorial debut, although he had completed several previous feature films without receiving an onscreen credit.\", ' Based very loosely on Nikolai Gogol\\'s short story \"Viy\", the narrative concerns a witch who is put to death by her own brother, only to return 200 years later to seek revenge on her descendants.'], ['Lamberto Bava (born 3 April 1944) is an Italian film director.', ' Born in Rome, Bava began working as an assistant director for his director father Mario Bava.', ' Lamberto co-directed the 1979 television film \"La Venere d\\'Ille\" with his father and in 1980 directed his first solo feature film \"Macabre\".'], ['Mario Bava (31 July 1914 – 27 April 1980) was an Italian director, screenwriter, special effects artist, and cinematographer from the \"golden age\" of Italian horror films.', ' His work kick-started the giallo film genre and the modern \"slasher film\".', ' His son Lamberto Bava later went on to become a noted horror film director in his own right.'], ['A Bay of Blood (Italian: Ecologia del delitto; also known as Twitch of the Death Nerve, Blood Bath and Reazione a catena/ Chain Reaction) is a 1971 Italian horror film directed by Mario Bava.', ' Bava co-wrote the screenplay with Giuseppe Zaccariello, Filippo Ottoni, and Sergio Canevari, with story credit given to Dardano Sacchetti and Franco Barberi.', ' The film stars Claudine Auger, Luigi Pistilli, Brigitte Skay, Nicoletta Elmi and Laura Betti.', ' Carlo Rambaldi created the gruesome special make-up effects.', ' The story details the simultaneous murderous activities of several different characters as they each attempt to remove any human obstacles that stand in the way of an inheritance of a bay.'], ['Blood and Black Lace (Italian: \"Sei donne per l\\'assassino\" , \\'Six Women for the Murderer\\' ) is a 1964 \"giallo\" directed by Mario Bava.', ' Bava co-wrote the screenplay with Giuseppe Barilla and Marcello Fondato.', ' The film stars Cameron Mitchell and Eva Bartok.', ' The story concerns the stalking and brutal murders of various scantily-clad fashion models, committed by a masked killer in a desperate attempt to obtain a scandal-revealing diary.'], ['Knives of the Avenger (Italian: \"I coltelli del vendicatore\" ) directed by Mario Bava.', ' Bava entered production when it was already in falling apart and re-wrote and shot the film in six days.'], ['Eugenio Bava (4 June 1886, Italy – 23 October 1966, Rome, Italy) was an Italian film cinematographer and is the patriarch of the Bava family.', ' His son was acclaimed film director Mario Bava and his grandson is Italian horror film director Lamberto Bava.'], ['Ben Holmes (November 6, 1890 – December 2, 1943) was an American film director and screenwriter.', ' He directed 56 films and wrote for 35.'], ['Hercules in the Haunted World (Italian: Ercole al centro della terra) is a 1961 Italian sword-and-sandal film directed by Mario Bava.', \" British bodybuilder Reg Park plays Hercules while British actor Christopher Lee appears as Hercules' nemesis Lico.\", ' Shooting at Cinecittà, director Mario Bava used some of the same sets from the earlier \"Hercules and the Conquest of Atlantis\" which had already starred Reg Park.'], ['Planet of the Vampires (Italian: Terrore nello spazio, literally \"Terror in space\") is a 1965 Italian/Spanish science fiction horror film, produced by Fulvio Lucisano, directed by Mario Bava, that stars Barry Sullivan and Norma Bengell.', ' The screenplay, by Bava, Alberto Bevilacqua, Callisto Cosulich, Antonio Roman and Rafael J. Salvia, was based on an Italian-language science fiction short story, Renato Pestriniero\\'s \"One Night of 21 Hours\".', ' American International Pictures released the film as the supporting feature on a double bill with Daniel Haller\\'s \"Die, Monster, Die!', '\" (1965).']]}",
         "What is similar about Mario Bava and Ben Holmes?",
         "director and screenwriter",
         "Nikolai Gogol's short story \"Viy\","
        ],
        [
         "6371",
         "{'title': ['David Gilmour (album)', 'Free Me (Roger Daltrey song)', 'One Man Band (Roger Daltrey song)', 'The Pride You Hide', 'Roger Daltrey', 'David Gilmour in Concert', 'David Gilmour Live 1984', 'David Gilmour', 'About Face (album)', 'No Plan B (band)'], 'sentences': [['David Gilmour is the debut solo studio album by Pink Floyd guitarist and co-lead vocalist David Gilmour.', ' The album was released in May and June 1978 in the United Kingdom and the United States, respectively.', ' The album reached number 17 in the UK and number 29 on the Billboard US album charts; it was certified Gold in the US by the RIAA.', ' The album was produced by Gilmour, and consists mostly of blues, guitar oriented rock songs except for the piano-dominated ballad \"So Far Away\".'], ['\"Free Me\" is a song written by Russ Ballard and performed by Roger Daltrey, singer for English rock band The Who.', ' The song is on Roger Daltrey\\'s 1980 solo album \"McVicar\" and in the film \"McVicar\", also released in 1980.'], ['One Man Band is a song by The Who\\'s lead singer, Roger Daltrey from his début solo album \"Daltrey\".', \" The song was written by David Courtney and Leo Sayer, and features Daltrey's Acoustic guitar strumming.\", ' According to Daltrey, it \"reminiscences of Shepherd\\'s Bush\" (A place in west London where Daltrey had grown up and The Who were formed) and became one the albums highlights of the album, and later being released as a single in its own right in some European territories.'], ['\"\\'The Pride You Hide\\'\" is a song by Roger Daltrey, who at the time was the former lead singer of The Who.', ' The song was written by Alan Dalgleish, Nicky Tesco and Roger Daltrey.', ' The track was included on Roger Daltrey\\'s sixth solo album, \"Under a Raging Moon\", as the fourth track on the first side of the LP.', \" The album was a tribute to The Who's former drummer Keith Moon.\"], ['Roger Harry Daltrey, {\\'1\\': \", \\'2\\': \", \\'3\\': \", \\'4\\': \"} (born 1 March 1944) is an English singer and actor.', ' In a career spanning more than 50 years, Daltrey came to prominence in the mid-1960s as the founder and lead singer of the rock band the Who, which released fourteen singles that entered the Top 10 charts in the United Kingdom during the 1960s, 1970s, and 1980s, including \"I Can\\'t Explain\", \"My Generation\", \"Substitute\", \"I\\'m a Boy\", \"Happy Jack\", \"Pictures of Lily\", \"Pinball Wizard\", \"Won\\'t Get Fooled Again\", and \"You Better You Bet\".', ' Daltrey began his solo career in 1973, while still a member of the Who.', ' Since then, he has released eight studio albums, five compilation albums, and one live album.', ' His solo hits include \"Giving It All Away\", \"Walking the Dog\", \"Written on the Wind\", \"Free Me\", \"Without Your Love\", \"Walking in My Sleep\", \"After the Fire\", and \"Under a Raging Moon\".', ' In 2010, he was ranked as number 61 on \"Rolling Stone\"\\' s list of the 100 greatest singers of all time.'], [\"David Gilmour in Concert is a DVD of Pink Floyd guitarist David Gilmour's solo concert at the Royal Festival Hall, London in June 2001, as part of the Robert Wyatt-curated Meltdown festival.\", ' It also features additional footage recorded during three concerts at the same venue in January 2002.', \" The track selection includes several Pink Floyd compositions in addition to Gilmour's solo works.\", ' Guest appearances are made by Floyd colleague Richard Wright, as well as Robert Wyatt and Bob Geldof.', ' It includes the first ever performance of \"Smile\" a track which would appear almost five years later on Gilmour\\'s third solo album - \"On an Island\", and Gilmour even plays a few Syd Barrett compositions.', ' Also included is \"Je crois entendre encore \" (\"I still believe I hear\"), an aria from Georges Bizet\\'s opera \"Les pêcheurs de perles \" (\"The Pearl Fishers\"), with a libretto by Eugène Cormon and Michel Carré, and sung by Gilmour in the original French.'], ['Pink Floyd\\'s David Gilmour or simply David Gilmour is a film by David Gilmour from his 1984 tour from the album \"About Face\" for Europe.', ' The film is mainly a concert performance from The Hammersmith Odeon in London in April 1984.', ' It also features promotional clips.', ' Lastly, a documentary called \"After The Floyd\" which followed Gilmour on the 1984 solo tour and includes interviews with David on tour buses (the bus driver referred to David as ex-guitarist of Pink Floyd) and in hotel rooms.', ' Also included is more live footage of concerts and soundchecks in Europe.', ' It is now out of production.'], ['David Jon Gilmour, {\\'1\\': \", \\'2\\': \", \\'3\\': \", \\'4\\': \"} (born 6 March 1946) is an English guitarist, singer and songwriter best known as a longtime member of the progressive rock band Pink Floyd.', ' He joined group as guitarist and co-lead vocalist in 1968, effectively as a replacement for founder member Syd Barrett, who was dismissed from the band shortly afterwards.'], ['About Face is the second solo studio album by the English guitarist-singer-songwriter David Gilmour.', ' It was originally released in March 1984, on the label Harvest in the UK, and Columbia in the US.', ' Co-produced by Bob Ezrin and Gilmour, the album was recorded in 1983, in sessions that took place at Pathé Marconi Studio, in Boulogne-Billancourt, France.', ' Two tracks, \"All Lovers Are Deranged\" and the more radio-friendly \"Love on the Air\", were co-written by Gilmour and his long-time friend Pete Townshend, the main songwriter for The Who (Gilmour composed the music and Townshend wrote the lyrics).', ' The remainder of the tracks are credited solely to Gilmour.', ' In May of the same year, fellow Pink Floyd member Roger Waters released his first official solo album \"The Pros and Cons of Hitch Hiking\".'], ['No Plan B, also known as the Roger Daltrey Band, is a rock band assembled by The Who singer Roger Daltrey to support performances and tours outside of The Who.', \" Daltrey's band includes Simon Townshend (brother of Pete Townshend) on guitar and vocals, Frank Simes on lead guitar, Jon Button on bass, Loren Gold on keyboards and Scott Devours on drums.\", ' Frank Simes is also Musical Director for the band.', ' In a 2010 appearance on \"The Alan Titchmarsh Show\", Daltrey called the band No Plan B.']]}",
         "Roger Daltrey and David Gilmour, have what occupation, nationality in common?",
         "English singer",
         "guitarist"
        ]
       ],
       "shape": {
        "columns": 4,
        "rows": 20
       }
      },
      "text/html": [
       "<div>\n",
       "<style scoped>\n",
       "    .dataframe tbody tr th:only-of-type {\n",
       "        vertical-align: middle;\n",
       "    }\n",
       "\n",
       "    .dataframe tbody tr th {\n",
       "        vertical-align: top;\n",
       "    }\n",
       "\n",
       "    .dataframe thead th {\n",
       "        text-align: right;\n",
       "    }\n",
       "</style>\n",
       "<table border=\"1\" class=\"dataframe\">\n",
       "  <thead>\n",
       "    <tr style=\"text-align: right;\">\n",
       "      <th></th>\n",
       "      <th>context</th>\n",
       "      <th>question</th>\n",
       "      <th>answer</th>\n",
       "      <th>pred_answer</th>\n",
       "    </tr>\n",
       "  </thead>\n",
       "  <tbody>\n",
       "    <tr>\n",
       "      <th>5691</th>\n",
       "      <td>{'title': ['Cyathea geluensis', 'Carpobrotus',...</td>\n",
       "      <td>Are Cyathea and Carpobrotus similar plants?</td>\n",
       "      <td>no</td>\n",
       "      <td>bi- or tripinnate</td>\n",
       "    </tr>\n",
       "    <tr>\n",
       "      <th>5705</th>\n",
       "      <td>{'title': ['Hong Sung-taek', 'Willie Benegas',...</td>\n",
       "      <td>What do The Man Who Skied Down Everest and Inn...</td>\n",
       "      <td>documentary</td>\n",
       "      <td>Rob DesLauriers</td>\n",
       "    </tr>\n",
       "    <tr>\n",
       "      <th>5754</th>\n",
       "      <td>{'title': ['Cheryl Wilson', 'League of America...</td>\n",
       "      <td>Gândul Mâței and KMFDM, are what type of music...</td>\n",
       "      <td>band</td>\n",
       "      <td>industrial</td>\n",
       "    </tr>\n",
       "    <tr>\n",
       "      <th>5772</th>\n",
       "      <td>{'title': ['Aicha Elbasri', 'Saint Genet', 'Te...</td>\n",
       "      <td>Robert Lepage and Jean Genet, are of which nat...</td>\n",
       "      <td>French</td>\n",
       "      <td>French</td>\n",
       "    </tr>\n",
       "    <tr>\n",
       "      <th>5797</th>\n",
       "      <td>{'title': ['Voyager One (band)', 'Crank (song)...</td>\n",
       "      <td>how is Catherine Wheel and The Go-Betweens rel...</td>\n",
       "      <td>rock band</td>\n",
       "      <td>The breaking wheel</td>\n",
       "    </tr>\n",
       "    <tr>\n",
       "      <th>5808</th>\n",
       "      <td>{'title': ['Why Girls Love Sailors', 'Mummy's ...</td>\n",
       "      <td>How are Fred Guiol and Stuart Paton alike?</td>\n",
       "      <td>film director and screenwriter.</td>\n",
       "      <td>never well-regarded</td>\n",
       "    </tr>\n",
       "    <tr>\n",
       "      <th>5815</th>\n",
       "      <td>{'title': ['Out of My System', 'Feargal Sharke...</td>\n",
       "      <td>What do Constantine Maroulis and Feargal Shark...</td>\n",
       "      <td>singer</td>\n",
       "      <td>If This is Love</td>\n",
       "    </tr>\n",
       "    <tr>\n",
       "      <th>5857</th>\n",
       "      <td>{'title': ['Arthur C. Clarke's Mysterious Univ...</td>\n",
       "      <td>Both Arthur C. Clarke and John Richardson are ...</td>\n",
       "      <td>The New Observer</td>\n",
       "      <td>The New Observer</td>\n",
       "    </tr>\n",
       "    <tr>\n",
       "      <th>5935</th>\n",
       "      <td>{'title': ['Nembe Creek Trunk Line', 'Sweet Cr...</td>\n",
       "      <td>What is a documentary film by Sandy Cioffi abo...</td>\n",
       "      <td>Sweet Crude</td>\n",
       "      <td>['Orthodox Jewish attitudes to homosexuality</td>\n",
       "    </tr>\n",
       "    <tr>\n",
       "      <th>6064</th>\n",
       "      <td>{'title': ['Eriogonum', 'Plant Life Records', ...</td>\n",
       "      <td>Which genus of plant life is more palm like, P...</td>\n",
       "      <td>Pandanus is a genus of monocots with some 750 ...</td>\n",
       "      <td>Sago palms</td>\n",
       "    </tr>\n",
       "    <tr>\n",
       "      <th>6069</th>\n",
       "      <td>{'title': ['Bessera', 'Sesleria', 'Sesleria ca...</td>\n",
       "      <td>Both Bessera and Sesleria are?</td>\n",
       "      <td>genus of perennial plants</td>\n",
       "      <td>Sesleria</td>\n",
       "    </tr>\n",
       "    <tr>\n",
       "      <th>6117</th>\n",
       "      <td>{'title': ['Bates (Kent cricketer)', 'Ross Com...</td>\n",
       "      <td>What do Jimmie Ross and Jas Mann have in common?</td>\n",
       "      <td>singer</td>\n",
       "      <td>common carriers</td>\n",
       "    </tr>\n",
       "    <tr>\n",
       "      <th>6122</th>\n",
       "      <td>{'title': ['Privet', 'Stellacyanin', 'Oleaceae...</td>\n",
       "      <td>Privet and Hermannia, are which type of plants?</td>\n",
       "      <td>flowering</td>\n",
       "      <td>flowering</td>\n",
       "    </tr>\n",
       "    <tr>\n",
       "      <th>6147</th>\n",
       "      <td>{'title': ['Duvalia', 'Heterotaxis', 'Maxillar...</td>\n",
       "      <td>Duvalia and Maxillaria, are a genus of orchids?</td>\n",
       "      <td>no</td>\n",
       "      <td>diverse genus, with very different morphologic...</td>\n",
       "    </tr>\n",
       "    <tr>\n",
       "      <th>6180</th>\n",
       "      <td>{'title': ['Guy McAfee', 'Dennis Hof', 'Jeff R...</td>\n",
       "      <td>Born into Brothels and Sharkwater, are of whic...</td>\n",
       "      <td>documentary</td>\n",
       "      <td>truth</td>\n",
       "    </tr>\n",
       "    <tr>\n",
       "      <th>6215</th>\n",
       "      <td>{'title': ['White Fang (1991 film)', 'Summer L...</td>\n",
       "      <td>Randal Kleiser and Ken Kwapis, are American, a...</td>\n",
       "      <td>film director</td>\n",
       "      <td>single-camera sitcom in the 1990s and 2000s</td>\n",
       "    </tr>\n",
       "    <tr>\n",
       "      <th>6308</th>\n",
       "      <td>{'title': ['Friedman Unit', 'Echo Hill Ranch',...</td>\n",
       "      <td>Are Helen Fielding and Thomas Friedman both wr...</td>\n",
       "      <td>yes</td>\n",
       "      <td>embrace the clean energy and green technology ...</td>\n",
       "    </tr>\n",
       "    <tr>\n",
       "      <th>6312</th>\n",
       "      <td>{'title': ['IAR Graduate Conference', 'Asia Pa...</td>\n",
       "      <td>Which university was founded first, Asia Pacif...</td>\n",
       "      <td>It was established in 1904</td>\n",
       "      <td>an intermediate school</td>\n",
       "    </tr>\n",
       "    <tr>\n",
       "      <th>6348</th>\n",
       "      <td>{'title': ['Black Sunday (1960 film)', 'Lamber...</td>\n",
       "      <td>What is similar about Mario Bava and Ben Holmes?</td>\n",
       "      <td>director and screenwriter</td>\n",
       "      <td>Nikolai Gogol's short story \"Viy\",</td>\n",
       "    </tr>\n",
       "    <tr>\n",
       "      <th>6371</th>\n",
       "      <td>{'title': ['David Gilmour (album)', 'Free Me (...</td>\n",
       "      <td>Roger Daltrey and David Gilmour, have what occ...</td>\n",
       "      <td>English singer</td>\n",
       "      <td>guitarist</td>\n",
       "    </tr>\n",
       "  </tbody>\n",
       "</table>\n",
       "</div>"
      ],
      "text/plain": [
       "                                                context  \\\n",
       "5691  {'title': ['Cyathea geluensis', 'Carpobrotus',...   \n",
       "5705  {'title': ['Hong Sung-taek', 'Willie Benegas',...   \n",
       "5754  {'title': ['Cheryl Wilson', 'League of America...   \n",
       "5772  {'title': ['Aicha Elbasri', 'Saint Genet', 'Te...   \n",
       "5797  {'title': ['Voyager One (band)', 'Crank (song)...   \n",
       "5808  {'title': ['Why Girls Love Sailors', 'Mummy's ...   \n",
       "5815  {'title': ['Out of My System', 'Feargal Sharke...   \n",
       "5857  {'title': ['Arthur C. Clarke's Mysterious Univ...   \n",
       "5935  {'title': ['Nembe Creek Trunk Line', 'Sweet Cr...   \n",
       "6064  {'title': ['Eriogonum', 'Plant Life Records', ...   \n",
       "6069  {'title': ['Bessera', 'Sesleria', 'Sesleria ca...   \n",
       "6117  {'title': ['Bates (Kent cricketer)', 'Ross Com...   \n",
       "6122  {'title': ['Privet', 'Stellacyanin', 'Oleaceae...   \n",
       "6147  {'title': ['Duvalia', 'Heterotaxis', 'Maxillar...   \n",
       "6180  {'title': ['Guy McAfee', 'Dennis Hof', 'Jeff R...   \n",
       "6215  {'title': ['White Fang (1991 film)', 'Summer L...   \n",
       "6308  {'title': ['Friedman Unit', 'Echo Hill Ranch',...   \n",
       "6312  {'title': ['IAR Graduate Conference', 'Asia Pa...   \n",
       "6348  {'title': ['Black Sunday (1960 film)', 'Lamber...   \n",
       "6371  {'title': ['David Gilmour (album)', 'Free Me (...   \n",
       "\n",
       "                                               question  \\\n",
       "5691        Are Cyathea and Carpobrotus similar plants?   \n",
       "5705  What do The Man Who Skied Down Everest and Inn...   \n",
       "5754  Gândul Mâței and KMFDM, are what type of music...   \n",
       "5772  Robert Lepage and Jean Genet, are of which nat...   \n",
       "5797  how is Catherine Wheel and The Go-Betweens rel...   \n",
       "5808         How are Fred Guiol and Stuart Paton alike?   \n",
       "5815  What do Constantine Maroulis and Feargal Shark...   \n",
       "5857  Both Arthur C. Clarke and John Richardson are ...   \n",
       "5935  What is a documentary film by Sandy Cioffi abo...   \n",
       "6064  Which genus of plant life is more palm like, P...   \n",
       "6069                     Both Bessera and Sesleria are?   \n",
       "6117   What do Jimmie Ross and Jas Mann have in common?   \n",
       "6122    Privet and Hermannia, are which type of plants?   \n",
       "6147    Duvalia and Maxillaria, are a genus of orchids?   \n",
       "6180  Born into Brothels and Sharkwater, are of whic...   \n",
       "6215  Randal Kleiser and Ken Kwapis, are American, a...   \n",
       "6308  Are Helen Fielding and Thomas Friedman both wr...   \n",
       "6312  Which university was founded first, Asia Pacif...   \n",
       "6348   What is similar about Mario Bava and Ben Holmes?   \n",
       "6371  Roger Daltrey and David Gilmour, have what occ...   \n",
       "\n",
       "                                                 answer  \\\n",
       "5691                                                 no   \n",
       "5705                                        documentary   \n",
       "5754                                               band   \n",
       "5772                                             French   \n",
       "5797                                          rock band   \n",
       "5808                    film director and screenwriter.   \n",
       "5815                                             singer   \n",
       "5857                                   The New Observer   \n",
       "5935                                        Sweet Crude   \n",
       "6064  Pandanus is a genus of monocots with some 750 ...   \n",
       "6069                          genus of perennial plants   \n",
       "6117                                             singer   \n",
       "6122                                          flowering   \n",
       "6147                                                 no   \n",
       "6180                                        documentary   \n",
       "6215                                      film director   \n",
       "6308                                                yes   \n",
       "6312                         It was established in 1904   \n",
       "6348                          director and screenwriter   \n",
       "6371                                     English singer   \n",
       "\n",
       "                                            pred_answer  \n",
       "5691                                  bi- or tripinnate  \n",
       "5705                                    Rob DesLauriers  \n",
       "5754                                         industrial  \n",
       "5772                                             French  \n",
       "5797                                 The breaking wheel  \n",
       "5808                                never well-regarded  \n",
       "5815                                    If This is Love  \n",
       "5857                                   The New Observer  \n",
       "5935       ['Orthodox Jewish attitudes to homosexuality  \n",
       "6064                                         Sago palms  \n",
       "6069                                           Sesleria  \n",
       "6117                                    common carriers  \n",
       "6122                                          flowering  \n",
       "6147  diverse genus, with very different morphologic...  \n",
       "6180                                              truth  \n",
       "6215        single-camera sitcom in the 1990s and 2000s  \n",
       "6308  embrace the clean energy and green technology ...  \n",
       "6312                             an intermediate school  \n",
       "6348                 Nikolai Gogol's short story \"Viy\",  \n",
       "6371                                          guitarist  "
      ]
     },
     "execution_count": 36,
     "metadata": {},
     "output_type": "execute_result"
    }
   ],
   "source": [
    "temp[['context', 'question', 'answer', 'pred_answer']]"
   ]
  },
  {
   "cell_type": "code",
   "execution_count": null,
   "id": "18bd9a1c",
   "metadata": {},
   "outputs": [],
   "source": []
  }
 ],
 "metadata": {
  "kernelspec": {
   "display_name": "Python (base_venv)",
   "language": "python",
   "name": "base_venv"
  },
  "language_info": {
   "codemirror_mode": {
    "name": "ipython",
    "version": 3
   },
   "file_extension": ".py",
   "mimetype": "text/x-python",
   "name": "python",
   "nbconvert_exporter": "python",
   "pygments_lexer": "ipython3",
   "version": "3.11.2"
  }
 },
 "nbformat": 4,
 "nbformat_minor": 5
}
